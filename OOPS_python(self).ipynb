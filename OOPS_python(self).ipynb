{
 "cells": [
  {
   "cell_type": "code",
   "execution_count": 1,
   "id": "d2320715-bc19-45fa-b517-591f94b4eeb7",
   "metadata": {},
   "outputs": [],
   "source": [
    "# create a bank account class"
   ]
  },
  {
   "cell_type": "markdown",
   "id": "bd7379e1-f70f-4cca-aec5-def9fbba7ca7",
   "metadata": {},
   "source": [
    "task:       \n",
    "define a BankAccount class.       \n",
    "Add attributes for account holder name and balance.     \n",
    "add methods to deposit,withdraw and check balance."
   ]
  },
  {
   "cell_type": "code",
   "execution_count": 3,
   "id": "eff626ad-0842-41a0-8714-32a4bc8fda74",
   "metadata": {},
   "outputs": [
    {
     "name": "stdout",
     "output_type": "stream",
     "text": [
      "500 deposited. New balance:1500\n",
      "300 withrawn. Remaining balance:1200\n",
      "Account balance for ankit: 1200\n"
     ]
    }
   ],
   "source": [
    "class BankAccount:\n",
    "    def __init__(self,holder_name,balance=0):\n",
    "        self.holder_name=holder_name\n",
    "        self.balance=balance\n",
    "\n",
    "    def deposit(self,amount):\n",
    "        self.balance += amount\n",
    "        print(f'{amount} deposited. New balance:{self.balance}')\n",
    "\n",
    "    def withdraw(self,amount):\n",
    "        if amount <= self.balance:\n",
    "            self.balance -= amount\n",
    "            print(f'{amount} withrawn. Remaining balance:{self.balance}')\n",
    "        else:\n",
    "            print('insufficient funds!')\n",
    "            \n",
    "    def check_balance(self):\n",
    "        return f'Account balance for {self.holder_name}: {self.balance}'\n",
    "\n",
    "# Test the BankAccount class\n",
    "account= BankAccount('ankit',1000)\n",
    "account.deposit(500)\n",
    "account.withdraw(300)\n",
    "print(account.check_balance())\n",
    "    \n",
    "        "
   ]
  },
  {
   "cell_type": "code",
   "execution_count": null,
   "id": "df19f877-23e2-4c81-a34a-03c73a5c8434",
   "metadata": {},
   "outputs": [],
   "source": []
  },
  {
   "cell_type": "code",
   "execution_count": null,
   "id": "523a6e1b-7fb9-486f-8b81-2d1bd9eff62a",
   "metadata": {},
   "outputs": [],
   "source": []
  },
  {
   "cell_type": "code",
   "execution_count": 4,
   "id": "966ec1a8-abc6-4458-bde8-f69ab4b3c83e",
   "metadata": {},
   "outputs": [],
   "source": [
    "# create a student class"
   ]
  },
  {
   "cell_type": "markdown",
   "id": "1e67f410-5064-4e88-82f7-a8541f0a1593",
   "metadata": {},
   "source": [
    "task:        \n",
    "Define a student class with attributes like name, age and marks.                  \n",
    "Add a method to display the student details.                    \n",
    "Add a method to check if the student passed(marks>=40)"
   ]
  },
  {
   "cell_type": "code",
   "execution_count": 10,
   "id": "942895ca-c109-489b-934e-0ceba8e6de2b",
   "metadata": {},
   "outputs": [
    {
     "name": "stdout",
     "output_type": "stream",
     "text": [
      "Name: ankit, age:20, marks:89\n"
     ]
    },
    {
     "data": {
      "text/plain": [
       "'Passed'"
      ]
     },
     "execution_count": 10,
     "metadata": {},
     "output_type": "execute_result"
    }
   ],
   "source": [
    "class Student:\n",
    "    def __init__(self,name,age,marks):\n",
    "        self.name=name\n",
    "        self.age=age\n",
    "        self.marks=marks\n",
    "\n",
    "    def display_details(self):\n",
    "        print(f'Name: {self.name}, age:{self.age}, marks:{self.marks}')\n",
    "\n",
    "    def has_passed(self):\n",
    "        if self.marks>=40:\n",
    "            return 'Passed'\n",
    "        else:\n",
    "            return 'Failed'\n",
    "\n",
    "student= Student('ankit',20,89)\n",
    "student.display_details()\n",
    "student.has_passed()"
   ]
  },
  {
   "cell_type": "code",
   "execution_count": null,
   "id": "1d3523f4-d9ca-4755-a8d2-5e1c25b09724",
   "metadata": {},
   "outputs": [],
   "source": []
  },
  {
   "cell_type": "code",
   "execution_count": null,
   "id": "cd6848af-516c-4377-b463-cd6c27ce9a5f",
   "metadata": {},
   "outputs": [],
   "source": []
  },
  {
   "cell_type": "code",
   "execution_count": 11,
   "id": "2779d72b-6526-4cb9-8b29-8c0c2e92534c",
   "metadata": {},
   "outputs": [],
   "source": [
    "# create a library system"
   ]
  },
  {
   "cell_type": "markdown",
   "id": "1a69a84e-25aa-40e0-8ca5-3a96f8048723",
   "metadata": {},
   "source": [
    "task:            \n",
    "define a book class with attributes like title, author and availability.         \n",
    "Add methods to check availability and borrow return the book.           "
   ]
  },
  {
   "cell_type": "code",
   "execution_count": 14,
   "id": "cbd4e111-a2a6-4bcb-9854-d263302fc294",
   "metadata": {},
   "outputs": [
    {
     "name": "stdout",
     "output_type": "stream",
     "text": [
      "you have borrowed Diary of a young girl\n",
      "Diary of a young girl is not available\n",
      "Diary of a young girl has been returned. Thank you!\n"
     ]
    }
   ],
   "source": [
    "class Book:\n",
    "    def __init__(self,title,author):\n",
    "        self.title=title\n",
    "        self.author=author\n",
    "        self.is_available=True\n",
    "\n",
    "    def borrow(self):\n",
    "        if self.is_available:\n",
    "            self.is_available=False\n",
    "            return f'you have borrowed {self.title}'\n",
    "        else:\n",
    "            return f'{self.title} is not available'\n",
    "\n",
    "\n",
    "    def return_book(self):\n",
    "        self.is_available=True\n",
    "        return f'{self.title} has been returned. Thank you!'\n",
    "\n",
    "book1= Book('Diary of a young girl', 'Ann Frank')\n",
    "print(book1.borrow())\n",
    "print(book1.borrow())\n",
    "print(book1.return_book())\n",
    "    "
   ]
  },
  {
   "cell_type": "code",
   "execution_count": null,
   "id": "410b78dd-d74f-4002-86a9-400ae237375e",
   "metadata": {},
   "outputs": [],
   "source": []
  },
  {
   "cell_type": "code",
   "execution_count": null,
   "id": "020f3092-5a58-487f-aadb-5cb37a670b24",
   "metadata": {},
   "outputs": [],
   "source": []
  },
  {
   "cell_type": "code",
   "execution_count": 1,
   "id": "0c17ad7d-74a0-4bc5-a3a2-644887a5a7d7",
   "metadata": {},
   "outputs": [],
   "source": [
    "# Encapsulation"
   ]
  },
  {
   "cell_type": "code",
   "execution_count": 2,
   "id": "36b8b00e-74cb-4c40-a50e-a02eab63786a",
   "metadata": {},
   "outputs": [
    {
     "name": "stdout",
     "output_type": "stream",
     "text": [
      "Red\n",
      "Blue\n"
     ]
    }
   ],
   "source": [
    "class Car:\n",
    "    def __init__(self,color):\n",
    "        self.__color=color  # Private attribute\n",
    "\n",
    "    def set_color(self,color):\n",
    "        self.__color=color  # No additional logic, just setting the value\n",
    "\n",
    "    def get_color(self):\n",
    "        return self.__color  # no additional logic, just returning the value\n",
    "\n",
    "# Usage\n",
    "car=Car('Red')\n",
    "print(car.get_color()) # accessing the color through a getter\n",
    "car.set_color('Blue') # setting the color through a setter\n",
    "print(car.get_color())  # output:blue"
   ]
  },
  {
   "cell_type": "code",
   "execution_count": null,
   "id": "60ab3fa9-1c01-4a88-a6f4-c31da1171eec",
   "metadata": {},
   "outputs": [],
   "source": []
  },
  {
   "cell_type": "code",
   "execution_count": 3,
   "id": "63cbc854-3c10-493d-9d9c-2267986dc59a",
   "metadata": {},
   "outputs": [
    {
     "name": "stdout",
     "output_type": "stream",
     "text": [
      "ankit\n",
      "5000\n",
      "deposit successful! new balance: 6000\n",
      "Withdrawl successful! new balance: 4000\n"
     ]
    }
   ],
   "source": [
    "class BankAccount:\n",
    "    def __init__(self,account_holder,balance):\n",
    "        self.__account_holder=account_holder          # private member\n",
    "        self.__balance=balance                       # private member\n",
    "\n",
    "#Getter for account holder\n",
    "    def get_account_holder(self):\n",
    "        return self.__account_holder\n",
    "\n",
    "# Getter for balance\n",
    "    def get_balance(self):\n",
    "        return self.__balance\n",
    "\n",
    "# Method to deposit money\n",
    "    def deposit(self,amount):\n",
    "        if amount>0:\n",
    "            self.__balance +=amount\n",
    "            return f'deposit successful! new balance: {self.__balance}'\n",
    "        else:\n",
    "            return 'invalid deposit amount!'\n",
    "\n",
    "# method to withdraw money\n",
    "    def withdraw(self,amount):\n",
    "        if amount<= self.__balance:\n",
    "            self.__balance -= amount\n",
    "            return f'Withdrawl successful! new balance: {self.__balance}'\n",
    "\n",
    "        else:\n",
    "            return 'insufficient funds!'\n",
    "\n",
    "# using the class\n",
    "account=BankAccount('ankit', 5000)\n",
    "print(account.get_account_holder())\n",
    "print(account.get_balance())\n",
    "print(account.deposit(1000))\n",
    "print(account.withdraw(2000))\n",
    "\n",
    "# attempt to access private attributes directly (not allowed)\n",
    "#print(account.__balance)  # error: AttributeError"
   ]
  },
  {
   "cell_type": "code",
   "execution_count": null,
   "id": "60debac8-b290-47c8-a204-0417e9b4ab70",
   "metadata": {},
   "outputs": [],
   "source": []
  },
  {
   "cell_type": "code",
   "execution_count": 4,
   "id": "1125a1c5-3f55-4d5d-a037-9a5265a8fb7c",
   "metadata": {},
   "outputs": [
    {
     "name": "stdout",
     "output_type": "stream",
     "text": [
      "ankit\n",
      "85\n",
      "grade updated successfully!\n",
      "90\n",
      "invalid grade! must be between 0 and 100\n"
     ]
    }
   ],
   "source": [
    "class Student:\n",
    "    def __init__(self,name,grade):\n",
    "        self.name=name   # public attribute\n",
    "        self.__grade=grade  # private attribute\n",
    "\n",
    "# getter for grade\n",
    "    def get_grade(self):\n",
    "        return self.__grade\n",
    "\n",
    "# setter for grade (with validation)\n",
    "    def set_grade(self,new_grade):\n",
    "        if 0 <= new_grade <=100:\n",
    "            self.__grade = new_grade\n",
    "            return 'grade updated successfully!'\n",
    "        else:\n",
    "            return 'invalid grade! must be between 0 and 100'\n",
    "\n",
    "# using the calss\n",
    "student= Student('ankit',85)\n",
    "print(student.name)\n",
    "print(student.get_grade())\n",
    "print(student.set_grade(90))\n",
    "print(student.get_grade())\n",
    "# attempt to set an invalid grade\n",
    "print(student.set_grade(138))  # output: invalid grade! must be between 0 and 100\n"
   ]
  },
  {
   "cell_type": "code",
   "execution_count": null,
   "id": "9cd2307c-c447-44de-a78c-1bc949321d5b",
   "metadata": {},
   "outputs": [],
   "source": []
  },
  {
   "cell_type": "code",
   "execution_count": 5,
   "id": "391ff4bb-1c4f-4f1e-ba58-6bb70e13d414",
   "metadata": {},
   "outputs": [],
   "source": [
    "# case study 1: Healthcare System(Patient Record Management)"
   ]
  },
  {
   "cell_type": "markdown",
   "id": "1e3dc6f0-54bc-45d6-ba62-c6ec2a9bccc0",
   "metadata": {},
   "source": [
    "problem: Develop a sysmtem for managing paatient records in a hospital where:           \n",
    "patient details(name, age and medical history) should be private.                \n",
    "only authorized methods can retrive or update medical history.               \n",
    "provide a method to add new medical records whie keeping previous data secure.            "
   ]
  },
  {
   "cell_type": "code",
   "execution_count": null,
   "id": "55403b37-5118-4967-85b7-d52964050885",
   "metadata": {},
   "outputs": [],
   "source": [
    "class Patient:\n",
    "    def __init__(self,name,age):\n",
    "        self.__name=name\n",
    "        self.__age=age\n",
    "        self.__medical_history=[]\n",
    "\n",
    "    def add_medical_record(self,record):\n",
    "        self.__medical_history.append(record)\n",
    "        return f'medical record added for {self.__name}'\n",
    "\n",
    "    def get_medical_history(self):\n",
    "        "
   ]
  }
 ],
 "metadata": {
  "kernelspec": {
   "display_name": "Python 3 (ipykernel)",
   "language": "python",
   "name": "python3"
  },
  "language_info": {
   "codemirror_mode": {
    "name": "ipython",
    "version": 3
   },
   "file_extension": ".py",
   "mimetype": "text/x-python",
   "name": "python",
   "nbconvert_exporter": "python",
   "pygments_lexer": "ipython3",
   "version": "3.12.4"
  }
 },
 "nbformat": 4,
 "nbformat_minor": 5
}
