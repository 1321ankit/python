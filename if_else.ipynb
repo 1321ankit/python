{
 "cells": [
  {
   "cell_type": "code",
   "execution_count": 2,
   "id": "7ef6441a-288f-43e4-8f64-e5c80cf4ae97",
   "metadata": {},
   "outputs": [
    {
     "name": "stdin",
     "output_type": "stream",
     "text": [
      "enter the number 5\n"
     ]
    },
    {
     "name": "stdout",
     "output_type": "stream",
     "text": [
      "integer\n"
     ]
    }
   ],
   "source": [
    "n=int(input('enter the number'))\n",
    "if n>0 or n<0:\n",
    "    print('integer')\n",
    "else:\n",
    "    print('neutral')\n",
    "    "
   ]
  },
  {
   "cell_type": "code",
   "execution_count": 4,
   "id": "14638a59-8360-4a44-b813-5b45cd32ccdc",
   "metadata": {},
   "outputs": [
    {
     "name": "stdin",
     "output_type": "stream",
     "text": [
      "enter the number 0\n"
     ]
    },
    {
     "name": "stdout",
     "output_type": "stream",
     "text": [
      "neutral\n"
     ]
    }
   ],
   "source": [
    "n=int(input('enter the number'))\n",
    "if n>0:\n",
    "    print('positive')\n",
    "elif n<0:\n",
    "    print('negative')\n",
    "else:\n",
    "    print('neutral')"
   ]
  },
  {
   "cell_type": "code",
   "execution_count": 5,
   "id": "ff2356c5-a75b-41ca-b1a3-55fc46783c96",
   "metadata": {},
   "outputs": [
    {
     "name": "stdin",
     "output_type": "stream",
     "text": [
      "enter the number1 3\n",
      "enter the number2 7\n"
     ]
    },
    {
     "name": "stdout",
     "output_type": "stream",
     "text": [
      "y is big\n"
     ]
    }
   ],
   "source": [
    "x=int(input('enter the number1'))\n",
    "y=int(input('enter the number2'))\n",
    "if x>y:\n",
    "    print('x is big')\n",
    "\n",
    "else:\n",
    "    print('y is big')"
   ]
  },
  {
   "cell_type": "code",
   "execution_count": 6,
   "id": "9f0eca5b-76fd-467d-890b-5bdda1cf2743",
   "metadata": {},
   "outputs": [
    {
     "name": "stdin",
     "output_type": "stream",
     "text": [
      "enter the num1 3\n",
      "enter the num2 4\n",
      "enter the num3 5\n"
     ]
    },
    {
     "name": "stdout",
     "output_type": "stream",
     "text": [
      "z is big\n"
     ]
    }
   ],
   "source": [
    "x=int(input('enter the num1'))\n",
    "y=int(input('enter the num2'))\n",
    "z=int(input('enter the num3'))\n",
    "if x>y and x>z:\n",
    "    print('x is big')\n",
    "elif y>x and y>z:\n",
    "    print('y is big')\n",
    "\n",
    "else:\n",
    "    print('z is big')"
   ]
  },
  {
   "cell_type": "code",
   "execution_count": 7,
   "id": "e422a2b9-a494-4377-abd8-db1a548feb4f",
   "metadata": {},
   "outputs": [
    {
     "name": "stdin",
     "output_type": "stream",
     "text": [
      "enter the number 3\n"
     ]
    },
    {
     "name": "stdout",
     "output_type": "stream",
     "text": [
      "odd\n"
     ]
    }
   ],
   "source": [
    "n=int(input('enter the number'))\n",
    "if n%2==0:\n",
    "    print('even')\n",
    "else:\n",
    "    print('odd')"
   ]
  },
  {
   "cell_type": "code",
   "execution_count": 11,
   "id": "1e0c94a9-fc20-4959-8bb2-c17ed727ed5d",
   "metadata": {},
   "outputs": [
    {
     "name": "stdin",
     "output_type": "stream",
     "text": [
      "enter the age 77\n"
     ]
    },
    {
     "name": "stdout",
     "output_type": "stream",
     "text": [
      "out of range\n"
     ]
    }
   ],
   "source": [
    "age=int(input('enter the age'))\n",
    "if age>10 and age<18:\n",
    "    print('young')\n",
    "elif age>=18 and age<=25:\n",
    "    print('adult')\n",
    "elif age >=26 and age<60:\n",
    "    print('citizen')\n",
    "else:\n",
    "    print('out of range')"
   ]
  },
  {
   "cell_type": "code",
   "execution_count": null,
   "id": "936ee92e-c881-4319-ab1b-61799abca5da",
   "metadata": {},
   "outputs": [],
   "source": []
  }
 ],
 "metadata": {
  "kernelspec": {
   "display_name": "Python 3 (ipykernel)",
   "language": "python",
   "name": "python3"
  },
  "language_info": {
   "codemirror_mode": {
    "name": "ipython",
    "version": 3
   },
   "file_extension": ".py",
   "mimetype": "text/x-python",
   "name": "python",
   "nbconvert_exporter": "python",
   "pygments_lexer": "ipython3",
   "version": "3.12.4"
  }
 },
 "nbformat": 4,
 "nbformat_minor": 5
}
