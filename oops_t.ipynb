{
 "cells": [
  {
   "cell_type": "code",
   "execution_count": 1,
   "id": "c5ff3826-dd74-455d-a8d2-47af0a3b3129",
   "metadata": {},
   "outputs": [],
   "source": [
    "class HouseBlueprint:\n",
    "    owner='ankit'\n",
    "    location='jaipur'\n",
    "    "
   ]
  },
  {
   "cell_type": "code",
   "execution_count": 8,
   "id": "bceea210-8a33-4338-924a-e7da53e4f991",
   "metadata": {},
   "outputs": [
    {
     "name": "stdout",
     "output_type": "stream",
     "text": [
      "ankit jaipur\n"
     ]
    }
   ],
   "source": [
    "print(HouseBlueprint.owner, HouseBlueprint.location)"
   ]
  },
  {
   "cell_type": "code",
   "execution_count": 2,
   "id": "c5e2face-1762-40ce-aa29-6585ff913bfb",
   "metadata": {},
   "outputs": [
    {
     "name": "stdout",
     "output_type": "stream",
     "text": [
      "jaipur\n"
     ]
    }
   ],
   "source": [
    "# object = class()\n",
    "house1 = HouseBlueprint()\n",
    "print(house1.location)  # object."
   ]
  },
  {
   "cell_type": "code",
   "execution_count": 4,
   "id": "00064918-2c98-44e0-8808-4a477e3f40d8",
   "metadata": {},
   "outputs": [
    {
     "name": "stdout",
     "output_type": "stream",
     "text": [
      "jaipur\n"
     ]
    }
   ],
   "source": [
    "print(house1.location)"
   ]
  },
  {
   "cell_type": "code",
   "execution_count": 5,
   "id": "0d2f1d10-d79f-4831-b98c-a88d08757a7d",
   "metadata": {},
   "outputs": [
    {
     "name": "stdout",
     "output_type": "stream",
     "text": [
      "jaipur\n"
     ]
    }
   ],
   "source": [
    "house2= HouseBlueprint()\n",
    "print(house2.location)"
   ]
  },
  {
   "cell_type": "code",
   "execution_count": 10,
   "id": "3d1ad21c-6fea-4fca-9b61-bddb8fc808cc",
   "metadata": {},
   "outputs": [
    {
     "name": "stdout",
     "output_type": "stream",
     "text": [
      "kidnap hone se phele: ankit\n",
      "kidnap hone ke baad: harsh\n"
     ]
    }
   ],
   "source": [
    "house1=HouseBlueprint()\n",
    "print(\"kidnap hone se phele:\",house1.owner)\n",
    "house1.owner='harsh'\n",
    "print('kidnap hone ke baad:',house1.owner)"
   ]
  },
  {
   "cell_type": "code",
   "execution_count": 13,
   "id": "ac154001-1519-4068-a4bd-21924f04e05e",
   "metadata": {},
   "outputs": [
    {
     "name": "stdout",
     "output_type": "stream",
     "text": [
      "kidnap hone se phele: ankit\n",
      "kidnap hone ke baad: ankit\n"
     ]
    }
   ],
   "source": [
    "house1=HouseBlueprint()\n",
    "print(\"kidnap hone se phele:\",HouseBlueprint.owner)\n",
    "house1.owner='harsh'\n",
    "print('kidnap hone ke baad:',HouseBlueprint.owner)"
   ]
  },
  {
   "cell_type": "code",
   "execution_count": 14,
   "id": "e0642fe2-cffb-4948-ac4e-181f4b54652c",
   "metadata": {},
   "outputs": [],
   "source": [
    "class HouseBlueprint:\n",
    "    color='white'\n",
    "    def info(self):\n",
    "        print('my house color is:',self.color)"
   ]
  },
  {
   "cell_type": "code",
   "execution_count": 15,
   "id": "3e3bb21e-da46-4c5a-96cc-2ea3879868bf",
   "metadata": {},
   "outputs": [
    {
     "name": "stdout",
     "output_type": "stream",
     "text": [
      "my house color is: white\n"
     ]
    }
   ],
   "source": [
    "h1=HouseBlueprint()\n",
    "h1.info()"
   ]
  },
  {
   "cell_type": "code",
   "execution_count": 16,
   "id": "60d35c61-d37a-460d-a368-a8d3d691bef8",
   "metadata": {},
   "outputs": [
    {
     "name": "stdout",
     "output_type": "stream",
     "text": [
      "my house color is: light green\n"
     ]
    }
   ],
   "source": [
    "h1=HouseBlueprint()\n",
    "h1.color='light green'\n",
    "h1.info()"
   ]
  },
  {
   "cell_type": "code",
   "execution_count": 18,
   "id": "7b9a5918-8947-4b14-8df8-d11e1b3b19fc",
   "metadata": {},
   "outputs": [],
   "source": [
    "# default constructor\n",
    "class HouseBlueprint:\n",
    "    color='white'\n",
    "\n"
   ]
  },
  {
   "cell_type": "code",
   "execution_count": 24,
   "id": "3f68238c-9084-40db-ba5c-f8e086d103f2",
   "metadata": {},
   "outputs": [],
   "source": [
    "# parameterised constructor\n",
    "class HouseBlueprint:\n",
    "    def __init__(self):\n",
    "        print('constructor ko call kia',self)"
   ]
  },
  {
   "cell_type": "code",
   "execution_count": 25,
   "id": "dd9bd7b6-a5c8-4a1d-9662-07e7377c641f",
   "metadata": {},
   "outputs": [
    {
     "name": "stdout",
     "output_type": "stream",
     "text": [
      "constructor ko call kia <__main__.HouseBlueprint object at 0x000001DB8157D9D0>\n",
      "<__main__.HouseBlueprint object at 0x000001DB8157D9D0>\n"
     ]
    }
   ],
   "source": [
    "house1=HouseBlueprint()\n",
    "print(house1)"
   ]
  },
  {
   "cell_type": "code",
   "execution_count": 26,
   "id": "9c3a87c0-a628-409c-8845-28683cc09c29",
   "metadata": {},
   "outputs": [
    {
     "name": "stdout",
     "output_type": "stream",
     "text": [
      "constructor ko call kia <__main__.HouseBlueprint object at 0x000001DB815C6E10>\n",
      "<__main__.HouseBlueprint object at 0x000001DB815C6E10>\n"
     ]
    }
   ],
   "source": [
    "house2=HouseBlueprint()\n",
    "print(house2)"
   ]
  },
  {
   "cell_type": "code",
   "execution_count": null,
   "id": "37eadd42-acab-4e34-84f3-2dcf812f611c",
   "metadata": {},
   "outputs": [],
   "source": []
  },
  {
   "cell_type": "code",
   "execution_count": 27,
   "id": "8c9e4829-66b7-48a2-9866-f0dc4f7f88f9",
   "metadata": {},
   "outputs": [
    {
     "name": "stdout",
     "output_type": "stream",
     "text": [
      "yellow\n"
     ]
    }
   ],
   "source": [
    "# parameterised constructor\n",
    "class HouseBlueprint:\n",
    "    def __init__(self,x):\n",
    "        self.color=x\n",
    "\n",
    "h1=HouseBlueprint('yellow')\n",
    "print(h1.color)\n"
   ]
  },
  {
   "cell_type": "code",
   "execution_count": 29,
   "id": "744d243e-4116-4840-9eae-64dcc9e6a230",
   "metadata": {},
   "outputs": [
    {
     "name": "stdout",
     "output_type": "stream",
     "text": [
      "blue\n"
     ]
    }
   ],
   "source": [
    "\n",
    "h2=HouseBlueprint('blue')\n",
    "print(h2.color)"
   ]
  },
  {
   "cell_type": "code",
   "execution_count": 31,
   "id": "bea4a34b-b85e-4f49-a3c2-da376c029ac4",
   "metadata": {},
   "outputs": [
    {
     "name": "stdout",
     "output_type": "stream",
     "text": [
      "1\n",
      "ankit\n",
      "ankit@123\n"
     ]
    }
   ],
   "source": [
    "class Employees:\n",
    "    def __init__(self,empid,emp_name,email):\n",
    "        self.empid=empid\n",
    "        self.emp_name=emp_name\n",
    "        self.email=email\n",
    "\n",
    "Emp=Employees(1,'ankit','ankit@123')\n",
    "print(Emp.empid)\n",
    "print(Emp.emp_name)\n",
    "print(Emp.email)\n",
    "    "
   ]
  },
  {
   "cell_type": "code",
   "execution_count": null,
   "id": "2d36313f-d683-4c42-a73c-4ec6f093c385",
   "metadata": {},
   "outputs": [],
   "source": []
  },
  {
   "cell_type": "code",
   "execution_count": 13,
   "id": "f6abdcf4-6610-499b-8183-d9c1506d7608",
   "metadata": {},
   "outputs": [],
   "source": [
    "class HouseBlueprint:\n",
    "    def __init__(self,x,amount):\n",
    "        self.color=x\n",
    "        self.price=amount\n",
    "    def houseprice(self):\n",
    "        print('house price is:',self.price)\n",
    "\n",
    "\n"
   ]
  },
  {
   "cell_type": "code",
   "execution_count": 14,
   "id": "be8f1b22-37f7-4137-a4b6-9b3a829723e0",
   "metadata": {},
   "outputs": [
    {
     "name": "stdout",
     "output_type": "stream",
     "text": [
      "house price is: 500000\n"
     ]
    }
   ],
   "source": [
    "h1=HouseBlueprint('yellow',500000)\n",
    "h1.houseprice()"
   ]
  },
  {
   "cell_type": "code",
   "execution_count": 15,
   "id": "c29cf69f-0cf7-46f5-bbb2-f36e661ab711",
   "metadata": {},
   "outputs": [
    {
     "name": "stdout",
     "output_type": "stream",
     "text": [
      "house price is: 800000\n"
     ]
    }
   ],
   "source": [
    "h2=HouseBlueprint('white',800000)\n",
    "h2.houseprice()"
   ]
  },
  {
   "cell_type": "code",
   "execution_count": null,
   "id": "b1d1fb1c-b25c-4682-9789-bdd81e1a60f8",
   "metadata": {},
   "outputs": [],
   "source": []
  },
  {
   "cell_type": "code",
   "execution_count": null,
   "id": "e48f5aab-9468-49dc-a9f8-c949e86187c5",
   "metadata": {},
   "outputs": [],
   "source": [
    "# count the occurance"
   ]
  },
  {
   "cell_type": "code",
   "execution_count": 16,
   "id": "98a674ee-b075-4331-bc44-3f09f7b6e5c3",
   "metadata": {},
   "outputs": [],
   "source": [
    "class student:\n",
    "    count=0   # class variable\n",
    "    def __init__ (self):  \n",
    "        self.count+=1       # increament is done in class variable that cannot be done by object.\n",
    "        print(self.count)\n",
    "        \n"
   ]
  },
  {
   "cell_type": "code",
   "execution_count": 17,
   "id": "ad7ca64d-d7d3-40ab-844f-87a40b730714",
   "metadata": {},
   "outputs": [
    {
     "name": "stdout",
     "output_type": "stream",
     "text": [
      "1\n"
     ]
    }
   ],
   "source": [
    "stu=student()\n"
   ]
  },
  {
   "cell_type": "code",
   "execution_count": 18,
   "id": "8189f5e7-f041-4ea5-9e72-f9eabc0a6559",
   "metadata": {},
   "outputs": [
    {
     "name": "stdout",
     "output_type": "stream",
     "text": [
      "1\n"
     ]
    }
   ],
   "source": [
    "stu2=student()"
   ]
  },
  {
   "cell_type": "code",
   "execution_count": 19,
   "id": "b552baf6-da2e-46a3-a290-0b4057aabb38",
   "metadata": {},
   "outputs": [],
   "source": [
    "class student:\n",
    "    count=0   # class variable\n",
    "    def __init__ (self):  \n",
    "        student.count+=1    # increament is done in class variable that can be done by class only.\n",
    "        print(self.count)"
   ]
  },
  {
   "cell_type": "code",
   "execution_count": 20,
   "id": "d55ca05f-2780-4d44-bfdb-a0a4bb28b25b",
   "metadata": {},
   "outputs": [
    {
     "name": "stdout",
     "output_type": "stream",
     "text": [
      "1\n"
     ]
    }
   ],
   "source": [
    "stu=student()"
   ]
  },
  {
   "cell_type": "code",
   "execution_count": 21,
   "id": "069d861b-2d72-4b2d-a84f-20e69942cbec",
   "metadata": {},
   "outputs": [
    {
     "name": "stdout",
     "output_type": "stream",
     "text": [
      "2\n"
     ]
    }
   ],
   "source": [
    "stu2=student()"
   ]
  },
  {
   "cell_type": "code",
   "execution_count": null,
   "id": "b0a14561-3571-43c6-ab92-ff94fe78e4e9",
   "metadata": {},
   "outputs": [],
   "source": []
  },
  {
   "cell_type": "markdown",
   "id": "ea63da1b-9e85-4b3c-839b-28fded7d606d",
   "metadata": {},
   "source": [
    "# Inheritance"
   ]
  },
  {
   "cell_type": "code",
   "execution_count": 2,
   "id": "18e730a0-398d-49e1-abf1-fc6901187349",
   "metadata": {},
   "outputs": [],
   "source": [
    "class studentparent: # parent class // base class\n",
    "    bankaccount=500"
   ]
  },
  {
   "cell_type": "code",
   "execution_count": 4,
   "id": "f23c23c9-4062-4bad-bffd-08da474cd8ce",
   "metadata": {},
   "outputs": [
    {
     "name": "stdout",
     "output_type": "stream",
     "text": [
      "0\n",
      "490\n"
     ]
    }
   ],
   "source": [
    "class student(studentparent):  # child class // derived class\n",
    "    fee=0\n",
    "\n",
    "s1=student()\n",
    "print(s1.fee)\n",
    "s1.bankaccount-=10\n",
    "print(s1.bankaccount)"
   ]
  },
  {
   "cell_type": "code",
   "execution_count": null,
   "id": "2f5f32ac-5d14-43c4-bf5a-ec0d24dc3782",
   "metadata": {},
   "outputs": [],
   "source": []
  },
  {
   "cell_type": "code",
   "execution_count": 29,
   "id": "65652812-b972-4497-b1bc-7d193b459a02",
   "metadata": {},
   "outputs": [],
   "source": [
    "class ZomatoDelivery:\n",
    "    def __init__(self,id,name,email):\n",
    "        self.id = id\n",
    "        self.name = name\n",
    "        self.email = email\n",
    "\n",
    "    def info(self):\n",
    "        print(f\"info is {self.name} and id is {self.id}\")"
   ]
  },
  {
   "cell_type": "code",
   "execution_count": 30,
   "id": "cf8b6c0b-80ae-46e3-acee-6450e7c18a70",
   "metadata": {},
   "outputs": [
    {
     "name": "stdout",
     "output_type": "stream",
     "text": [
      "info is naina and id is 19\n"
     ]
    }
   ],
   "source": [
    "zd1 = ZomatoDelivery(19,'naina','naina@gmail.com')\n",
    "zd1.info()"
   ]
  },
  {
   "cell_type": "code",
   "execution_count": 32,
   "id": "8434527c-e14c-433d-a43c-4544d151751c",
   "metadata": {},
   "outputs": [
    {
     "data": {
      "text/plain": [
       "'tushar'"
      ]
     },
     "execution_count": 32,
     "metadata": {},
     "output_type": "execute_result"
    }
   ],
   "source": [
    "class ZomatoCustomer(ZomatoDelivery):\n",
    "    def __init__(self,x,y,z):\n",
    "        super().__init__(x,y,z)\n",
    "\n",
    "customer1=ZomatoCustomer(1909,'tushar','tushar@gmail.com')\n",
    "customer1.name"
   ]
  },
  {
   "cell_type": "code",
   "execution_count": null,
   "id": "82ccb3bd-15a8-4c01-90f3-7ddc37a447f1",
   "metadata": {},
   "outputs": [],
   "source": []
  },
  {
   "cell_type": "code",
   "execution_count": 2,
   "id": "6ca3b4bf-494e-4b12-ad26-477069830066",
   "metadata": {},
   "outputs": [],
   "source": [
    "class parent:\n",
    "    id=10\n",
    "\n",
    "class child(parent):\n",
    "    def __init__(self):\n",
    "        print(self.id)\n",
    "        print(parent.id)"
   ]
  },
  {
   "cell_type": "code",
   "execution_count": 4,
   "id": "c5352ef3-3332-4941-9238-0f3ba5e850bd",
   "metadata": {},
   "outputs": [
    {
     "name": "stdout",
     "output_type": "stream",
     "text": [
      "10\n",
      "10\n"
     ]
    }
   ],
   "source": [
    "c1=child()\n"
   ]
  },
  {
   "cell_type": "code",
   "execution_count": 5,
   "id": "93adf1f7-3348-498f-9fd2-a154de363341",
   "metadata": {},
   "outputs": [],
   "source": [
    "# single level\n",
    "# multiple\n",
    "# multi-level\n",
    "# hierachal\n",
    "# hybrid"
   ]
  },
  {
   "cell_type": "code",
   "execution_count": 8,
   "id": "aa45f870-9491-4ad8-a24f-db336737f53e",
   "metadata": {},
   "outputs": [],
   "source": [
    "# multi-level\n",
    "class gp:\n",
    "    amount=500    # class variable\n",
    "\n",
    "class father(gp):\n",
    "    business=10000   # class variable\n",
    "\n",
    "class child(father):\n",
    "     spend=5000       # class variable\n",
    "    "
   ]
  },
  {
   "cell_type": "code",
   "execution_count": 15,
   "id": "41d1930a-266d-4270-be78-8e6a357b0163",
   "metadata": {},
   "outputs": [
    {
     "name": "stdout",
     "output_type": "stream",
     "text": [
      "5000\n",
      "10000\n",
      "490\n"
     ]
    }
   ],
   "source": [
    "c1=child()\n",
    "print(c1.spend)\n",
    "print(c1.business)\n",
    "c1.amount-=10\n",
    "print(c1.amount)"
   ]
  },
  {
   "cell_type": "code",
   "execution_count": null,
   "id": "226c6ada-b7fa-4477-8a44-1ec6e9846447",
   "metadata": {},
   "outputs": [],
   "source": []
  },
  {
   "cell_type": "code",
   "execution_count": 8,
   "id": "11663c55-f945-45f4-8792-3a24d439ee11",
   "metadata": {},
   "outputs": [
    {
     "name": "stdout",
     "output_type": "stream",
     "text": [
      "300\n",
      "10000\n",
      "500\n"
     ]
    }
   ],
   "source": [
    "class gp1:\n",
    "    def __init__(self):\n",
    "        self.amount=500    # instance variable\n",
    "        \n",
    "class father(gp1):\n",
    "    def __init__(self):\n",
    "        self.business=10000   # instance variable\n",
    "        super(). __init__()\n",
    "        \n",
    "class child(father):\n",
    "    def __init__(self):\n",
    "        self.spend=300        # instance variable\n",
    "        super(). __init__()\n",
    "\n",
    "c1=child()\n",
    "print(c1.spend)\n",
    "print(c1.business)\n",
    "print(c1.amount)"
   ]
  },
  {
   "cell_type": "code",
   "execution_count": null,
   "id": "65dbd929-8044-43de-a381-fdfb028c48d0",
   "metadata": {},
   "outputs": [],
   "source": []
  },
  {
   "cell_type": "code",
   "execution_count": 18,
   "id": "8e34d068-6c81-4a68-a2d4-ecee648bc5c3",
   "metadata": {},
   "outputs": [
    {
     "name": "stdout",
     "output_type": "stream",
     "text": [
      "4.0\n",
      "9\n",
      "12\n"
     ]
    }
   ],
   "source": [
    "# multiple inheritance\n",
    "\n",
    "class multiply:\n",
    "    def mul(self,x,y):\n",
    "        return x*y\n",
    "        \n",
    "class add:\n",
    "    def addi(self,a,b):\n",
    "        return a+b\n",
    "\n",
    "class arith(add,multiply):\n",
    "    def div(self,d,e):\n",
    "        return d/e\n",
    "\n",
    "\n",
    "a1=arith()\n",
    "print(a1.div(20,5))\n",
    "print(a1.addi(4,5))\n",
    "print(a1.mul(3,4))"
   ]
  },
  {
   "cell_type": "code",
   "execution_count": null,
   "id": "2964e5b2-f0d6-4b4c-a15b-f862f829eaac",
   "metadata": {},
   "outputs": [],
   "source": []
  },
  {
   "cell_type": "code",
   "execution_count": 19,
   "id": "fe448d26-70bc-4f7d-9a93-68758ea13cb4",
   "metadata": {},
   "outputs": [],
   "source": [
    "# polymorphism"
   ]
  },
  {
   "cell_type": "code",
   "execution_count": 20,
   "id": "b0e571c3-e42c-47cd-bb22-406fe42e0e86",
   "metadata": {},
   "outputs": [],
   "source": [
    "class father:\n",
    "    def fun(self,a,b):\n",
    "        print('father class:',a+b)\n",
    "\n",
    "class child(father):\n",
    "    def fun(self,x,y):\n",
    "        print('child class:',x*y)\n",
    "    "
   ]
  },
  {
   "cell_type": "code",
   "execution_count": 21,
   "id": "e4e70cd7-2ee2-4d64-99b6-98fa7416eb49",
   "metadata": {},
   "outputs": [
    {
     "name": "stdout",
     "output_type": "stream",
     "text": [
      "child class: 200\n"
     ]
    }
   ],
   "source": [
    "c1=child()\n",
    "c1.fun(10,20)"
   ]
  },
  {
   "cell_type": "code",
   "execution_count": null,
   "id": "1a40a5f5-4bcc-4061-8e39-047d046d2b7a",
   "metadata": {},
   "outputs": [],
   "source": []
  },
  {
   "cell_type": "code",
   "execution_count": 2,
   "id": "86673ff0-ac3b-4780-945c-989748ea2d29",
   "metadata": {},
   "outputs": [],
   "source": [
    "# operator overloading\n",
    "\n",
    "class addno:\n",
    "    def __init__(self,x,y):\n",
    "        self.x=x\n",
    "        self.y=y\n",
    "\n",
    "    def __add__(self,func):\n",
    "        return (self.x+func.x , self.y+func.y)\n",
    "\n",
    "a1=addno(10,20)\n",
    "a2=addno(32,96)"
   ]
  },
  {
   "cell_type": "code",
   "execution_count": 3,
   "id": "2b8991b8-ae31-4677-a02d-144461d4160a",
   "metadata": {},
   "outputs": [
    {
     "data": {
      "text/plain": [
       "(42, 116)"
      ]
     },
     "execution_count": 3,
     "metadata": {},
     "output_type": "execute_result"
    }
   ],
   "source": [
    "a1+a2  # a1 __add__(a2)"
   ]
  },
  {
   "cell_type": "code",
   "execution_count": null,
   "id": "9367b6d8-59dc-46be-974b-13f316b46b5b",
   "metadata": {},
   "outputs": [],
   "source": []
  },
  {
   "cell_type": "code",
   "execution_count": 4,
   "id": "fa93eb71-cff8-4649-997b-be68f36b50a3",
   "metadata": {},
   "outputs": [],
   "source": [
    "class addno:\n",
    "    def __init__(self,num1):\n",
    "        self.num1=num1\n",
    "\n",
    "    def __gt__(self,ref):\n",
    "        if(self.num1==ref.num1):\n",
    "            return False\n",
    "        else:\n",
    "            return True\n",
    "\n",
    "a1=addno(10)\n",
    "a2=addno(10)"
   ]
  },
  {
   "cell_type": "code",
   "execution_count": 9,
   "id": "61ce93c9-18d9-47b0-ab94-c96c547c8195",
   "metadata": {},
   "outputs": [
    {
     "data": {
      "text/plain": [
       "False"
      ]
     },
     "execution_count": 9,
     "metadata": {},
     "output_type": "execute_result"
    }
   ],
   "source": [
    "a1>a2"
   ]
  },
  {
   "cell_type": "code",
   "execution_count": null,
   "id": "cb726cb4-34e6-482f-8517-a7f7a2b056b0",
   "metadata": {},
   "outputs": [],
   "source": []
  }
 ],
 "metadata": {
  "kernelspec": {
   "display_name": "Python 3 (ipykernel)",
   "language": "python",
   "name": "python3"
  },
  "language_info": {
   "codemirror_mode": {
    "name": "ipython",
    "version": 3
   },
   "file_extension": ".py",
   "mimetype": "text/x-python",
   "name": "python",
   "nbconvert_exporter": "python",
   "pygments_lexer": "ipython3",
   "version": "3.12.4"
  }
 },
 "nbformat": 4,
 "nbformat_minor": 5
}
