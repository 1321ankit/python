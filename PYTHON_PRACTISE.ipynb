{
 "cells": [
  {
   "cell_type": "code",
   "execution_count": 1,
   "id": "d5f8c354-c3c0-4336-a74c-7e24759be5ca",
   "metadata": {},
   "outputs": [
    {
     "name": "stdin",
     "output_type": "stream",
     "text": [
      "enter the number 5\n"
     ]
    },
    {
     "name": "stdout",
     "output_type": "stream",
     "text": [
      "1\n",
      "12\n",
      "123\n",
      "1234\n",
      "12345\n"
     ]
    }
   ],
   "source": [
    "n=int(input('enter the number'))\n",
    "for i in range(n):\n",
    "    for j in range(i+1):\n",
    "        print(j+1,end='')\n",
    "    print()"
   ]
  },
  {
   "cell_type": "code",
   "execution_count": 3,
   "id": "0ac4d1c8-fcb7-4f9b-baa1-33168133b492",
   "metadata": {},
   "outputs": [
    {
     "name": "stdin",
     "output_type": "stream",
     "text": [
      "enter the number 10\n"
     ]
    }
   ],
   "source": [
    "n=int(input('enter the number'))\n",
    "i=1\n",
    "while i>n:\n",
    "    print(i)\n",
    "    i+=1"
   ]
  },
  {
   "cell_type": "code",
   "execution_count": 16,
   "id": "c28d5da8-f78c-4837-8a91-fbce75150e91",
   "metadata": {},
   "outputs": [
    {
     "data": {
      "text/plain": [
       "16"
      ]
     },
     "execution_count": 16,
     "metadata": {},
     "output_type": "execute_result"
    }
   ],
   "source": [
    "age=2\n",
    "age**3\n",
    "age=age**4\n",
    "age"
   ]
  },
  {
   "cell_type": "code",
   "execution_count": 27,
   "id": "011f5513-1c3f-4454-bac7-c581ca48d22e",
   "metadata": {},
   "outputs": [
    {
     "name": "stdin",
     "output_type": "stream",
     "text": [
      "enter the age 14\n"
     ]
    },
    {
     "name": "stdout",
     "output_type": "stream",
     "text": [
      "False\n"
     ]
    }
   ],
   "source": [
    "age=int(input('enter the age'))\n",
    "if (age>=18):\n",
    "    print(True)\n",
    "else:\n",
    "    print(False)"
   ]
  },
  {
   "cell_type": "code",
   "execution_count": 34,
   "id": "cb5993a8-cd89-4a39-b9d1-c7f277d473f9",
   "metadata": {},
   "outputs": [
    {
     "name": "stdin",
     "output_type": "stream",
     "text": [
      "enter the age 19\n"
     ]
    },
    {
     "name": "stdout",
     "output_type": "stream",
     "text": [
      "Adult\n"
     ]
    }
   ],
   "source": [
    "age=int(input('enter the age'))\n",
    "if (age>=18):\n",
    "    print('Adult')\n",
    "elif (age>=15):\n",
    "    print('young')\n",
    "else:\n",
    "    print('child')"
   ]
  },
  {
   "cell_type": "code",
   "execution_count": 37,
   "id": "7027a917-08e1-49a7-b7fc-0fc901d24e54",
   "metadata": {},
   "outputs": [
    {
     "name": "stdin",
     "output_type": "stream",
     "text": [
      "enter the age 0\n"
     ]
    },
    {
     "name": "stdout",
     "output_type": "stream",
     "text": [
      "zero\n"
     ]
    }
   ],
   "source": [
    "n=int(input('enter the age'))\n",
    "if (n>0):\n",
    "    print('positive')\n",
    "elif(n<0):\n",
    "    print('negative')\n",
    "else:\n",
    "    print('zero')"
   ]
  },
  {
   "cell_type": "code",
   "execution_count": 9,
   "id": "e86e2b43-e135-40ca-bfac-bf9d13897ffb",
   "metadata": {},
   "outputs": [
    {
     "name": "stdin",
     "output_type": "stream",
     "text": [
      "enter the number 19\n",
      "enter your city jodhpur\n"
     ]
    },
    {
     "name": "stdout",
     "output_type": "stream",
     "text": [
      "age is greater than 18\n",
      "not belongs to jaipur\n"
     ]
    }
   ],
   "source": [
    "n=int(input('enter the number'))\n",
    "city=input('enter your city')\n",
    "if (n>18):\n",
    "    print('age is greater than 18')\n",
    "    if (city=='jaipur'):\n",
    "        print('belongs to jaipur')\n",
    "    else:\n",
    "        print('not belongs to jaipur')\n",
    "else:\n",
    "    print('child')"
   ]
  },
  {
   "cell_type": "code",
   "execution_count": 12,
   "id": "7bec1adc-9e02-4b83-82d2-6eddd79d6aa7",
   "metadata": {},
   "outputs": [
    {
     "name": "stdin",
     "output_type": "stream",
     "text": [
      "enter the number 2\n"
     ]
    },
    {
     "name": "stdout",
     "output_type": "stream",
     "text": [
      "even number\n"
     ]
    }
   ],
   "source": [
    "n=int(input('enter the number'))\n",
    "if (n%2!=0):\n",
    "    print('odd number')\n",
    "    if (n%5==0 and n%11==0):\n",
    "        print('divisible to 5 and 11')\n",
    "    else:\n",
    "        print('not divisible by 5 and 11')\n",
    "else:\n",
    "    print('even number')"
   ]
  },
  {
   "cell_type": "code",
   "execution_count": 16,
   "id": "11bce170-00ef-4ffe-a6c9-9f32600348dd",
   "metadata": {},
   "outputs": [
    {
     "name": "stdout",
     "output_type": "stream",
     "text": [
      "2\n",
      "5\n",
      "9\n",
      "14\n",
      "20\n",
      "27\n",
      "35\n",
      "44\n"
     ]
    }
   ],
   "source": [
    "x=0\n",
    "for i in range(2,10):\n",
    "    x+=i\n",
    "    print(x)"
   ]
  },
  {
   "cell_type": "code",
   "execution_count": 18,
   "id": "df4533a3-15b2-4bf2-ab51-15cb2bfd81b4",
   "metadata": {},
   "outputs": [
    {
     "name": "stdout",
     "output_type": "stream",
     "text": [
      "2\n",
      "4\n",
      "6\n",
      "8\n",
      "10\n",
      "12\n",
      "14\n",
      "16\n",
      "18\n",
      "20\n"
     ]
    }
   ],
   "source": [
    "for i in range(1,21):\n",
    "    if (i%2==0):\n",
    "        print(i)\n",
    "    \n"
   ]
  },
  {
   "cell_type": "code",
   "execution_count": 19,
   "id": "bbd40737-9461-476a-a052-a901cbfcd17f",
   "metadata": {},
   "outputs": [
    {
     "name": "stdout",
     "output_type": "stream",
     "text": [
      "10\n",
      "21\n",
      "33\n",
      "46\n",
      "60\n",
      "75\n",
      "91\n",
      "108\n",
      "126\n"
     ]
    }
   ],
   "source": [
    "x=10\n",
    "total=0\n",
    "while (x<19):\n",
    "    total+=x\n",
    "    print(total)\n",
    "    x+=1"
   ]
  },
  {
   "cell_type": "code",
   "execution_count": 1,
   "id": "eb56badb-e3ac-4489-b857-53cd82b5f699",
   "metadata": {},
   "outputs": [
    {
     "name": "stdin",
     "output_type": "stream",
     "text": [
      "enter the number 5\n"
     ]
    },
    {
     "name": "stdout",
     "output_type": "stream",
     "text": [
      "* * * * * \n",
      "* * * * * \n",
      "* * * * * \n",
      "* * * * * \n",
      "* * * * * \n"
     ]
    }
   ],
   "source": [
    "n=int(input('enter the number'))\n",
    "for i in range(n):\n",
    "    for j in range(n):\n",
    "        print(\"*\",end=' ')\n",
    "    print()"
   ]
  },
  {
   "cell_type": "code",
   "execution_count": 4,
   "id": "6409ddd0-fbb6-4513-8289-17a0d27db8e8",
   "metadata": {},
   "outputs": [
    {
     "name": "stdin",
     "output_type": "stream",
     "text": [
      "enter the number 4\n"
     ]
    },
    {
     "name": "stdout",
     "output_type": "stream",
     "text": [
      "1111\n",
      "1111\n",
      "1111\n"
     ]
    }
   ],
   "source": [
    "n=int(input('enter the number'))\n",
    "for i in range(n-1):\n",
    "    for j in range(n):\n",
    "        print('1',end='')\n",
    "    print()\n",
    "    \n"
   ]
  },
  {
   "cell_type": "code",
   "execution_count": 9,
   "id": "80be4686-3879-4f40-b176-8a5c55b846b9",
   "metadata": {},
   "outputs": [
    {
     "name": "stdin",
     "output_type": "stream",
     "text": [
      "enter the number 4\n"
     ]
    },
    {
     "name": "stdout",
     "output_type": "stream",
     "text": [
      "1111\n",
      "2222\n",
      "3333\n"
     ]
    }
   ],
   "source": [
    "n=int(input('enter the number'))\n",
    "for i in range(n-1):\n",
    "    for j in range(n):\n",
    "        print(i+1,end='')\n",
    "    print()"
   ]
  },
  {
   "cell_type": "code",
   "execution_count": 10,
   "id": "f1586be9-304d-4806-b731-a3ccb8f04daa",
   "metadata": {},
   "outputs": [
    {
     "name": "stdin",
     "output_type": "stream",
     "text": [
      "enter the number 4\n"
     ]
    },
    {
     "name": "stdout",
     "output_type": "stream",
     "text": [
      "1234\n",
      "1234\n",
      "1234\n"
     ]
    }
   ],
   "source": [
    "n=int(input('enter the number'))\n",
    "for i in range(n-1):\n",
    "    for j in range(n):\n",
    "        print(j+1,end='')\n",
    "    print()"
   ]
  },
  {
   "cell_type": "code",
   "execution_count": 11,
   "id": "f124d905-63f3-4e5f-9d1c-c98ad446cd5c",
   "metadata": {},
   "outputs": [
    {
     "name": "stdin",
     "output_type": "stream",
     "text": [
      "enter the number 4\n"
     ]
    },
    {
     "name": "stdout",
     "output_type": "stream",
     "text": [
      "4444\n",
      "3333\n",
      "2222\n"
     ]
    }
   ],
   "source": [
    "n=int(input('enter the number'))\n",
    "for i in range(n,1,-1):\n",
    "    for j in range(n):\n",
    "        print(i,end='')\n",
    "    print()"
   ]
  },
  {
   "cell_type": "code",
   "execution_count": 14,
   "id": "f606bd23-0056-4229-aa80-673d3976b88f",
   "metadata": {},
   "outputs": [
    {
     "name": "stdin",
     "output_type": "stream",
     "text": [
      "enter the number 2\n"
     ]
    },
    {
     "name": "stdout",
     "output_type": "stream",
     "text": [
      "10 11 12 13 \n",
      "10 11 12 13 \n"
     ]
    }
   ],
   "source": [
    "n=int(input('enter the number'))\n",
    "for i in range(n):\n",
    "    for j in range(n+2):\n",
    "        print(j+10,end=' ')\n",
    "    print()"
   ]
  },
  {
   "cell_type": "code",
   "execution_count": 15,
   "id": "fd1bb50f-1270-4250-8641-f32c9e471f2f",
   "metadata": {},
   "outputs": [
    {
     "name": "stdin",
     "output_type": "stream",
     "text": [
      "enter the number 4\n"
     ]
    },
    {
     "name": "stdout",
     "output_type": "stream",
     "text": [
      "1\n",
      "11\n",
      "111\n",
      "1111\n"
     ]
    }
   ],
   "source": [
    "n=int(input('enter the number'))\n",
    "for i in range(n):\n",
    "    for j in range(i+1):\n",
    "        print('1',end='')\n",
    "    print()"
   ]
  },
  {
   "cell_type": "code",
   "execution_count": 16,
   "id": "881150bc-34af-49ca-932c-785046a8e203",
   "metadata": {},
   "outputs": [
    {
     "name": "stdin",
     "output_type": "stream",
     "text": [
      "enter the number 4\n"
     ]
    },
    {
     "name": "stdout",
     "output_type": "stream",
     "text": [
      "1\n",
      "23\n",
      "456\n",
      "78910\n"
     ]
    }
   ],
   "source": [
    "n=int(input('enter the number'))\n",
    "k=1\n",
    "for i in range(n):\n",
    "    for j in range(i+1):\n",
    "        print(k,end='')\n",
    "        k+=1\n",
    "    print()"
   ]
  },
  {
   "cell_type": "code",
   "execution_count": 2,
   "id": "2e659b7f-d7dc-4e7d-8992-84385bc84d47",
   "metadata": {},
   "outputs": [
    {
     "name": "stdin",
     "output_type": "stream",
     "text": [
      "enter the number 4\n"
     ]
    },
    {
     "name": "stdout",
     "output_type": "stream",
     "text": [
      "****\n",
      "***\n",
      "**\n",
      "*\n"
     ]
    }
   ],
   "source": [
    "n=int(input('enter the number'))\n",
    "for i in range(n):\n",
    "    for j in range(n-i):\n",
    "        print('*',end='')\n",
    "    print()"
   ]
  },
  {
   "cell_type": "code",
   "execution_count": 4,
   "id": "c99e8c65-2c9a-471c-bc69-7941f2055151",
   "metadata": {},
   "outputs": [
    {
     "name": "stdin",
     "output_type": "stream",
     "text": [
      "enter the number 4\n"
     ]
    },
    {
     "name": "stdout",
     "output_type": "stream",
     "text": [
      "1234\n",
      "123\n",
      "12\n",
      "1\n"
     ]
    }
   ],
   "source": [
    "n=int(input('enter the number'))\n",
    "for i in range(n):\n",
    "    for j in range(n-i):\n",
    "        print(j+1,end='')\n",
    "    print()"
   ]
  },
  {
   "cell_type": "code",
   "execution_count": 11,
   "id": "8a52481c-9dc1-43e7-a726-15691f498549",
   "metadata": {},
   "outputs": [
    {
     "name": "stdin",
     "output_type": "stream",
     "text": [
      "enter the number 4\n"
     ]
    },
    {
     "name": "stdout",
     "output_type": "stream",
     "text": [
      "4444\n",
      "333\n",
      "22\n",
      "1\n"
     ]
    }
   ],
   "source": [
    "n=int(input('enter the number'))\n",
    "for i in range(n,0,-1):\n",
    "    for j in range(i):\n",
    "        print(i,end='')\n",
    "    print()"
   ]
  },
  {
   "cell_type": "code",
   "execution_count": 12,
   "id": "6f6018ed-0796-4420-b76b-c1ed3980f499",
   "metadata": {},
   "outputs": [
    {
     "name": "stdin",
     "output_type": "stream",
     "text": [
      "enter the number 4\n"
     ]
    },
    {
     "name": "stdout",
     "output_type": "stream",
     "text": [
      "1234\n",
      "567\n",
      "89\n",
      "10\n"
     ]
    }
   ],
   "source": [
    "k=1\n",
    "n=int(input('enter the number'))\n",
    "for i in range(n):\n",
    "    for j in range(n-i):\n",
    "        print(k,end='')\n",
    "        k+=1\n",
    "    print()"
   ]
  },
  {
   "cell_type": "code",
   "execution_count": 14,
   "id": "9a7fda7f-9a2b-4c97-a3df-9ca0ace4a6ea",
   "metadata": {},
   "outputs": [
    {
     "name": "stdin",
     "output_type": "stream",
     "text": [
      "enter the number 4\n"
     ]
    },
    {
     "name": "stdout",
     "output_type": "stream",
     "text": [
      "ABCD\n",
      "EFG\n",
      "HI\n",
      "J\n"
     ]
    }
   ],
   "source": [
    "k=65\n",
    "\n",
    "n=int(input('enter the number'))\n",
    "for i in range(n):\n",
    "    for j in range(n-i):\n",
    "        print(chr(k),end='')\n",
    "        k+=1\n",
    "    print()"
   ]
  },
  {
   "cell_type": "code",
   "execution_count": 17,
   "id": "14066dd0-a8e0-48fe-97b2-79e35193c386",
   "metadata": {},
   "outputs": [
    {
     "name": "stdin",
     "output_type": "stream",
     "text": [
      "enter the number 4\n"
     ]
    },
    {
     "name": "stdout",
     "output_type": "stream",
     "text": [
      "78910\n",
      "789\n",
      "78\n",
      "7\n"
     ]
    }
   ],
   "source": [
    "\n",
    "n=int(input('enter the number'))\n",
    "for i in range(n):\n",
    "    for j in range(n-i):\n",
    "        print(j+7,end='')\n",
    "        \n",
    "    print()"
   ]
  },
  {
   "cell_type": "code",
   "execution_count": 18,
   "id": "4090a4bc-681d-4f84-b646-4cd96e270b91",
   "metadata": {},
   "outputs": [
    {
     "name": "stdin",
     "output_type": "stream",
     "text": [
      "enter the number 4\n"
     ]
    },
    {
     "name": "stdout",
     "output_type": "stream",
     "text": [
      "ABCD\n",
      "ABC\n",
      "AB\n",
      "A\n"
     ]
    }
   ],
   "source": [
    "k=65\n",
    "n=int(input('enter the number'))\n",
    "for i in range(n):\n",
    "    for j in range(n-i):\n",
    "        print(chr(k+j),end='')\n",
    "    print()"
   ]
  },
  {
   "cell_type": "code",
   "execution_count": 21,
   "id": "35a8009d-9281-4792-8329-6c3064d9c565",
   "metadata": {},
   "outputs": [
    {
     "name": "stdin",
     "output_type": "stream",
     "text": [
      "enter the number 4\n"
     ]
    },
    {
     "name": "stdout",
     "output_type": "stream",
     "text": [
      "65 66 67 68 \n",
      "65 66 67 \n",
      "65 66 \n",
      "65 \n"
     ]
    }
   ],
   "source": [
    "k=65\n",
    "n=int(input('enter the number'))\n",
    "for i in range(n):\n",
    "    for j in range(n-i):\n",
    "        print(k+j,end=' ')\n",
    "    print()"
   ]
  },
  {
   "cell_type": "code",
   "execution_count": 23,
   "id": "75fbe646-0622-409c-bc0e-8b2a172246eb",
   "metadata": {},
   "outputs": [
    {
     "name": "stdin",
     "output_type": "stream",
     "text": [
      "enter the number 4\n"
     ]
    },
    {
     "name": "stdout",
     "output_type": "stream",
     "text": [
      "20 21 22 23 \n",
      "24 25 26 \n",
      "27 28 \n"
     ]
    }
   ],
   "source": [
    "k=20\n",
    "n=int(input('enter the number'))\n",
    "for i in range(n-1):\n",
    "    for j in range(n-i):\n",
    "        print(k,end=' ')\n",
    "        k+=1\n",
    "    print()"
   ]
  },
  {
   "cell_type": "code",
   "execution_count": 39,
   "id": "b8f8ebdf-628a-4fd9-9314-14c3bee53438",
   "metadata": {},
   "outputs": [
    {
     "name": "stdin",
     "output_type": "stream",
     "text": [
      "enter the number 3\n"
     ]
    },
    {
     "name": "stdout",
     "output_type": "stream",
     "text": [
      "Z Z Z \n",
      "Y Y \n",
      "X \n"
     ]
    }
   ],
   "source": [
    "k=90\n",
    "n=int(input('enter the number'))\n",
    "for i in range(n):\n",
    "    for j in range(n-i):\n",
    "        print(chr(k),end=' ')\n",
    "    k-=1\n",
    "    print()"
   ]
  },
  {
   "cell_type": "code",
   "execution_count": 42,
   "id": "76a0bc90-9130-4bc5-a98b-01857e20bd4d",
   "metadata": {},
   "outputs": [
    {
     "name": "stdin",
     "output_type": "stream",
     "text": [
      "enter th number 4\n"
     ]
    },
    {
     "name": "stdout",
     "output_type": "stream",
     "text": [
      "D\n",
      "EF\n",
      "GHI\n",
      "JKLM\n"
     ]
    }
   ],
   "source": [
    "k=68\n",
    "n=int(input('enter th number'))\n",
    "for i in range(n):\n",
    "    for j in range(i+1):\n",
    "        print(chr(k),end='')\n",
    "        k+=1\n",
    "    print()"
   ]
  },
  {
   "cell_type": "code",
   "execution_count": 45,
   "id": "299617f2-ff9f-4f9e-9199-2cf69f724663",
   "metadata": {},
   "outputs": [
    {
     "name": "stdin",
     "output_type": "stream",
     "text": [
      "enter the number 3\n"
     ]
    },
    {
     "name": "stdout",
     "output_type": "stream",
     "text": [
      "4 \n",
      "6 8 \n",
      "10 12 14 \n"
     ]
    }
   ],
   "source": [
    "k=2\n",
    "n=int(input('enter the number'))\n",
    "for i in range(n):\n",
    "    for j in range(i+1):\n",
    "        print(k*2,end=' ')\n",
    "        k+=1\n",
    "    print()"
   ]
  },
  {
   "cell_type": "code",
   "execution_count": 47,
   "id": "c9cca658-142e-491a-897d-972d88080107",
   "metadata": {},
   "outputs": [
    {
     "name": "stdin",
     "output_type": "stream",
     "text": [
      "enter the number 4\n"
     ]
    },
    {
     "name": "stdout",
     "output_type": "stream",
     "text": [
      "2 4 8 16 \n",
      "32 64 128 \n",
      "256 512 \n"
     ]
    }
   ],
   "source": [
    "k=2\n",
    "n=int(input('enter the number'))\n",
    "for i in range(n-1):\n",
    "    for j in range(n-i):\n",
    "        print(k,end=' ')\n",
    "        k*=2\n",
    "    print()\n",
    "    "
   ]
  },
  {
   "cell_type": "code",
   "execution_count": 50,
   "id": "1d6e2d5c-eac0-431d-9ad0-e0f1c25457c7",
   "metadata": {},
   "outputs": [
    {
     "name": "stdin",
     "output_type": "stream",
     "text": [
      "enter the number 4\n"
     ]
    },
    {
     "name": "stdout",
     "output_type": "stream",
     "text": [
      "*\n",
      "**\n",
      "***\n",
      "****\n",
      "***\n",
      "**\n",
      "*\n"
     ]
    }
   ],
   "source": [
    "n=int(input('enter the number'))\n",
    "for i in range(n-1):\n",
    "    for j in range(i+1):\n",
    "        print('*',end='')\n",
    "    print()\n",
    "for i in range(n):\n",
    "    for j in range(n-i):\n",
    "        print('*',end='')\n",
    "    print()"
   ]
  },
  {
   "cell_type": "code",
   "execution_count": 53,
   "id": "662584f2-fcd4-4af3-a7d2-5c83452731f8",
   "metadata": {},
   "outputs": [
    {
     "name": "stdin",
     "output_type": "stream",
     "text": [
      "enter the number 4\n"
     ]
    },
    {
     "name": "stdout",
     "output_type": "stream",
     "text": [
      "****\n",
      " ***\n",
      "  **\n",
      "   *\n",
      "  **\n",
      " ***\n",
      "****\n"
     ]
    }
   ],
   "source": [
    "n=int(input('enter the number'))\n",
    "for i in range(n-1):\n",
    "    for s in range(i):\n",
    "        print(' ',end='')\n",
    "    for j in range(n-i):\n",
    "        print(\"*\",end='')\n",
    "    print()\n",
    "for i in range(n):\n",
    "    for s in range(n-i-1):\n",
    "        print(' ',end='')\n",
    "    for j in range(i+1):\n",
    "        print('*',end='')\n",
    "    print()"
   ]
  },
  {
   "cell_type": "code",
   "execution_count": 73,
   "id": "9fad9640-1661-4116-aed4-bd4b117762e1",
   "metadata": {},
   "outputs": [
    {
     "name": "stdin",
     "output_type": "stream",
     "text": [
      "enter the number 3\n"
     ]
    },
    {
     "name": "stdout",
     "output_type": "stream",
     "text": [
      "    * \n",
      "  * * * \n",
      "* * * * * \n"
     ]
    }
   ],
   "source": [
    "n=int(input('enter the number'))\n",
    "for i in range(n):\n",
    "    for s in range(n-i-1):\n",
    "        print(' ',end=' ')\n",
    "    for j in range(i+1):\n",
    "        print('*',end=' ')\n",
    "    for j in range(1,i+1):\n",
    "        print('*',end=' ')\n",
    "    print()"
   ]
  },
  {
   "cell_type": "code",
   "execution_count": 63,
   "id": "12a7a6fe-eed5-4401-a3ba-f79752a12df8",
   "metadata": {},
   "outputs": [
    {
     "name": "stdin",
     "output_type": "stream",
     "text": [
      "enter the number 5\n"
     ]
    },
    {
     "name": "stdout",
     "output_type": "stream",
     "text": [
      "1\n",
      "10\n",
      "101\n",
      "1010\n",
      "10101\n"
     ]
    }
   ],
   "source": [
    "n=int(input('enter the number'))\n",
    "for i in range(n):\n",
    "    for j in range(i+1):\n",
    "        if (j%2!=0):\n",
    "            print('0',end='')\n",
    "        else:\n",
    "            print('1',end='')\n",
    "    print()"
   ]
  },
  {
   "cell_type": "code",
   "execution_count": 65,
   "id": "d90511c0-af0b-4ea7-875c-0782c3e1de14",
   "metadata": {},
   "outputs": [
    {
     "name": "stdin",
     "output_type": "stream",
     "text": [
      "enter the number 4\n"
     ]
    },
    {
     "name": "stdout",
     "output_type": "stream",
     "text": [
      "1\n",
      "01\n",
      "101\n",
      "0101\n"
     ]
    }
   ],
   "source": [
    "n=int(input('enter the number'))\n",
    "for i in range(n):\n",
    "    for j in range(i+1):\n",
    "        if (i+j)%2==0:\n",
    "            print('1',end='')\n",
    "        else:\n",
    "            print('0',end='')\n",
    "    print()"
   ]
  },
  {
   "cell_type": "code",
   "execution_count": 77,
   "id": "ba6998d7-2db0-41e2-b439-e75a0ed70957",
   "metadata": {},
   "outputs": [
    {
     "name": "stdin",
     "output_type": "stream",
     "text": [
      "enter the number 4\n"
     ]
    },
    {
     "name": "stdout",
     "output_type": "stream",
     "text": [
      "* * * * * * * \n",
      "  * * * * * \n",
      "    * * * \n",
      "      * \n"
     ]
    }
   ],
   "source": [
    "n=int(input('enter the number'))\n",
    "for i in range(n):\n",
    "    for s in range(i):\n",
    "        print(' ',end=' ')\n",
    "    for j in range(n-i):\n",
    "        print('*',end=' ')\n",
    "    for j in range(n-i-1):\n",
    "        print('*',end=' ')\n",
    "    print()"
   ]
  },
  {
   "cell_type": "code",
   "execution_count": 81,
   "id": "e61adfd9-a859-417f-9d25-2f834c4e9551",
   "metadata": {},
   "outputs": [
    {
     "name": "stdin",
     "output_type": "stream",
     "text": [
      "enter the number 4\n"
     ]
    },
    {
     "name": "stdout",
     "output_type": "stream",
     "text": [
      "   * \n",
      "  * * \n",
      " * * * \n",
      "* * * * \n"
     ]
    }
   ],
   "source": [
    "n=int(input('enter the number'))\n",
    "for i in range(n):\n",
    "    for s in range(n-i-1):\n",
    "        print(' ',end='')\n",
    "    for j in range(i+1):\n",
    "        print('*',end=' ')\n",
    "    print()"
   ]
  },
  {
   "cell_type": "code",
   "execution_count": 19,
   "id": "dee2f079-ce89-4a6d-bec9-4e970526da79",
   "metadata": {},
   "outputs": [
    {
     "name": "stdin",
     "output_type": "stream",
     "text": [
      "enter the number 5\n"
     ]
    },
    {
     "name": "stdout",
     "output_type": "stream",
     "text": [
      "123454321\n",
      " 1234321\n",
      "  12321\n",
      "   121\n",
      "    1\n"
     ]
    }
   ],
   "source": [
    "n=int(input('enter the number'))\n",
    "\n",
    "for i in range(n):\n",
    "    for s in range(i):\n",
    "        print(' ',end='')\n",
    "    for j in range(n-i):\n",
    "        print(j+1,end='')\n",
    "    for j in range(n-i-1,0,-1):\n",
    "        print(j,end='')\n",
    "        \n",
    "    print()"
   ]
  },
  {
   "cell_type": "code",
   "execution_count": 14,
   "id": "3032c581-2298-43ba-b443-71457ec9ea5b",
   "metadata": {},
   "outputs": [
    {
     "name": "stdin",
     "output_type": "stream",
     "text": [
      "enter the number 3\n"
     ]
    },
    {
     "name": "stdout",
     "output_type": "stream",
     "text": [
      "321\n",
      "21\n",
      "1\n"
     ]
    }
   ],
   "source": [
    "n=int(input('enter the number'))\n",
    "for i in range(n):\n",
    "    for j in range(n-i,0,-1):\n",
    "        print(j,end='')\n",
    "    print()"
   ]
  },
  {
   "cell_type": "code",
   "execution_count": 28,
   "id": "0d921916-832b-46c1-bdda-4400d4a25c72",
   "metadata": {},
   "outputs": [
    {
     "name": "stdin",
     "output_type": "stream",
     "text": [
      "enter the number 6\n"
     ]
    },
    {
     "name": "stdout",
     "output_type": "stream",
     "text": [
      "1 2 3 4 5 6 \n",
      " 2 3 4 5 6 \n",
      "  3 4 5 6 \n",
      "   4 5 6 \n",
      "    5 6 \n",
      "     6 \n"
     ]
    }
   ],
   "source": [
    "\n",
    "n=int(input('enter the number'))\n",
    "for i in range(n):\n",
    "    for s in range(i):\n",
    "        print(' ',end='')\n",
    "    \n",
    "    for j in range(i+1,n+1):\n",
    "        print(j,end=' ')\n",
    "        \n",
    "    print()"
   ]
  },
  {
   "cell_type": "code",
   "execution_count": 31,
   "id": "b70c5524-0725-4276-b29a-9fce328a38cf",
   "metadata": {},
   "outputs": [
    {
     "name": "stdin",
     "output_type": "stream",
     "text": [
      "enter the number 4\n"
     ]
    },
    {
     "name": "stdout",
     "output_type": "stream",
     "text": [
      "1\n",
      "21\n",
      "321\n",
      "4321\n"
     ]
    }
   ],
   "source": [
    "n=int(input('enter the number'))\n",
    "for i in range(n):\n",
    "    for j in range(i+1,0,-1):\n",
    "        print(j,end='')\n",
    "    print()"
   ]
  },
  {
   "cell_type": "code",
   "execution_count": 37,
   "id": "e2afc420-09e7-4656-b7bf-68fb5edc46f4",
   "metadata": {},
   "outputs": [
    {
     "name": "stdin",
     "output_type": "stream",
     "text": [
      "enter the number 4\n"
     ]
    },
    {
     "name": "stdout",
     "output_type": "stream",
     "text": [
      "      1 \n",
      "    2 1 2 \n",
      "  3 2 1 2 3 \n",
      "4 3 2 1 2 3 4 \n"
     ]
    }
   ],
   "source": [
    "n=int(input('enter the number'))\n",
    "for i in range(n):\n",
    "    for s in range(n-i-1):\n",
    "        print(' ',end=' ')\n",
    "    for j in range(i+1,0,-1):\n",
    "        print(j,end=' ')\n",
    "    for j in range(1,i+1):\n",
    "        print(j+1,end=' ')\n",
    "    print()"
   ]
  },
  {
   "cell_type": "code",
   "execution_count": 1,
   "id": "94667c09-9618-4bbc-ac59-ea0ea04467a5",
   "metadata": {},
   "outputs": [
    {
     "name": "stdin",
     "output_type": "stream",
     "text": [
      "enter the number 5\n"
     ]
    },
    {
     "name": "stdout",
     "output_type": "stream",
     "text": [
      "          \n",
      "          * \n",
      "        *   * \n",
      "    *         * \n",
      "* * * * * * * * * \n"
     ]
    }
   ],
   "source": [
    "n=int(input('enter the number'))\n",
    "for i in range(n):\n",
    "    for s in range(n-i-1):\n",
    "        print(' ',end=' ')\n",
    "    for j in range(i+1):\n",
    "        if i+j==(n-1) or i==n-1:\n",
    "            print('*',end=' ')\n",
    "        else:\n",
    "            print(' ',end=' ')\n",
    "    for j in range(1,i+1):\n",
    "        if i==j or i==n-1:\n",
    "            print('*',end=' ')\n",
    "        else:\n",
    "            print(' ',end=' ')\n",
    "    print()"
   ]
  },
  {
   "cell_type": "code",
   "execution_count": 52,
   "id": "8c0d4d5e-71ab-45d9-8d64-12913c7c6727",
   "metadata": {},
   "outputs": [
    {
     "name": "stdin",
     "output_type": "stream",
     "text": [
      "enter the number 5\n"
     ]
    },
    {
     "name": "stdout",
     "output_type": "stream",
     "text": [
      "          \n",
      "          \n",
      "        * \n",
      "    *     \n",
      "* * * * * \n"
     ]
    }
   ],
   "source": [
    "n=int(input('enter the number'))\n",
    "for i in range(n):\n",
    "    for s in range(n-i-1):\n",
    "        print(' ',end=' ')\n",
    "    for j in range(i+1):\n",
    "        if (i+j==n-1) or i==n-1:\n",
    "            print('*',end=' ')\n",
    "        else:\n",
    "            print(' ',end=' ')\n",
    "    print()"
   ]
  },
  {
   "cell_type": "code",
   "execution_count": null,
   "id": "ba412937-5280-45d9-8374-f70baa174894",
   "metadata": {},
   "outputs": [],
   "source": []
  },
  {
   "cell_type": "code",
   "execution_count": null,
   "id": "ffbe02ec-dea7-4acf-9b30-3218c7553b93",
   "metadata": {},
   "outputs": [],
   "source": []
  },
  {
   "cell_type": "code",
   "execution_count": null,
   "id": "d578f2d2-e65d-404a-a929-6f5b00c27521",
   "metadata": {},
   "outputs": [],
   "source": []
  },
  {
   "cell_type": "code",
   "execution_count": 21,
   "id": "e119b275-53b2-4173-9681-e75ee66a1259",
   "metadata": {},
   "outputs": [
    {
     "name": "stdout",
     "output_type": "stream",
     "text": [
      "there is no duplicate value\n"
     ]
    }
   ],
   "source": [
    "mylist=[10,12,223,101,11,1] # find duplicate value\n",
    "x=0\n",
    "for i in range(0,len(mylist)):\n",
    "    for j in range(i+1,len(mylist)):\n",
    "        if mylist[i]==mylist[j]:\n",
    "            x+=1\n",
    "            break\n",
    "if x==0:\n",
    "    print('there is no duplicate value')\n",
    "else:\n",
    "    print('there is duplicate value')\n"
   ]
  },
  {
   "cell_type": "code",
   "execution_count": 26,
   "id": "354db530-0de8-440f-9437-818618f2680b",
   "metadata": {},
   "outputs": [
    {
     "name": "stdout",
     "output_type": "stream",
     "text": [
      "[10, 11]\n"
     ]
    }
   ],
   "source": [
    "mylist=[10,12,10,101,11,11,10]   # duplicate values in a list\n",
    "l=[]\n",
    "for i in range(0,len(mylist)):\n",
    "    for j in range(i+1,len(mylist)):\n",
    "        if mylist[i]==mylist[j]:\n",
    "            if mylist[i] not in l:\n",
    "                \n",
    "                l.append(mylist[i])\n",
    "print(l)\n",
    "            "
   ]
  },
  {
   "cell_type": "code",
   "execution_count": 40,
   "id": "f3cff97a-a7fc-4390-91d3-508cc6eb175b",
   "metadata": {},
   "outputs": [
    {
     "name": "stdout",
     "output_type": "stream",
     "text": [
      "111\n"
     ]
    }
   ],
   "source": [
    "mylist=[100,12,10,111,11,11,108]      # max\n",
    "max=mylist[0]\n",
    "for i in range(0, len(mylist)):\n",
    "    if mylist[i]>max:\n",
    "        max=mylist[i]\n",
    "   \n",
    "    \n",
    "        \n",
    "\n",
    "print(max)"
   ]
  },
  {
   "cell_type": "code",
   "execution_count": 17,
   "id": "a3bae19d-716a-4d88-aeb2-6bdbf18049ca",
   "metadata": {},
   "outputs": [
    {
     "data": {
      "text/plain": [
       "40"
      ]
     },
     "execution_count": 17,
     "metadata": {},
     "output_type": "execute_result"
    }
   ],
   "source": [
    "mylist=[50,10,20,33,22,40,50,36,19,35]     # second max\n",
    "l=0\n",
    "sec_l=0\n",
    "for i in mylist:\n",
    "    if i>l:\n",
    "        sec_l=l\n",
    "        l=i\n",
    "    elif i>sec_l and i!=l:\n",
    "        sec_l=i\n",
    "\n",
    "sec_l"
   ]
  },
  {
   "cell_type": "code",
   "execution_count": 22,
   "id": "f857cf4a-0d6b-4de2-91c9-b794c85f2f37",
   "metadata": {},
   "outputs": [
    {
     "name": "stdout",
     "output_type": "stream",
     "text": [
      "8\n"
     ]
    }
   ],
   "source": [
    "l=[2,11,11,6,7,8,8,8]              # 3 consicutive numbers.\n",
    "for i in range(0,len(l)-2):\n",
    "    if l[i]==l[i+1] and l[i+1]==l[i+2]:\n",
    "        print(l[i])"
   ]
  },
  {
   "cell_type": "code",
   "execution_count": 2,
   "id": "92f1fa28-8904-4392-9639-f86671af57e1",
   "metadata": {},
   "outputs": [
    {
     "name": "stdout",
     "output_type": "stream",
     "text": [
      "valid parenthesis\n"
     ]
    }
   ],
   "source": [
    "l=[]          # valid parenthesis\n",
    "x=0\n",
    "for i in '{[]}':\n",
    "    if i in '{[(':\n",
    "        l.append(i)\n",
    "    else:\n",
    "        if (i=='}' and l.pop()!='{'):\n",
    "            x+=1\n",
    "            break\n",
    "        elif (i==']' and l.pop()!='['):\n",
    "            x+=1\n",
    "            break\n",
    "        elif (i==')' and l.pop()!='('):\n",
    "            x+=1\n",
    "            break\n",
    "if x==0 and len(l)==0:\n",
    "    print('valid parenthesis')\n",
    "else:\n",
    "    print('invalid parenthesis')\n"
   ]
  },
  {
   "cell_type": "code",
   "execution_count": 15,
   "id": "c1539540-0e5f-4028-b6d0-ce4916826662",
   "metadata": {},
   "outputs": [
    {
     "name": "stdout",
     "output_type": "stream",
     "text": [
      "[[1], [1, 1], [1, 2, 1], [1, 3, 3, 1]]\n"
     ]
    }
   ],
   "source": [
    "mylist=[[1]]   #pascal triangle\n",
    "n=4\n",
    "for i in range(n-1):\n",
    "    temp=[0]+mylist[-1]+[0]\n",
    "    l=[]\n",
    "    for j in range(len(mylist)+1):\n",
    "        l.append(temp[j]+temp[j+1])\n",
    "    mylist.append(l)\n",
    "print(mylist)\n",
    "        \n",
    "    "
   ]
  },
  {
   "cell_type": "code",
   "execution_count": null,
   "id": "cdaa9997-e1d2-48c6-899d-65ef0e17988a",
   "metadata": {},
   "outputs": [],
   "source": []
  },
  {
   "cell_type": "code",
   "execution_count": 13,
   "id": "dfb54e45-1bbb-470c-a0ca-f014ec39eb03",
   "metadata": {},
   "outputs": [
    {
     "name": "stdout",
     "output_type": "stream",
     "text": [
      "[0, 1, 0]\n",
      "[0, 1, 1, 0]\n",
      "[0, 1, 2, 1, 0]\n",
      "[[1], [1, 1], [1, 2, 1], [1, 3, 3, 1]]\n"
     ]
    }
   ],
   "source": [
    "mylist=[[1]]\n",
    "x=4\n",
    "for i in range(x-1):\n",
    "    temp=[0]+mylist[-1]+[0]\n",
    "    print(temp)\n",
    "    l=[]\n",
    "    for j in range(len(mylist)+1):\n",
    "        l.append(temp[j]+temp[j+1])\n",
    "    mylist.append(l)\n",
    "print(mylist)\n",
    "        \n",
    "    "
   ]
  },
  {
   "cell_type": "code",
   "execution_count": null,
   "id": "b869d49c-cf90-4d62-9eb8-5fab008681bb",
   "metadata": {},
   "outputs": [],
   "source": []
  },
  {
   "cell_type": "code",
   "execution_count": null,
   "id": "06dc1aa1-ea39-458e-9e52-cfb6e76a2b22",
   "metadata": {},
   "outputs": [],
   "source": []
  },
  {
   "cell_type": "code",
   "execution_count": 1,
   "id": "48278b13-4b65-436e-a340-e0c1fc341c17",
   "metadata": {},
   "outputs": [
    {
     "data": {
      "text/plain": [
       "{10: 'ankit', 20: 'aman', 30: 'sam'}"
      ]
     },
     "execution_count": 1,
     "metadata": {},
     "output_type": "execute_result"
    }
   ],
   "source": [
    "mydictionary={10:'ankit',20:'aman',30:'sam'}\n",
    "mydictionary"
   ]
  },
  {
   "cell_type": "code",
   "execution_count": 3,
   "id": "c02a7c2f-198e-43d6-8471-c12026dc5873",
   "metadata": {},
   "outputs": [
    {
     "data": {
      "text/plain": [
       "{10: 'ankit', 20: 'aman', 30: 'sam', 40: 'ayush'}"
      ]
     },
     "execution_count": 3,
     "metadata": {},
     "output_type": "execute_result"
    }
   ],
   "source": [
    "mydictionary.update({40:'ayush'})\n",
    "mydictionary"
   ]
  },
  {
   "cell_type": "code",
   "execution_count": 4,
   "id": "147cbd1b-ed70-424a-a9da-a053ef84fd77",
   "metadata": {},
   "outputs": [
    {
     "name": "stdout",
     "output_type": "stream",
     "text": [
      "10 ankit\n",
      "20 aman\n",
      "30 sam\n",
      "40 ayush\n"
     ]
    }
   ],
   "source": [
    "for i in mydictionary:\n",
    "    print(i,mydictionary[i])"
   ]
  },
  {
   "cell_type": "code",
   "execution_count": 6,
   "id": "6d13db8d-3795-4630-8bc8-ed2abbba4e02",
   "metadata": {},
   "outputs": [
    {
     "data": {
      "text/plain": [
       "{10: 'ankit', 20: 'jay', 30: 'sam', 40: 'ayush'}"
      ]
     },
     "execution_count": 6,
     "metadata": {},
     "output_type": "execute_result"
    }
   ],
   "source": [
    "mydictionary[20]='jay'\n",
    "mydictionary"
   ]
  },
  {
   "cell_type": "code",
   "execution_count": 9,
   "id": "a16645a1-c27b-4b0f-88a2-0ab9305c1041",
   "metadata": {},
   "outputs": [
    {
     "data": {
      "text/plain": [
       "{'x': 1, 'y': 2, 'z': 3}"
      ]
     },
     "execution_count": 9,
     "metadata": {},
     "output_type": "execute_result"
    }
   ],
   "source": [
    "dict={'x':1,'y':2,'z':3}\n",
    "dict"
   ]
  },
  {
   "cell_type": "code",
   "execution_count": 10,
   "id": "c35613d2-5155-4f51-8c21-b7028d05433e",
   "metadata": {},
   "outputs": [
    {
     "data": {
      "text/plain": [
       "{'x': 5, 'y': 2, 'z': 3}"
      ]
     },
     "execution_count": 10,
     "metadata": {},
     "output_type": "execute_result"
    }
   ],
   "source": [
    "dict['x']=dict['x']+4\n",
    "dict"
   ]
  },
  {
   "cell_type": "code",
   "execution_count": 20,
   "id": "a838e473-2a8d-4ca1-9aec-5ad385fe1f83",
   "metadata": {},
   "outputs": [
    {
     "data": {
      "text/plain": [
       "{'total': 9}"
      ]
     },
     "execution_count": 20,
     "metadata": {},
     "output_type": "execute_result"
    }
   ],
   "source": [
    "dict={'total':0}\n",
    "for i in range(10,19):\n",
    "    dict['total']=dict['total']+1\n",
    "dict\n",
    "    "
   ]
  },
  {
   "cell_type": "code",
   "execution_count": 2,
   "id": "f38b8ff5-ceaa-4900-9c09-ff6d6fe8b0aa",
   "metadata": {},
   "outputs": [
    {
     "data": {
      "text/plain": [
       "{'count': 7}"
      ]
     },
     "execution_count": 2,
     "metadata": {},
     "output_type": "execute_result"
    }
   ],
   "source": [
    "d={'count':0}\n",
    "x='heyuser'\n",
    "for i in x:\n",
    "    d['count']+=1\n",
    "d\n",
    "    \n",
    "    "
   ]
  },
  {
   "cell_type": "code",
   "execution_count": 29,
   "id": "96fe3137-7941-43db-9a73-156c57183278",
   "metadata": {},
   "outputs": [
    {
     "data": {
      "text/plain": [
       "{'h': 1, 'e': 2, 'y': 1, 'u': 1, 's': 1, 'r': 1}"
      ]
     },
     "execution_count": 29,
     "metadata": {},
     "output_type": "execute_result"
    }
   ],
   "source": [
    "d={}\n",
    "x='heyuser'\n",
    "for i in x:\n",
    "    if i in d:\n",
    "        d[i]=d[i]+1\n",
    "    else:\n",
    "        d[i]=1\n",
    "d"
   ]
  },
  {
   "cell_type": "code",
   "execution_count": 31,
   "id": "19704414-33ac-465a-80ba-c54064918d2d",
   "metadata": {},
   "outputs": [
    {
     "data": {
      "text/plain": [
       "{'h': 1, 'e': 1, 'y': 1, 'u': 1, 's': 1, 'r': 1}"
      ]
     },
     "execution_count": 31,
     "metadata": {},
     "output_type": "execute_result"
    }
   ],
   "source": [
    "d={}\n",
    "x='heyuser'\n",
    "for i in x:\n",
    "    d[i]=1\n",
    "        \n",
    "d"
   ]
  },
  {
   "cell_type": "code",
   "execution_count": 1,
   "id": "79095952-b790-44e5-a910-2db460d019de",
   "metadata": {},
   "outputs": [
    {
     "data": {
      "text/plain": [
       "{'a': 2, 'e': 3, 'i': 1, 'o': 1, 'u': 1}"
      ]
     },
     "execution_count": 1,
     "metadata": {},
     "output_type": "execute_result"
    }
   ],
   "source": [
    "str='hey hello tushar aei'\n",
    "\n",
    "d={'a':0,'e':0,'i':0,'o':0,'u':0}\n",
    "for i in str:\n",
    "    if i in d:\n",
    "        d[i]+=1\n",
    "   \n",
    "d\n",
    " "
   ]
  },
  {
   "cell_type": "code",
   "execution_count": 4,
   "id": "de29bd56-9f7e-4be4-b388-b7e712cedf94",
   "metadata": {},
   "outputs": [
    {
     "data": {
      "text/plain": [
       "{'hey': 4, 'juj': 1, 'htg': 1, 'hello': 2}"
      ]
     },
     "execution_count": 4,
     "metadata": {},
     "output_type": "execute_result"
    }
   ],
   "source": [
    "str='hey juj hey htg hey hey hello hello'.split()\n",
    "d={}\n",
    "for i in str:\n",
    "    if i in d:\n",
    "        d[i]+=1\n",
    "    else:\n",
    "        d[i]=1\n",
    "d"
   ]
  },
  {
   "cell_type": "code",
   "execution_count": null,
   "id": "cddf7e0d-ce54-4869-8d30-53016fa267b3",
   "metadata": {},
   "outputs": [],
   "source": []
  },
  {
   "cell_type": "code",
   "execution_count": 2,
   "id": "f11f5b17-636e-41bf-824e-e7f6f92375c4",
   "metadata": {},
   "outputs": [
    {
     "name": "stdout",
     "output_type": "stream",
     "text": [
      "[10, 11, 12, 13, 14, 15, 16, 17, 18]\n"
     ]
    }
   ],
   "source": [
    "#List comprehension\n",
    "\n",
    "mylist=[i for i in range(10,19)]\n",
    "print(mylist)\n"
   ]
  },
  {
   "cell_type": "code",
   "execution_count": null,
   "id": "07169ea9-d9b5-4d93-9869-081848d78620",
   "metadata": {},
   "outputs": [],
   "source": [
    "#Function\n",
    "# reuse the block of code \n",
    "# help in code debugging"
   ]
  },
  {
   "cell_type": "code",
   "execution_count": 3,
   "id": "bb1341ce-e214-4e55-a95c-7455609ef24f",
   "metadata": {},
   "outputs": [
    {
     "name": "stdout",
     "output_type": "stream",
     "text": [
      "ankit\n"
     ]
    }
   ],
   "source": [
    "def hello():\n",
    "    print('ankit')\n",
    "\n",
    "hello()"
   ]
  },
  {
   "cell_type": "code",
   "execution_count": 4,
   "id": "3673baff-06f8-4311-b1e3-101e7678c371",
   "metadata": {},
   "outputs": [
    {
     "name": "stdout",
     "output_type": "stream",
     "text": [
      "ankit\n"
     ]
    }
   ],
   "source": [
    "hello()"
   ]
  },
  {
   "cell_type": "code",
   "execution_count": 6,
   "id": "74a0911b-6d31-4bc7-9a19-8bb47ebcb50c",
   "metadata": {},
   "outputs": [
    {
     "name": "stdout",
     "output_type": "stream",
     "text": [
      "hello user ankit\n"
     ]
    }
   ],
   "source": [
    "def fun(x):\n",
    "    print('hello user',x)\n",
    "\n",
    "fun('ankit')"
   ]
  },
  {
   "cell_type": "code",
   "execution_count": 7,
   "id": "a6fef53b-3473-4dd0-857d-82546e3bb523",
   "metadata": {},
   "outputs": [
    {
     "name": "stdout",
     "output_type": "stream",
     "text": [
      "8\n"
     ]
    }
   ],
   "source": [
    "def add(x,y):\n",
    "    print(x+y)\n",
    "\n",
    "add(3,5)"
   ]
  },
  {
   "cell_type": "code",
   "execution_count": 8,
   "id": "af142a1b-8e90-48f7-be61-c9738b375bb6",
   "metadata": {},
   "outputs": [
    {
     "name": "stdout",
     "output_type": "stream",
     "text": [
      "8\n"
     ]
    }
   ],
   "source": [
    "def add(x,y):\n",
    "    z=x+y\n",
    "    print(z)\n",
    "\n",
    "add(3,5)"
   ]
  },
  {
   "cell_type": "code",
   "execution_count": 9,
   "id": "b0a1a2e0-da3d-4094-ab09-fb48857d778f",
   "metadata": {},
   "outputs": [
    {
     "ename": "NameError",
     "evalue": "name 'z' is not defined",
     "output_type": "error",
     "traceback": [
      "\u001b[1;31m---------------------------------------------------------------------------\u001b[0m",
      "\u001b[1;31mNameError\u001b[0m                                 Traceback (most recent call last)",
      "Cell \u001b[1;32mIn[9], line 6\u001b[0m\n\u001b[0;32m      2\u001b[0m     z\u001b[38;5;241m=\u001b[39mx\u001b[38;5;241m+\u001b[39my\n\u001b[0;32m      5\u001b[0m add(\u001b[38;5;241m3\u001b[39m,\u001b[38;5;241m5\u001b[39m)\n\u001b[1;32m----> 6\u001b[0m \u001b[38;5;28mprint\u001b[39m(z)\n",
      "\u001b[1;31mNameError\u001b[0m: name 'z' is not defined"
     ]
    }
   ],
   "source": [
    "def add(x,y):\n",
    "    z=x+y\n",
    "   \n",
    "\n",
    "add(3,5)\n",
    "print(z)    # local variable ==> life scope of a variable.  this variable is local to the function\n",
    "              # x,y,z all are local variable."
   ]
  },
  {
   "cell_type": "code",
   "execution_count": 10,
   "id": "93df5ebd-d72c-4c91-b0ad-349ed25749da",
   "metadata": {},
   "outputs": [
    {
     "ename": "NameError",
     "evalue": "name 'z' is not defined",
     "output_type": "error",
     "traceback": [
      "\u001b[1;31m---------------------------------------------------------------------------\u001b[0m",
      "\u001b[1;31mNameError\u001b[0m                                 Traceback (most recent call last)",
      "Cell \u001b[1;32mIn[10], line 4\u001b[0m\n\u001b[0;32m      1\u001b[0m \u001b[38;5;28;01mdef\u001b[39;00m \u001b[38;5;21madd\u001b[39m(x,y):\n\u001b[0;32m      2\u001b[0m     z\u001b[38;5;241m=\u001b[39mx\u001b[38;5;241m+\u001b[39my\n\u001b[1;32m----> 4\u001b[0m \u001b[38;5;28mprint\u001b[39m(z)\n\u001b[0;32m      5\u001b[0m add(\u001b[38;5;241m3\u001b[39m,\u001b[38;5;241m5\u001b[39m)\n",
      "\u001b[1;31mNameError\u001b[0m: name 'z' is not defined"
     ]
    }
   ],
   "source": [
    "def add(x,y):\n",
    "    z=x+y\n",
    "   \n",
    "print(z)     # because z is local variable it cannot be print outside the function (outside the intendation of the function).\n",
    "add(3,5)    \n",
    "    "
   ]
  },
  {
   "cell_type": "code",
   "execution_count": 11,
   "id": "15509edf-edf4-474c-9928-ce1a8f0a1f80",
   "metadata": {},
   "outputs": [
    {
     "name": "stdout",
     "output_type": "stream",
     "text": [
      "hey ankit\n"
     ]
    }
   ],
   "source": [
    "# parameter ---- username\n",
    "def greeting(username):\n",
    "    print('hey',username)\n",
    "\n",
    "greeting('ankit')  # argument --- ankit"
   ]
  },
  {
   "cell_type": "markdown",
   "id": "25ecabdd-ede5-4af1-a70c-534d80012cf7",
   "metadata": {},
   "source": [
    "1). parameter - the variable that we have created inside the function or \n",
    "at the time of declaring the function is called parameter"
   ]
  },
  {
   "cell_type": "markdown",
   "id": "a40fba02-f659-4388-bfe2-6e02e3f359d0",
   "metadata": {},
   "source": [
    "2). argument - the value we provide while calling the function is argument."
   ]
  },
  {
   "cell_type": "code",
   "execution_count": 12,
   "id": "6f2077b9-9e28-4d7d-aba6-b13bf557b57d",
   "metadata": {},
   "outputs": [
    {
     "name": "stdout",
     "output_type": "stream",
     "text": [
      "10\n",
      "20\n"
     ]
    }
   ],
   "source": [
    "y=10\n",
    "def fun():\n",
    "    global y\n",
    "    print(y)\n",
    "    y=20\n",
    "\n",
    "fun()\n",
    "print(y)"
   ]
  },
  {
   "cell_type": "code",
   "execution_count": 13,
   "id": "3629ee04-ef58-4f00-810d-1802b45bb9e0",
   "metadata": {},
   "outputs": [
    {
     "name": "stdout",
     "output_type": "stream",
     "text": [
      "20\n"
     ]
    }
   ],
   "source": [
    "y=10\n",
    "def fun():\n",
    "    global y\n",
    "\n",
    "    y=20\n",
    "\n",
    "fun()\n",
    "print(y)"
   ]
  },
  {
   "cell_type": "code",
   "execution_count": 16,
   "id": "e20fd3de-f0e7-4de8-9b14-94fc14fa1e11",
   "metadata": {},
   "outputs": [
    {
     "name": "stdout",
     "output_type": "stream",
     "text": [
      "20\n"
     ]
    }
   ],
   "source": [
    "y=10\n",
    "def fun():\n",
    "    global y\n",
    "    \n",
    "    y=20\n",
    "    print(y)\n",
    "\n",
    "fun()\n"
   ]
  },
  {
   "cell_type": "code",
   "execution_count": 17,
   "id": "8884bb01-b80f-46e9-af0a-9b344bf0df96",
   "metadata": {},
   "outputs": [
    {
     "name": "stdout",
     "output_type": "stream",
     "text": [
      "120\n"
     ]
    }
   ],
   "source": [
    "def add(x,y):\n",
    "    print(x+y)\n",
    "\n",
    "a=100\n",
    "b=20\n",
    "add(a,b)"
   ]
  },
  {
   "cell_type": "code",
   "execution_count": 18,
   "id": "55a52d20-1dd5-4814-8fe0-c9fbf479d019",
   "metadata": {},
   "outputs": [
    {
     "name": "stdout",
     "output_type": "stream",
     "text": [
      "100\n"
     ]
    }
   ],
   "source": [
    "def add(x,y):\n",
    "    print(x+y)\n",
    "\n",
    "a=100\n",
    "b=20\n",
    "add(a,0)"
   ]
  },
  {
   "cell_type": "code",
   "execution_count": 19,
   "id": "53ba496d-aec7-4623-8236-1d20274b7fa2",
   "metadata": {},
   "outputs": [
    {
     "name": "stdout",
     "output_type": "stream",
     "text": [
      "120\n"
     ]
    }
   ],
   "source": [
    "def add(x,y):\n",
    "    print(x+y)\n",
    "\n",
    "    a=100\n",
    "    b=20\n",
    "add(a,b)"
   ]
  },
  {
   "cell_type": "code",
   "execution_count": 23,
   "id": "d8fa3636-e2ee-4675-b7e2-eb7f65944703",
   "metadata": {},
   "outputs": [
    {
     "name": "stdout",
     "output_type": "stream",
     "text": [
      "palindrome\n"
     ]
    }
   ],
   "source": [
    "def pali(n):\n",
    "    sum=0\n",
    "    a=n\n",
    "    while(n>0):\n",
    "        rem=n%10\n",
    "        sum=sum*10+rem\n",
    "        n=n//10\n",
    "    if sum==a:\n",
    "        print('palindrome')\n",
    "    else:\n",
    "        print('not')\n",
    "\n",
    "pali(1221)"
   ]
  },
  {
   "cell_type": "code",
   "execution_count": 28,
   "id": "629a33af-c39f-4149-bcc6-616eb905bfba",
   "metadata": {},
   "outputs": [
    {
     "name": "stdout",
     "output_type": "stream",
     "text": [
      "2\n",
      "3\n",
      "5\n",
      "7\n",
      "11\n",
      "13\n"
     ]
    }
   ],
   "source": [
    "def prime(n):\n",
    "    for i in range(2,n+1):\n",
    "        k=0\n",
    "        for j in range(2,i):\n",
    "            if i%j==0:\n",
    "                k=1\n",
    "                break\n",
    "        if k==0:\n",
    "            print(i)\n",
    "prime(13)\n",
    "    "
   ]
  },
  {
   "cell_type": "code",
   "execution_count": 31,
   "id": "5c72efbb-fc5b-4b64-8102-cba37041fc41",
   "metadata": {},
   "outputs": [
    {
     "data": {
      "text/plain": [
       "True"
      ]
     },
     "execution_count": 31,
     "metadata": {},
     "output_type": "execute_result"
    }
   ],
   "source": [
    "def fun(x):\n",
    "    if x%2==0:\n",
    "        return True\n",
    "    else:\n",
    "        return False\n",
    "\n",
    "fun(10)"
   ]
  },
  {
   "cell_type": "code",
   "execution_count": 37,
   "id": "d2ad5b1b-28ba-4d08-959b-7e97b6c5cf32",
   "metadata": {},
   "outputs": [
    {
     "data": {
      "text/plain": [
       "True"
      ]
     },
     "execution_count": 37,
     "metadata": {},
     "output_type": "execute_result"
    }
   ],
   "source": [
    "def fun(x):\n",
    "    count=0\n",
    "    for i in range(1,x+1):\n",
    "        if x%i==0:\n",
    "            count+=1\n",
    "            if i != x//i:\n",
    "                count+=1\n",
    "            if count>=4: \n",
    "                return True\n",
    "        else:\n",
    "            return False\n",
    "\n",
    "            \n",
    "fun(10)\n",
    "            \n",
    "            "
   ]
  },
  {
   "cell_type": "code",
   "execution_count": 1,
   "id": "79873c9f-1a45-40f0-bc21-75e99444fc44",
   "metadata": {},
   "outputs": [],
   "source": [
    "#first class function"
   ]
  },
  {
   "cell_type": "code",
   "execution_count": 2,
   "id": "11df9592-9730-4995-b9b7-95b8e55040cc",
   "metadata": {},
   "outputs": [
    {
     "data": {
      "text/plain": [
       "'hello'"
      ]
     },
     "execution_count": 2,
     "metadata": {},
     "output_type": "execute_result"
    }
   ],
   "source": [
    "def fun():\n",
    "    return 'hello'\n",
    "\n",
    "x=fun\n",
    "x()"
   ]
  },
  {
   "cell_type": "code",
   "execution_count": 3,
   "id": "2bfefe74-24c5-48b2-b300-69f6f31a60e9",
   "metadata": {},
   "outputs": [
    {
     "data": {
      "text/plain": [
       "'hello'"
      ]
     },
     "execution_count": 3,
     "metadata": {},
     "output_type": "execute_result"
    }
   ],
   "source": [
    "fun()"
   ]
  },
  {
   "cell_type": "code",
   "execution_count": 4,
   "id": "73400688-a239-47b7-8832-fcd6870ef71c",
   "metadata": {},
   "outputs": [
    {
     "data": {
      "text/plain": [
       "'hello'"
      ]
     },
     "execution_count": 4,
     "metadata": {},
     "output_type": "execute_result"
    }
   ],
   "source": [
    "mylist=[10,fun]\n",
    "mylist[1]()"
   ]
  },
  {
   "cell_type": "code",
   "execution_count": 6,
   "id": "758a4696-905e-4f14-8355-03643f910bdf",
   "metadata": {},
   "outputs": [
    {
     "name": "stdout",
     "output_type": "stream",
     "text": [
      "4\n",
      "None\n"
     ]
    }
   ],
   "source": [
    "def fun(n):\n",
    "    print(n**2)\n",
    "x=fun(2)\n",
    "print(x)"
   ]
  },
  {
   "cell_type": "code",
   "execution_count": 8,
   "id": "0abf268c-40c2-4717-bcdc-4398378dd2fa",
   "metadata": {},
   "outputs": [
    {
     "name": "stdout",
     "output_type": "stream",
     "text": [
      "y <function square at 0x00000276C640F7E0>\n"
     ]
    }
   ],
   "source": [
    "def square(n):\n",
    "    print(n**2)\n",
    "\n",
    "y=square                # this will print the memory addre of y  (here square and y both has same menmory address)\n",
    "print('y',y)"
   ]
  },
  {
   "cell_type": "code",
   "execution_count": 9,
   "id": "41f27d5c-b5b5-4049-a3a5-80009036e9a1",
   "metadata": {},
   "outputs": [
    {
     "name": "stdout",
     "output_type": "stream",
     "text": [
      "16\n",
      "x and y 10 None\n"
     ]
    }
   ],
   "source": [
    "def square(num):\n",
    "    print(num**2)   # because it does not return anything\n",
    "\n",
    "def cube(x,y):\n",
    "    print('x and y',x,y)\n",
    "\n",
    "cube(10,square(4))"
   ]
  },
  {
   "cell_type": "code",
   "execution_count": 18,
   "id": "71e0eb5f-3a8e-4f03-a381-4b50f2ae95f8",
   "metadata": {},
   "outputs": [
    {
     "name": "stdout",
     "output_type": "stream",
     "text": [
      "x and y 10 <function square at 0x00000276C64CAA20>\n"
     ]
    }
   ],
   "source": [
    "def square(num):\n",
    "    print(num**2)\n",
    "\n",
    "def cube(x,y):\n",
    "    print('x and y',x,y)\n",
    "\n",
    "cube(10,square)    # here y=square so, it has its memory address."
   ]
  },
  {
   "cell_type": "code",
   "execution_count": 20,
   "id": "d3b34eac-9656-4f00-8a1d-c683914a177e",
   "metadata": {},
   "outputs": [
    {
     "name": "stdout",
     "output_type": "stream",
     "text": [
      "16\n",
      "None\n"
     ]
    }
   ],
   "source": [
    "out=y(4) \n",
    "print(out)"
   ]
  },
  {
   "cell_type": "code",
   "execution_count": 21,
   "id": "e676330a-a6b0-4bec-9a71-5bf345fb6d9e",
   "metadata": {},
   "outputs": [
    {
     "name": "stdout",
     "output_type": "stream",
     "text": [
      "x and y 10 <function square at 0x00000276C64CA980>\n",
      "out 1000\n"
     ]
    }
   ],
   "source": [
    "def square(num):\n",
    "    return (num**2)\n",
    "\n",
    "def cube(x,y):\n",
    "    print('x and y',x,y)\n",
    "    out=y(x)*x\n",
    "    print('out',out)\n",
    "\n",
    "# all high order function ==> first class function.\n",
    "cube(10,square)"
   ]
  },
  {
   "cell_type": "code",
   "execution_count": 22,
   "id": "d99f9a4a-b10b-45cd-8598-71b6a4cf0bb5",
   "metadata": {},
   "outputs": [],
   "source": [
    "# but all first class functions are not high order function."
   ]
  },
  {
   "cell_type": "code",
   "execution_count": 24,
   "id": "6c11bdd3-0014-4143-9865-6d9e08a2d2bc",
   "metadata": {},
   "outputs": [],
   "source": [
    "# lambda function => annomyous function or one line function.\n",
    "# lambda parameter : expression"
   ]
  },
  {
   "cell_type": "code",
   "execution_count": 27,
   "id": "678a1ce6-881f-440e-8fd6-015064f4e0f7",
   "metadata": {},
   "outputs": [
    {
     "data": {
      "text/plain": [
       "100"
      ]
     },
     "execution_count": 27,
     "metadata": {},
     "output_type": "execute_result"
    }
   ],
   "source": [
    "abc=lambda num: num**2\n",
    "abc(10)"
   ]
  },
  {
   "cell_type": "code",
   "execution_count": 41,
   "id": "75974094-7fa6-4df2-b999-2572eef59bb7",
   "metadata": {},
   "outputs": [
    {
     "data": {
      "text/plain": [
       "('hello', 'world')"
      ]
     },
     "execution_count": 41,
     "metadata": {},
     "output_type": "execute_result"
    }
   ],
   "source": [
    "str='hello hey world'.split()\n",
    "a=lambda str: (str[0], str[-1])\n",
    "a(str)"
   ]
  },
  {
   "cell_type": "code",
   "execution_count": 46,
   "id": "f3b73fe8-66ed-4f93-bd5e-837ddd4fd11e",
   "metadata": {},
   "outputs": [
    {
     "data": {
      "text/plain": [
       "100"
      ]
     },
     "execution_count": 46,
     "metadata": {},
     "output_type": "execute_result"
    }
   ],
   "source": [
    "# map function ==> logic, return\n",
    "def fun(num):\n",
    "    return num**2\n",
    "\n",
    "xyz=map(fun,[10,20,30,40,50])\n",
    "next(xyz)"
   ]
  },
  {
   "cell_type": "code",
   "execution_count": 47,
   "id": "034ecb51-26c9-44e6-b31f-6fbe49b33a97",
   "metadata": {},
   "outputs": [
    {
     "data": {
      "text/plain": [
       "400"
      ]
     },
     "execution_count": 47,
     "metadata": {},
     "output_type": "execute_result"
    }
   ],
   "source": [
    "next(xyz)"
   ]
  },
  {
   "cell_type": "code",
   "execution_count": 48,
   "id": "d7ac1afc-6a72-41a2-b597-58c16174d9c4",
   "metadata": {},
   "outputs": [
    {
     "data": {
      "text/plain": [
       "900"
      ]
     },
     "execution_count": 48,
     "metadata": {},
     "output_type": "execute_result"
    }
   ],
   "source": [
    "next(xyz)"
   ]
  },
  {
   "cell_type": "code",
   "execution_count": 59,
   "id": "26cf63d2-72d5-4345-ae60-8c78210a427d",
   "metadata": {},
   "outputs": [
    {
     "name": "stdout",
     "output_type": "stream",
     "text": [
      "[100, 400, 900, 1600, 25]\n"
     ]
    }
   ],
   "source": [
    "def fun(num):\n",
    "    return num**2\n",
    "\n",
    "xyz=list(map(fun,[10,20,30,40,5]))\n",
    "print(xyz)"
   ]
  },
  {
   "cell_type": "code",
   "execution_count": 60,
   "id": "c22391cb-8496-488f-8572-741f1043d2c0",
   "metadata": {},
   "outputs": [
    {
     "name": "stdout",
     "output_type": "stream",
     "text": [
      "[100, 400, 900, 1600, 25]\n"
     ]
    }
   ],
   "source": [
    "xyz=list(map(lambda num: num**2,[10,20,30,40,5]))\n",
    "print(xyz)"
   ]
  },
  {
   "cell_type": "code",
   "execution_count": 61,
   "id": "b5aa93e6-eedf-4648-9134-f4f97c319925",
   "metadata": {},
   "outputs": [
    {
     "name": "stdout",
     "output_type": "stream",
     "text": [
      "[True, True, True, True, False]\n"
     ]
    }
   ],
   "source": [
    "xyz=list(map(lambda num: num%2==0,[10,20,30,40,5]))\n",
    "print(xyz)"
   ]
  },
  {
   "cell_type": "code",
   "execution_count": 63,
   "id": "382d5103-8454-49de-bd03-807e85ed28a8",
   "metadata": {},
   "outputs": [
    {
     "name": "stdout",
     "output_type": "stream",
     "text": [
      "[10, 20, 30, 40]\n"
     ]
    }
   ],
   "source": [
    "xyz=list(filter(lambda num: num%2==0,[10,20,30,40,5]))  # only for the desired output\n",
    "print(xyz)"
   ]
  },
  {
   "cell_type": "code",
   "execution_count": null,
   "id": "4c49ec3a-6e1f-4d24-8ec3-a1ba72afae5a",
   "metadata": {},
   "outputs": [],
   "source": []
  },
  {
   "cell_type": "code",
   "execution_count": null,
   "id": "b62e9f84-de15-475a-b6bd-1e21c80fc3cd",
   "metadata": {},
   "outputs": [],
   "source": []
  }
 ],
 "metadata": {
  "kernelspec": {
   "display_name": "Python 3 (ipykernel)",
   "language": "python",
   "name": "python3"
  },
  "language_info": {
   "codemirror_mode": {
    "name": "ipython",
    "version": 3
   },
   "file_extension": ".py",
   "mimetype": "text/x-python",
   "name": "python",
   "nbconvert_exporter": "python",
   "pygments_lexer": "ipython3",
   "version": "3.12.4"
  }
 },
 "nbformat": 4,
 "nbformat_minor": 5
}
