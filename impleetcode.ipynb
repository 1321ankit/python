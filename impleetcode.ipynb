{
 "cells": [
  {
   "cell_type": "markdown",
   "id": "7ab4d85f-2e6a-4b52-b650-0ee14b4f591c",
   "metadata": {},
   "source": [
    "2 sum II                                      \n",
    "https://leetcode.com/problems/two-sum-ii-input-array-is-sorted/"
   ]
  },
  {
   "cell_type": "code",
   "execution_count": 31,
   "id": "bcc89a5c-4d1e-4d3f-9f15-1bfb35ee4711",
   "metadata": {},
   "outputs": [
    {
     "name": "stdout",
     "output_type": "stream",
     "text": [
      "[[0, 1]]\n"
     ]
    }
   ],
   "source": [
    "l = [2, 7, 11, 15]\n",
    "target = 9\n",
    "l1 = []\n",
    "i = 0\n",
    "j = len(l) - 1\n",
    "\n",
    "while i < j:\n",
    "    if l[i] + l[j] == target:\n",
    "        l1.append([i, j])  # Corrected append statement\n",
    "        break  # Since we found a solution, we can exit the loop\n",
    "    elif l[i] + l[j] < target:\n",
    "        i += 1\n",
    "    else:\n",
    "        j -= 1\n",
    "\n",
    "print(l1)  # Output the result\n"
   ]
  },
  {
   "cell_type": "code",
   "execution_count": null,
   "id": "3c63d8dd-e832-4c62-bd55-6d2a5c3bc293",
   "metadata": {},
   "outputs": [],
   "source": []
  },
  {
   "cell_type": "markdown",
   "id": "b523e1f9-00eb-42cd-9ab8-b0d3d80628db",
   "metadata": {},
   "source": [
    "Contains Duplicate                                  \n",
    "https://leetcode.com/problems/contains-duplicate/"
   ]
  },
  {
   "cell_type": "code",
   "execution_count": 13,
   "id": "71accf7b-9497-4bca-95c4-30483827dd86",
   "metadata": {},
   "outputs": [
    {
     "name": "stdout",
     "output_type": "stream",
     "text": [
      "True\n"
     ]
    }
   ],
   "source": [
    "l=[1,2,3,1]\n",
    "i=0\n",
    "l2=sorted(l)\n",
    "flag=0\n",
    "for i in range(len(l2)-1):\n",
    "    if l2[i]==l2[i+1]:\n",
    "        flag=1\n",
    "        break\n",
    "    \n",
    "\n",
    "if flag==1:        \n",
    "    print(True)\n",
    "elif flag==0:\n",
    "    print(False)\n",
    "        "
   ]
  },
  {
   "cell_type": "code",
   "execution_count": 30,
   "id": "6067f43d-289d-427d-b791-b0996877b6b2",
   "metadata": {},
   "outputs": [
    {
     "name": "stdout",
     "output_type": "stream",
     "text": [
      "True\n"
     ]
    }
   ],
   "source": [
    "l=[1,2,3,1]\n",
    "l.sort()\n",
    "i=0\n",
    "while(i<len(l)-1):\n",
    "    if l[i]==l[i+1]:\n",
    "        print(True)\n",
    "        break\n",
    "    i+=1\n",
    "else:\n",
    "    print(False)\n",
    "\n",
    "    "
   ]
  },
  {
   "cell_type": "code",
   "execution_count": null,
   "id": "326e2c6d-75cc-4877-b762-7c78d2e7bea5",
   "metadata": {},
   "outputs": [],
   "source": []
  },
  {
   "cell_type": "markdown",
   "id": "836f0ef8-921d-47d6-be81-00a3238d2d11",
   "metadata": {},
   "source": [
    "Rotate Array                                   \n",
    "https://leetcode.com/problems/rotate-array/"
   ]
  },
  {
   "cell_type": "code",
   "execution_count": 39,
   "id": "86b7c3af-4ad2-498d-9d4b-203ec59ab67d",
   "metadata": {},
   "outputs": [
    {
     "name": "stdin",
     "output_type": "stream",
     "text": [
      "enter the number 2\n"
     ]
    },
    {
     "data": {
      "text/plain": [
       "[6, 7, 1, 2, 3, 4, 5]"
      ]
     },
     "execution_count": 39,
     "metadata": {},
     "output_type": "execute_result"
    }
   ],
   "source": [
    "nums = [1,2,3,4,5,6,7]\n",
    "k=int(input('enter the number'))\n",
    "k=k%len(nums)\n",
    "nums[:]=nums[-k:]+nums[:-k]\n",
    "nums"
   ]
  },
  {
   "cell_type": "code",
   "execution_count": null,
   "id": "450d6a85-6e9e-41b2-9d49-179887611fde",
   "metadata": {},
   "outputs": [],
   "source": []
  },
  {
   "cell_type": "markdown",
   "id": "50534952-440d-46b0-b0bf-ddc8a8f201a8",
   "metadata": {},
   "source": [
    "3 Sum                             \n",
    "https://leetcode.com/problems/3sum/"
   ]
  },
  {
   "cell_type": "code",
   "execution_count": 6,
   "id": "9c0c0cbb-4e8c-4a82-95df-c9cc97247756",
   "metadata": {},
   "outputs": [
    {
     "data": {
      "text/plain": [
       "[[-1, -1, 2], [-1, 0, 1]]"
      ]
     },
     "execution_count": 6,
     "metadata": {},
     "output_type": "execute_result"
    }
   ],
   "source": [
    "l = [-1,0,1,2,-1,-4]\n",
    "l.sort()\n",
    "list=[]\n",
    "for i in range(len(l)-2):\n",
    "    if i>0 and l[i]==l[i-1]:\n",
    "        continue\n",
    "    start=i+1\n",
    "    end=len(l)-1\n",
    "    while(start<end):\n",
    "        if l[i]+l[start]+l[end]==0:\n",
    "            list.append([l[i],l[start],l[end]])\n",
    "            while start<end and l[start]==l[start+1]:\n",
    "                start+=1\n",
    "            while start<end and l[end]==l[end-1]:\n",
    "                end-=1\n",
    "            start+=1\n",
    "            end-=1\n",
    "        elif  l[i]+l[start]+l[end]<0:\n",
    "            start+=1\n",
    "        else:\n",
    "            end-=1\n",
    "list           "
   ]
  },
  {
   "cell_type": "code",
   "execution_count": null,
   "id": "3ab14561-64f2-4682-8d0f-f532b320791f",
   "metadata": {},
   "outputs": [],
   "source": []
  },
  {
   "cell_type": "markdown",
   "id": "775e53c1-d389-48fc-9f30-fc75dd14f21b",
   "metadata": {},
   "source": [
    "3 Sum Closest                              \n",
    "https://leetcode.com/problems/3sum-closest/"
   ]
  },
  {
   "cell_type": "code",
   "execution_count": 17,
   "id": "3c078e9f-d1ad-4f4d-96c8-ccdebe27ece0",
   "metadata": {},
   "outputs": [
    {
     "name": "stdout",
     "output_type": "stream",
     "text": [
      "2\n"
     ]
    }
   ],
   "source": [
    "l = [-1,2,1,-4]\n",
    "l.sort()\n",
    "target=1\n",
    "closest=float('inf')\n",
    "for i in range(len(l)-2):\n",
    "    j=i+1\n",
    "    k=len(l)-1\n",
    "    while(j<k):\n",
    "        total=l[i]+l[j]+l[k]\n",
    "        if total==target:\n",
    "            print(total)\n",
    "            break\n",
    "        if abs(total-target)<abs(closest-target):\n",
    "            closest=total\n",
    " \n",
    "        if total>target:\n",
    "            k-=1\n",
    "        else:\n",
    "            j+=1\n",
    "print(closest)        \n",
    "    "
   ]
  },
  {
   "cell_type": "code",
   "execution_count": null,
   "id": "7229203b-90ab-4dc9-aff9-f2bca164557e",
   "metadata": {},
   "outputs": [],
   "source": []
  },
  {
   "cell_type": "markdown",
   "id": "21f0886b-3e3b-4723-920b-0390bbf1c958",
   "metadata": {},
   "source": [
    "Two Sum              # important  list is not sorted                        \n",
    "https://leetcode.com/problems/two-sum/"
   ]
  },
  {
   "cell_type": "code",
   "execution_count": 36,
   "id": "588d6fe3-f110-42ce-a352-9e59d4520b66",
   "metadata": {},
   "outputs": [
    {
     "name": "stdout",
     "output_type": "stream",
     "text": [
      "[0, 1]\n",
      "[1, 0]\n"
     ]
    }
   ],
   "source": [
    "l=[2,7,11,15]\n",
    "target = 9\n",
    "d={}\n",
    "for i in range(len(l)):\n",
    "    d[l[i]]=i\n",
    "for i in range(len(l)):\n",
    "    need=target-l[i]\n",
    "    if (need in d.keys() and d[need]!=i):\n",
    "        print([i,d[need]])\n",
    "        "
   ]
  },
  {
   "cell_type": "code",
   "execution_count": null,
   "id": "bd69b2f9-b99f-4c90-90b9-8fce7f6de2e5",
   "metadata": {},
   "outputs": [],
   "source": []
  },
  {
   "cell_type": "markdown",
   "id": "76e22e7f-8687-4cb2-b9bb-d66ecdafeec8",
   "metadata": {},
   "source": [
    "Plus One              \n",
    "https://leetcode.com/problems/plus-one/  "
   ]
  },
  {
   "cell_type": "code",
   "execution_count": 12,
   "id": "dcc7b5c5-4afc-4a70-a085-788afeb3c026",
   "metadata": {},
   "outputs": [
    {
     "data": {
      "text/plain": [
       "[1, 2, 4]"
      ]
     },
     "execution_count": 12,
     "metadata": {},
     "output_type": "execute_result"
    }
   ],
   "source": [
    "l=[1,2,3]\n",
    "list=[]\n",
    "result=''\n",
    "for i in l:\n",
    "    result+=str(i)\n",
    "new=int(result)+1\n",
    "for i in str(new):\n",
    "    list.append(int(i))\n",
    "list\n",
    "    "
   ]
  },
  {
   "cell_type": "code",
   "execution_count": null,
   "id": "765e7134-79f9-475b-b90f-7fd89f802cc7",
   "metadata": {},
   "outputs": [],
   "source": []
  },
  {
   "cell_type": "markdown",
   "id": "2c0e4ea3-34fe-4512-8b4e-87009c920b31",
   "metadata": {},
   "source": [
    "Best Time to Buy and Sell Stock                   \n",
    "https://leetcode.com/problems/best-time-to-buy-and-sell-stock/"
   ]
  },
  {
   "cell_type": "code",
   "execution_count": 44,
   "id": "92081262-eb57-40d5-8c9f-e398e5b1c604",
   "metadata": {},
   "outputs": [
    {
     "name": "stdout",
     "output_type": "stream",
     "text": [
      "5\n"
     ]
    }
   ],
   "source": [
    "l = [7,1,5,3,6,4]\n",
    "i=0\n",
    "j=1\n",
    "max=0\n",
    "while(j<len(l)):\n",
    "    if l[i]<l[j]:\n",
    "        profit=l[j]-l[i]\n",
    "        if profit>max:\n",
    "            max=profit\n",
    "    else:\n",
    "        i=j\n",
    "    j+=1\n",
    "print(max)\n",
    "            "
   ]
  },
  {
   "cell_type": "code",
   "execution_count": 1,
   "id": "97f00530-8944-4e43-9e0c-fff38b701b2d",
   "metadata": {},
   "outputs": [
    {
     "name": "stdout",
     "output_type": "stream",
     "text": [
      "5\n"
     ]
    }
   ],
   "source": [
    "l=[7,1,5,3,6,4]\n",
    "i=0\n",
    "max1=0\n",
    "for j in range(1,len(l)):\n",
    "    if l[i]<l[j]:\n",
    "        profit=l[j]-l[i]\n",
    "        if profit>max1:\n",
    "            max1=profit\n",
    "    else:\n",
    "        i=j\n",
    "\n",
    "print(max1)"
   ]
  },
  {
   "cell_type": "code",
   "execution_count": null,
   "id": "c3fffe2f-0ba6-4652-8b9f-f0122a89988e",
   "metadata": {},
   "outputs": [],
   "source": []
  },
  {
   "cell_type": "markdown",
   "id": "9f1e3422-91b3-4994-abe0-7dbca7397d26",
   "metadata": {},
   "source": [
    "Shortest Word Distance  [*]                 \n",
    "https://leetcode.com/problems/shortest-word-distance/"
   ]
  },
  {
   "cell_type": "code",
   "execution_count": null,
   "id": "8acae51b-397a-4c80-88f1-ea6d831e701a",
   "metadata": {},
   "outputs": [],
   "source": []
  },
  {
   "cell_type": "code",
   "execution_count": null,
   "id": "b36829fd-e4c6-47a8-ba85-a731156b6c36",
   "metadata": {},
   "outputs": [],
   "source": []
  },
  {
   "cell_type": "markdown",
   "id": "6fbeeb78-62f2-45f5-9afd-0c20c4ab6a62",
   "metadata": {},
   "source": [
    "Move Zeroes                     \n",
    "https://leetcode.com/problems/move-zeroes/"
   ]
  },
  {
   "cell_type": "code",
   "execution_count": 32,
   "id": "3f3651e5-2b21-490e-91dc-6e01a47d480d",
   "metadata": {},
   "outputs": [
    {
     "data": {
      "text/plain": [
       "[1, 3, 12, 0, 0]"
      ]
     },
     "execution_count": 32,
     "metadata": {},
     "output_type": "execute_result"
    }
   ],
   "source": [
    "l=[0,1,0,3,12]\n",
    "i=0\n",
    "for j in range(len(l)):\n",
    "    if l[j]!=0:\n",
    "        l[i],l[j]=l[j],l[i]\n",
    "        i+=1\n",
    "l"
   ]
  },
  {
   "cell_type": "code",
   "execution_count": null,
   "id": "e60776f9-59d5-473e-8b63-86c42f5dbb6d",
   "metadata": {},
   "outputs": [],
   "source": []
  },
  {
   "cell_type": "markdown",
   "id": "d82f6dcc-98fe-4a77-8205-5b78702c727d",
   "metadata": {},
   "source": [
    "***** Remove Duplicates from Sorted Array     \n",
    " important in-place Q             \n",
    "https://leetcode.com/problems/remove-duplicates-from-sorted-array/"
   ]
  },
  {
   "cell_type": "code",
   "execution_count": 10,
   "id": "29ad98f0-cc46-4c4a-9cff-e0664d9fa613",
   "metadata": {},
   "outputs": [
    {
     "name": "stdout",
     "output_type": "stream",
     "text": [
      "5\n",
      "[1, 2, 3, 5, 6]\n"
     ]
    }
   ],
   "source": [
    "l = [1,1,2,2,3,5,6,6]\n",
    "i=0\n",
    "for j in range(1,len(l)):\n",
    "    if l[i]!=l[j]:\n",
    "        i+=1\n",
    "        l[i]=l[j]\n",
    "print(i+1)\n",
    "print(l[:i+1]) \n"
   ]
  },
  {
   "cell_type": "markdown",
   "id": "a2fdb94a-8546-41be-a5a9-d357b33e2b9b",
   "metadata": {},
   "source": [
    "Q. remove duplicate from the list"
   ]
  },
  {
   "cell_type": "code",
   "execution_count": 5,
   "id": "0cfb90fa-2ea8-449e-9b20-6b12d65369c5",
   "metadata": {},
   "outputs": [
    {
     "data": {
      "text/plain": [
       "[1, 2, 3, 5, 6]"
      ]
     },
     "execution_count": 5,
     "metadata": {},
     "output_type": "execute_result"
    }
   ],
   "source": [
    "l = [1,1,2,2,3,5,6,6,6,6,6]\n",
    "l1=[]\n",
    "i=0\n",
    "while(i<len(l)-1):\n",
    "    if l[i]!=l[i+1]:\n",
    "        l1.append(l[i])   \n",
    "    i+=1\n",
    "l1.append(l[-1])\n",
    "l1"
   ]
  },
  {
   "cell_type": "code",
   "execution_count": 8,
   "id": "4e6ff859-fefe-467b-a9d6-e5b0cd39b73b",
   "metadata": {},
   "outputs": [
    {
     "data": {
      "text/plain": [
       "[1, 2, 3, 5, 6]"
      ]
     },
     "execution_count": 8,
     "metadata": {},
     "output_type": "execute_result"
    }
   ],
   "source": [
    "l = [1,1,2,2,3,5,6,6,6,6,6]\n",
    "l1=[]\n",
    "i=0\n",
    "for j in range(1,len(l)):\n",
    "    if l[j]!=l[i]:\n",
    "        l1.append(l[i])\n",
    "        l[i]=l[j]\n",
    "l1.append(l[-1])\n",
    "l1"
   ]
  },
  {
   "cell_type": "code",
   "execution_count": 28,
   "id": "0a01b7c3-4222-4fc5-a984-949b2893eb17",
   "metadata": {},
   "outputs": [
    {
     "data": {
      "text/plain": [
       "[1, 2, 3, 5, 6]"
      ]
     },
     "execution_count": 28,
     "metadata": {},
     "output_type": "execute_result"
    }
   ],
   "source": [
    "l = [1,1,2,2,3,5,6,6,6,6,6]\n",
    "l1=[]\n",
    "for i in l:\n",
    "    if i not in l1:\n",
    "        l1.append(i)\n",
    "\n",
    "l1"
   ]
  },
  {
   "cell_type": "code",
   "execution_count": null,
   "id": "b786137d-3b7b-46f6-a602-9d7240491a3d",
   "metadata": {},
   "outputs": [],
   "source": []
  },
  {
   "cell_type": "markdown",
   "id": "5f33cac1-f623-40f4-9bc5-8f21e632de31",
   "metadata": {},
   "source": [
    "*** Remove Element                   \n",
    "https://leetcode.com/problems/remove-element/"
   ]
  },
  {
   "cell_type": "code",
   "execution_count": 6,
   "id": "73df8f7d-a8f4-43e0-9c1a-543bf4fae370",
   "metadata": {},
   "outputs": [
    {
     "name": "stdout",
     "output_type": "stream",
     "text": [
      "2\n",
      "[2, 2]\n"
     ]
    }
   ],
   "source": [
    "l=[3,2,2,3]\n",
    "val=3\n",
    "i=0\n",
    "for j in range(len(l)):\n",
    "    if l[j]!=val: \n",
    "        l[i]=l[j]\n",
    "        i+=1\n",
    "print(i)        \n",
    "print(l[:i])\n",
    "      "
   ]
  },
  {
   "cell_type": "code",
   "execution_count": 4,
   "id": "fee73983-c616-4b10-81fc-b218bbbabd74",
   "metadata": {},
   "outputs": [
    {
     "data": {
      "text/plain": [
       "[2, 2]"
      ]
     },
     "execution_count": 4,
     "metadata": {},
     "output_type": "execute_result"
    }
   ],
   "source": [
    "l=[3,2,2,3]\n",
    "val=3\n",
    "i=0\n",
    "while(i<len(l)):\n",
    "    if l[i]==val:\n",
    "        l[i],l[-1]=l[-1],l[i]\n",
    "        l.pop()\n",
    "    else:\n",
    "        i+=1\n",
    "l\n"
   ]
  },
  {
   "cell_type": "code",
   "execution_count": null,
   "id": "877ab1f6-937e-4ffa-991f-94614045b572",
   "metadata": {},
   "outputs": [],
   "source": []
  },
  {
   "cell_type": "markdown",
   "id": "9bf06af5-1fed-4518-aa9f-395cf057fbe5",
   "metadata": {},
   "source": [
    "Intersection of Two Arrays II                      \n",
    "https://leetcode.com/problems/intersection-of-two-arrays-ii/"
   ]
  },
  {
   "cell_type": "code",
   "execution_count": 19,
   "id": "0f534db7-1408-4919-a274-98210f6e86ee",
   "metadata": {},
   "outputs": [
    {
     "data": {
      "text/plain": [
       "[2]"
      ]
     },
     "execution_count": 19,
     "metadata": {},
     "output_type": "execute_result"
    }
   ],
   "source": [
    "nums1=[1,2,2,1]\n",
    "nums2=[2]\n",
    "l=[]\n",
    "for i in nums1:\n",
    "    if i in nums2:\n",
    "        l.append(i)\n",
    "        nums2.remove(i)\n",
    "l"
   ]
  },
  {
   "cell_type": "code",
   "execution_count": null,
   "id": "62d67274-093f-461a-96f2-e4593466ad77",
   "metadata": {},
   "outputs": [],
   "source": []
  },
  {
   "cell_type": "markdown",
   "id": "a3f65280-6653-4ac2-b167-04841c512873",
   "metadata": {},
   "source": [
    "Merge Sorted Arrays                        \n",
    "https://leetcode.com/problems/merge-sorted-array/"
   ]
  },
  {
   "cell_type": "code",
   "execution_count": 4,
   "id": "5113e9c8-a028-4515-82c9-54af0a50c5c3",
   "metadata": {},
   "outputs": [
    {
     "data": {
      "text/plain": [
       "[1, 2, 2, 3, 5, 6]"
      ]
     },
     "execution_count": 4,
     "metadata": {},
     "output_type": "execute_result"
    }
   ],
   "source": [
    "nums1 = [1,2,3,0,0,0]\n",
    "nums2 = [2,5,6]\n",
    "m=3\n",
    "n=3\n",
    "p1=m-1\n",
    "p2=n-1\n",
    "insert=len(nums1)-1\n",
    "while p1>=0 and p2>=0:\n",
    "    n1,n2=nums1[p1],nums2[p2]\n",
    "    if n1>n2:\n",
    "        nums1[insert]=n1\n",
    "        p1-=1\n",
    "    else:\n",
    "        nums1[insert]=n2\n",
    "        p2-=1\n",
    "    insert-=1\n",
    "while p2>=0:\n",
    "    nums1[insert]=nums2[p2]\n",
    "    p2-=1\n",
    "    insert-=1\n",
    "\n",
    "nums1\n",
    "\n",
    "    \n",
    "    "
   ]
  },
  {
   "cell_type": "code",
   "execution_count": 22,
   "id": "836e0c3c-11d4-4b48-9f82-95a08b886145",
   "metadata": {},
   "outputs": [
    {
     "data": {
      "text/plain": [
       "[1, 2, 2, 3, 5, 6]"
      ]
     },
     "execution_count": 22,
     "metadata": {},
     "output_type": "execute_result"
    }
   ],
   "source": [
    "nums1 = [1,2,3,0,0,0]\n",
    "nums2 = [2,5,6]\n",
    "l=nums1+nums2\n",
    "l.sort()\n",
    "\n",
    "i=0\n",
    "for j in range(len(l)):\n",
    "    if l[j]!=0:\n",
    "        l[i],l[j]=l[j],l[i]\n",
    "        i+=1\n",
    "   \n",
    "l[:i]\n",
    "\n"
   ]
  },
  {
   "cell_type": "code",
   "execution_count": null,
   "id": "8e3baf80-6adf-4c7c-8adb-5244d963a1ac",
   "metadata": {},
   "outputs": [],
   "source": []
  },
  {
   "cell_type": "markdown",
   "id": "5e5e1bbe-a1e3-44b4-84b5-0709c7908afe",
   "metadata": {},
   "source": [
    "Intersection of Two Arrays                  \n",
    "https://leetcode.com/problems/intersection-of-two-arrays/\n"
   ]
  },
  {
   "cell_type": "code",
   "execution_count": 6,
   "id": "828124cf-38e9-4499-a3b2-6ad8a18df901",
   "metadata": {},
   "outputs": [
    {
     "data": {
      "text/plain": [
       "[2]"
      ]
     },
     "execution_count": 6,
     "metadata": {},
     "output_type": "execute_result"
    }
   ],
   "source": [
    "nums1=[1,2,2,1]\n",
    "nums2=[2,2]\n",
    "l=[]\n",
    "for i in nums1:\n",
    "    if i in nums2:\n",
    "        if i not in l:\n",
    "            l.append(i)\n",
    "l"
   ]
  },
  {
   "cell_type": "code",
   "execution_count": null,
   "id": "8b2e0149-5efb-46f1-bb4b-3242227f9245",
   "metadata": {},
   "outputs": [],
   "source": []
  },
  {
   "cell_type": "markdown",
   "id": "efa983b3-d26b-4242-ac2b-fda2b5570fd3",
   "metadata": {},
   "source": [
    "Reverse Vowels of a String               \n",
    "https://leetcode.com/problems/reverse-vowels-of-a-string/"
   ]
  },
  {
   "cell_type": "code",
   "execution_count": 6,
   "id": "cc0af368-4d92-4e5f-b64e-1a5a8e84606e",
   "metadata": {},
   "outputs": [
    {
     "name": "stdout",
     "output_type": "stream",
     "text": [
      "leotcede\n"
     ]
    }
   ],
   "source": [
    "s = \"leetcode\"\n",
    "l=list(s)\n",
    "vowel={'a','e','i','o','u','A','E','I','O','U'}\n",
    "left=0\n",
    "right=len(s)-1\n",
    "while(left<right):\n",
    "    if l[left] not in vowel:\n",
    "        left+=1\n",
    "    elif l[right] not in vowel:\n",
    "        right-=1\n",
    "    else:\n",
    "        l[left],l[right]=l[right],l[left]\n",
    "        left+=1\n",
    "        right-=1\n",
    "print(''.join(l))"
   ]
  },
  {
   "cell_type": "code",
   "execution_count": null,
   "id": "a10ee944-a10d-4d48-892f-d11c4088e83a",
   "metadata": {},
   "outputs": [],
   "source": []
  },
  {
   "cell_type": "markdown",
   "id": "50c40ee9-68ee-4f3d-8da4-417168015d34",
   "metadata": {},
   "source": [
    "Valid Anagram                          \n",
    "https://leetcode.com/problems/valid-anagram/"
   ]
  },
  {
   "cell_type": "code",
   "execution_count": 2,
   "id": "9c661362-1fff-4bab-98e8-e02f57eac70b",
   "metadata": {},
   "outputs": [
    {
     "name": "stdout",
     "output_type": "stream",
     "text": [
      "True\n"
     ]
    }
   ],
   "source": [
    "s = \"anagram\"\n",
    "t = \"nagaram\"\n",
    "d={}\n",
    "d1={}\n",
    "if len(s)!=len(t):\n",
    "    print(False)\n",
    "    exit()\n",
    "for i in range(len(s)):\n",
    "    d[s[i]]=d.get(s[i],0)+1\n",
    "    d1[t[i]]=d1.get(t[i],0)+1\n",
    "for j in d:\n",
    "    if d[j]!=d1.get(j,0):\n",
    "        print(False)\n",
    "        break\n",
    "\n",
    "else:\n",
    "    print(True)\n",
    "    "
   ]
  },
  {
   "cell_type": "code",
   "execution_count": null,
   "id": "67f1f0dd-9460-4aaf-a3d2-20bdb721b17a",
   "metadata": {},
   "outputs": [],
   "source": []
  },
  {
   "cell_type": "markdown",
   "id": "fec91847-9510-4776-ad7e-a0f1498b3021",
   "metadata": {},
   "source": [
    "Valid Palindrome                      \n",
    "https://leetcode.com/problems/valid-palindrome/"
   ]
  },
  {
   "cell_type": "code",
   "execution_count": 4,
   "id": "ce223991-e66b-47e1-9382-c136ed6672f5",
   "metadata": {},
   "outputs": [
    {
     "name": "stdout",
     "output_type": "stream",
     "text": [
      "True\n"
     ]
    }
   ],
   "source": [
    "s = \"A man, a plan, a canal: Panama\"\n",
    "s=s.lower()\n",
    "i=0\n",
    "j=len(s)-1\n",
    "while i<j:\n",
    "    while i<j and not s[i].isalnum():\n",
    "        i+=1\n",
    "    while i<j and not s[j].isalnum():\n",
    "        j-=1\n",
    "    if s[i]!=s[j]:\n",
    "        print(False)\n",
    "        break\n",
    "    i+=1\n",
    "    j-=1\n",
    "else:\n",
    "    print(True)\n"
   ]
  },
  {
   "cell_type": "code",
   "execution_count": null,
   "id": "ff3d4835-3e30-41d2-b99c-801a16da8c52",
   "metadata": {},
   "outputs": [],
   "source": []
  },
  {
   "cell_type": "markdown",
   "id": "b3276da6-7836-4926-b25c-8cd41afb976b",
   "metadata": {},
   "source": [
    "Word Pattern                           \n",
    "https://leetcode.com/problems/word-pattern/"
   ]
  },
  {
   "cell_type": "code",
   "execution_count": 1,
   "id": "c4d4b624-c0c5-482b-b953-e5efb4f684d2",
   "metadata": {},
   "outputs": [
    {
     "name": "stdout",
     "output_type": "stream",
     "text": [
      "True\n"
     ]
    }
   ],
   "source": [
    "pattern = \"abba\"\n",
    "s = \"dog cat cat dog \"\n",
    "word=s.split()\n",
    "if len(pattern)!=len(word):\n",
    "    print(False)\n",
    "    exit()\n",
    "d={}\n",
    "seen=set()\n",
    "for i,char in enumerate(pattern):\n",
    "    if char not in d:\n",
    "        if word[i] in seen:\n",
    "            print(False)\n",
    "        d[char]=word[i]\n",
    "        seen.add(word[i])\n",
    "    else:\n",
    "        if d[char]!=word[i]:\n",
    "            print(False)\n",
    "print(True)\n",
    "        \n",
    "    "
   ]
  },
  {
   "cell_type": "code",
   "execution_count": 2,
   "id": "5d2480f4-a999-4d2a-83c8-9aab9b138eb0",
   "metadata": {},
   "outputs": [
    {
     "name": "stdout",
     "output_type": "stream",
     "text": [
      "{'a': 'dog', 'b': 'cat'}\n",
      "{'dog': 'a', 'cat': 'b'}\n",
      "True\n"
     ]
    }
   ],
   "source": [
    "pattern='abba'\n",
    "s='dog cat cat dog'\n",
    "s=s.split()\n",
    "if len(pattern)!=len(s):\n",
    "    print(False)\n",
    "    \n",
    "d={}\n",
    "d1={}\n",
    "for i,j in zip(pattern,s):\n",
    "    if i in d and d[i]!=j:\n",
    "        print(False)\n",
    "    if j in d1 and d1[j]!=i:\n",
    "        print(False)\n",
    "        break\n",
    "    d[i]=j\n",
    "    d1[j]=i\n",
    "print(d)\n",
    "print(d1)\n",
    "print(True)\n",
    "    "
   ]
  },
  {
   "cell_type": "code",
   "execution_count": null,
   "id": "5ce03f33-bd5e-4b1b-97b8-d96edb0a68cc",
   "metadata": {},
   "outputs": [],
   "source": []
  },
  {
   "cell_type": "markdown",
   "id": "4e5d2c9f-8f1e-438f-a53a-d4c200a3afe5",
   "metadata": {},
   "source": [
    "Valid Parentheses                              \n",
    "https://leetcode.com/problems/valid-parentheses/"
   ]
  },
  {
   "cell_type": "code",
   "execution_count": null,
   "id": "19ca6f05-88a0-426c-801d-79d4d021a8d3",
   "metadata": {},
   "outputs": [],
   "source": []
  },
  {
   "cell_type": "code",
   "execution_count": null,
   "id": "491cf894-0857-4970-82d1-c870160b9f5d",
   "metadata": {},
   "outputs": [],
   "source": []
  },
  {
   "cell_type": "markdown",
   "id": "53f6e2c2-47ff-4abd-b430-23c1ef464b6b",
   "metadata": {},
   "source": [
    "Isomorphic Strings                          \n",
    "https://leetcode.com/problems/isomorphic-strings/"
   ]
  },
  {
   "cell_type": "code",
   "execution_count": 5,
   "id": "7aa19f78-d3f1-49da-8fc9-a2fc3a74b6ab",
   "metadata": {},
   "outputs": [
    {
     "name": "stdout",
     "output_type": "stream",
     "text": [
      "True\n"
     ]
    }
   ],
   "source": [
    "s = \"egg\"\n",
    "t = \"add\"\n",
    "if len(s)!=len(t):\n",
    "    print(False) \n",
    "    \n",
    "d={}\n",
    "d1={}\n",
    "for i in range(len(s)):\n",
    "    if s[i] in d and d[s[i]]!=t[i]:\n",
    "        print(False)\n",
    "        break\n",
    "    if t[i] in d1 and d1[t[i]]!=s[i]:\n",
    "        print(False)\n",
    "        break\n",
    "    d[s[i]]=t[i]\n",
    "    d1[t[i]]=s[i]\n",
    "print(True)"
   ]
  },
  {
   "cell_type": "code",
   "execution_count": 20,
   "id": "0f214ca2-00c4-4d40-bcf7-5f3acfe06c02",
   "metadata": {},
   "outputs": [
    {
     "name": "stdout",
     "output_type": "stream",
     "text": [
      "True\n"
     ]
    }
   ],
   "source": [
    "s = \"egg\"\n",
    "t = \"add\"\n",
    "if len(s)!=len(t):\n",
    "    print(False) \n",
    "    \n",
    "d={}\n",
    "d1={}\n",
    "for i,j in zip(s,t):\n",
    "    if i in d and d[i]!=j:\n",
    "        print(False)\n",
    "    elif j in d1 and d1[j]!=i:\n",
    "        print(False)\n",
    "        \n",
    "    d[i]=j\n",
    "    d1[j]=i\n",
    "print(True)"
   ]
  },
  {
   "cell_type": "code",
   "execution_count": null,
   "id": "beb28ccb-efbb-489b-9adc-339496aec538",
   "metadata": {},
   "outputs": [],
   "source": []
  },
  {
   "cell_type": "markdown",
   "id": "dac8f366-004c-46ea-a8de-84f6cfb91eaa",
   "metadata": {},
   "source": [
    "Reverse String                           \n",
    "https://leetcode.com/problems/reverse-string/"
   ]
  },
  {
   "cell_type": "code",
   "execution_count": 7,
   "id": "20f48915-cb13-40e4-bfbb-d6392cc0030f",
   "metadata": {},
   "outputs": [
    {
     "data": {
      "text/plain": [
       "['o', 'l', 'l', 'e', 'h']"
      ]
     },
     "execution_count": 7,
     "metadata": {},
     "output_type": "execute_result"
    }
   ],
   "source": [
    "s = [\"h\",\"e\",\"l\",\"l\",\"o\"]\n",
    "i=0\n",
    "j=len(s)-1\n",
    "while(i<j):\n",
    "    s[i],s[j]=s[j],s[i]\n",
    "    i+=1\n",
    "    j-=1\n",
    "\n",
    "s"
   ]
  },
  {
   "cell_type": "code",
   "execution_count": null,
   "id": "aa93d177-a405-461c-a547-c144c6cce149",
   "metadata": {},
   "outputs": [],
   "source": []
  },
  {
   "cell_type": "markdown",
   "id": "2af63d3a-92ba-4a68-b856-20a185cce35e",
   "metadata": {},
   "source": [
    "Q: Python program to check if a string has at least one letter and one number             \n",
    "Input: welcome2ourcountry34                    \n",
    "Output: True                         \n",
    "                        \n",
    "Input: stringwithoutnum                \n",
    "Output: False\n"
   ]
  },
  {
   "cell_type": "code",
   "execution_count": null,
   "id": "fcbe9403-f3dc-4b93-ba8b-09086cff7d2c",
   "metadata": {},
   "outputs": [],
   "source": []
  },
  {
   "cell_type": "code",
   "execution_count": null,
   "id": "9f2ccafd-2d8d-40d5-92a2-1a58b5ffa86a",
   "metadata": {},
   "outputs": [],
   "source": []
  },
  {
   "cell_type": "markdown",
   "id": "ffa14a30-df98-42f0-a772-3ec0e5d02997",
   "metadata": {},
   "source": [
    "Q Remove All Duplicates from a Given String in Python                         \n",
    "Input : Regex and ram                 \n",
    "Ouput : Regx andam                      "
   ]
  },
  {
   "cell_type": "code",
   "execution_count": null,
   "id": "f56e14ac-44cb-46dc-bc72-1dcb44341051",
   "metadata": {},
   "outputs": [],
   "source": []
  },
  {
   "cell_type": "code",
   "execution_count": null,
   "id": "de862c79-23cf-4a45-a6af-dd7a15f18091",
   "metadata": {},
   "outputs": [],
   "source": []
  },
  {
   "cell_type": "markdown",
   "id": "32fa23ee-f124-40d8-97a3-1392979e4985",
   "metadata": {},
   "source": [
    "Q Longest Substring Length of K                  \n",
    "Input : test_str = ‘abcaaaacbbaa’, K = b                    \n",
    "Output : 2                         \n",
    "Explanation : b occurs twice, 2 > 1.                         \n",
    "                                            \n",
    "Input : test_str = ‘abcaacccbbaa’, K = c                        \n",
    "Output : 3                         \n",
    "Explanation : Maximum times c occurs is 3.                    "
   ]
  },
  {
   "cell_type": "code",
   "execution_count": null,
   "id": "9c039baa-5257-4162-a02d-e5ca157d6245",
   "metadata": {},
   "outputs": [],
   "source": []
  },
  {
   "cell_type": "code",
   "execution_count": null,
   "id": "7206c06d-4752-4c90-8467-3c8a01f52c2d",
   "metadata": {},
   "outputs": [],
   "source": []
  },
  {
   "cell_type": "markdown",
   "id": "c32c8081-ba02-49d1-b302-e53219c81895",
   "metadata": {},
   "source": [
    "Palindrome Number                                        \n",
    "https://leetcode.com/problems/palindrome-number/"
   ]
  },
  {
   "cell_type": "code",
   "execution_count": 14,
   "id": "51d406de-6418-48a6-b4e4-f45d0e29c77c",
   "metadata": {},
   "outputs": [
    {
     "name": "stdout",
     "output_type": "stream",
     "text": [
      "True\n"
     ]
    }
   ],
   "source": [
    "x = 1221\n",
    "x=str(x)\n",
    "i=0\n",
    "j=len(x)-1\n",
    "while(i<j):\n",
    "    if x[i]!=x[j]:\n",
    "        print(False)\n",
    "        break\n",
    "    i+=1\n",
    "    j-=1\n",
    "print(True)"
   ]
  },
  {
   "cell_type": "code",
   "execution_count": null,
   "id": "4f440205-e88f-4082-90dc-417f70667d76",
   "metadata": {},
   "outputs": [],
   "source": []
  },
  {
   "cell_type": "markdown",
   "id": "ef38e7d1-84ca-4f01-886d-dde333aae0b0",
   "metadata": {},
   "source": [
    "Subsets                    \n",
    "https://leetcode.com/problems/subsets/"
   ]
  },
  {
   "cell_type": "code",
   "execution_count": 16,
   "id": "edfb1a54-3f86-4510-ac9f-172a390c0a65",
   "metadata": {},
   "outputs": [
    {
     "name": "stdout",
     "output_type": "stream",
     "text": [
      "[[], [1], [2], [1, 2], [3], [1, 3], [2, 3], [1, 2, 3]]\n"
     ]
    }
   ],
   "source": [
    "nums = [1,2,3]\n",
    "result=[[]]\n",
    "for i in nums:\n",
    "    result+=[j+[i] for j in result]\n",
    "print(result)\n",
    "    "
   ]
  },
  {
   "cell_type": "code",
   "execution_count": null,
   "id": "32bd4df9-21c8-447d-8982-cccf0b9f303c",
   "metadata": {},
   "outputs": [],
   "source": []
  },
  {
   "cell_type": "markdown",
   "id": "a9530386-466c-4e95-9d91-4642fe99f4f9",
   "metadata": {},
   "source": [
    "Subsets II                                \n",
    "https://leetcode.com/problems/subsets-ii/"
   ]
  },
  {
   "cell_type": "code",
   "execution_count": null,
   "id": "f3bb225a-8f9c-4dd0-9eda-f3ef94f83953",
   "metadata": {},
   "outputs": [],
   "source": []
  },
  {
   "cell_type": "code",
   "execution_count": null,
   "id": "b74c0e30-fc79-45ed-b60d-44eb2c60a5f6",
   "metadata": {},
   "outputs": [],
   "source": []
  },
  {
   "cell_type": "markdown",
   "id": "99a189a8-8778-4bd5-82c8-db4816243f7e",
   "metadata": {},
   "source": [
    " Integer to Roman                          \n",
    "https://leetcode.com/problems/integer-to-roman/description/"
   ]
  },
  {
   "cell_type": "code",
   "execution_count": 9,
   "id": "8da97771-c47f-494d-8ab6-f36ea6088fd6",
   "metadata": {},
   "outputs": [
    {
     "name": "stdout",
     "output_type": "stream",
     "text": [
      "MMMDCCXLIX\n"
     ]
    }
   ],
   "source": [
    "num = 3749\n",
    "values=[[1000,'M'],[900,'CM'],[500,'D'],[400,'CD'],[100,'C'],[90,'XC'],\n",
    "        [50,'L'],[40,'XL'],[10,'X'],[9,'IX'],[5,'V'],[4,'IV'],[1,'I']]\n",
    "result=''\n",
    "for n,symbol in values:\n",
    "    count=num//n\n",
    "    if count>0:\n",
    "        result+=(symbol*count)\n",
    "        num=num%n\n",
    "print(result)      "
   ]
  },
  {
   "cell_type": "code",
   "execution_count": 11,
   "id": "e7e73df6-9764-4da6-89a5-06bf0afdb3ef",
   "metadata": {},
   "outputs": [
    {
     "data": {
      "text/plain": [
       "'MMMDCCXLIX'"
      ]
     },
     "execution_count": 11,
     "metadata": {},
     "output_type": "execute_result"
    }
   ],
   "source": [
    "num = 3749\n",
    "d={1000:\"M\",900:\"CM\",500:\"D\",400:\"CD\",100:\"C\",90:\"XC\",50:\"L\",40:\"XL\",10:\"X\",9:\"IX\",\n",
    "        5:\"V\",4:\"IV\",1:\"I\"}\n",
    "result=''\n",
    "for i in d:\n",
    "    while(num>=i):\n",
    "        result+=d[i]\n",
    "        num-=i\n",
    "result\n"
   ]
  },
  {
   "cell_type": "code",
   "execution_count": null,
   "id": "6011c7c1-ea9b-4883-a0cc-4559b6171a10",
   "metadata": {},
   "outputs": [],
   "source": []
  },
  {
   "cell_type": "markdown",
   "id": "a1e31b17-c186-48c4-a540-f3fd6b926577",
   "metadata": {},
   "source": [
    "Armstrong Number"
   ]
  },
  {
   "cell_type": "code",
   "execution_count": null,
   "id": "a142cd18-06ee-49c5-a91e-9bb4d88849de",
   "metadata": {},
   "outputs": [],
   "source": []
  }
 ],
 "metadata": {
  "kernelspec": {
   "display_name": "Python 3 (ipykernel)",
   "language": "python",
   "name": "python3"
  },
  "language_info": {
   "codemirror_mode": {
    "name": "ipython",
    "version": 3
   },
   "file_extension": ".py",
   "mimetype": "text/x-python",
   "name": "python",
   "nbconvert_exporter": "python",
   "pygments_lexer": "ipython3",
   "version": "3.12.4"
  }
 },
 "nbformat": 4,
 "nbformat_minor": 5
}
