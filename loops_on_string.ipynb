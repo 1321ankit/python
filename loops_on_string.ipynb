{
 "cells": [
  {
   "cell_type": "code",
   "execution_count": null,
   "id": "7b40ee50-4570-4796-b7e3-ea89a256e65e",
   "metadata": {},
   "outputs": [],
   "source": [
    "1.Write a program that prints each character of a string in reverse order, one by one."
   ]
  },
  {
   "cell_type": "code",
   "execution_count": 3,
   "id": "74c9e7fa-e29b-48d5-8697-1a70007d2c72",
   "metadata": {},
   "outputs": [
    {
     "name": "stdout",
     "output_type": "stream",
     "text": [
      "y\n",
      "p\n",
      "p\n",
      "a\n",
      "h\n"
     ]
    }
   ],
   "source": [
    "string='happy'\n",
    "\n",
    "for i in string[::-1]:\n",
    "    print(i)\n"
   ]
  },
  {
   "cell_type": "code",
   "execution_count": null,
   "id": "524a743b-4e00-422d-9802-68469417329a",
   "metadata": {},
   "outputs": [],
   "source": [
    "2.Write a program that counts the number of consonants (all alphabetic characters except\n",
    "vowels: a, e, i, o, u) in a given string."
   ]
  },
  {
   "cell_type": "code",
   "execution_count": 4,
   "id": "98be418b-a471-4b91-b734-538fcde693f8",
   "metadata": {},
   "outputs": [
    {
     "name": "stdout",
     "output_type": "stream",
     "text": [
      "11\n"
     ]
    }
   ],
   "source": [
    "string='happy birthday'\n",
    "vowel='aeiou'\n",
    "count=0\n",
    "for i in string:\n",
    "    if i not in vowel:\n",
    "        count+=1        \n",
    "\n",
    "print(count)\n",
    "        "
   ]
  },
  {
   "cell_type": "code",
   "execution_count": null,
   "id": "e9a25ebf-5535-4585-a151-14e723edf8e4",
   "metadata": {},
   "outputs": [],
   "source": []
  },
  {
   "cell_type": "code",
   "execution_count": null,
   "id": "2a30f266-b2ad-4771-804e-10d66a3d01bc",
   "metadata": {},
   "outputs": [],
   "source": [
    "3.Write a program that checks if two strings are anagrams of each other (i.e., they have the\n",
    "same characters in any order)."
   ]
  },
  {
   "cell_type": "code",
   "execution_count": 12,
   "id": "ffbe6266-961d-4b29-afca-0ab2b6cc035b",
   "metadata": {},
   "outputs": [
    {
     "name": "stdout",
     "output_type": "stream",
     "text": [
      "True\n"
     ]
    }
   ],
   "source": [
    "string1='listen'\n",
    "string2='silent'\n",
    "if sorted(string1)==sorted(string2):\n",
    "    print(True)\n",
    "else:\n",
    "    print(False)\n"
   ]
  },
  {
   "cell_type": "code",
   "execution_count": 23,
   "id": "f72784ab-57c9-40ba-a08f-9ae8fa722184",
   "metadata": {},
   "outputs": [
    {
     "name": "stdout",
     "output_type": "stream",
     "text": [
      "True\n"
     ]
    }
   ],
   "source": [
    "string1='listen'\n",
    "string2='silent'\n",
    "if len(string1)!=len(string2):\n",
    "    print(False)\n",
    "    \n",
    "\n",
    "for i in string1:\n",
    "    if string1.count(i)!=string2.count(i):\n",
    "        print(False)\n",
    "        break\n",
    "else:\n",
    "    print(True) "
   ]
  },
  {
   "cell_type": "code",
   "execution_count": null,
   "id": "ef2943cf-99b2-4751-94c2-e640f3f17458",
   "metadata": {},
   "outputs": [],
   "source": [
    "4.Write a program that reverses a string without using a loop or built-in string methods."
   ]
  },
  {
   "cell_type": "code",
   "execution_count": 13,
   "id": "9827783b-732f-4d2c-97d1-30c1a9584a3c",
   "metadata": {},
   "outputs": [
    {
     "name": "stdout",
     "output_type": "stream",
     "text": [
      "agrd\n"
     ]
    }
   ],
   "source": [
    "string='drga'\n",
    "result=string[::-1]\n",
    "print(result)"
   ]
  },
  {
   "cell_type": "code",
   "execution_count": null,
   "id": "a068381e-3b81-4860-8384-5e2b4915bf93",
   "metadata": {},
   "outputs": [],
   "source": [
    "5.Write a program that counts how many times any of the given characters appear in a string."
   ]
  },
  {
   "cell_type": "code",
   "execution_count": 24,
   "id": "d2fe82f3-08ec-4e6a-abd2-1258a5123779",
   "metadata": {},
   "outputs": [
    {
     "name": "stdout",
     "output_type": "stream",
     "text": [
      "3\n"
     ]
    }
   ],
   "source": [
    "string='sdfafaf'\n",
    "n='f'\n",
    "count=0\n",
    "for i in string:\n",
    "    if i==n:\n",
    "        count+=1\n",
    "\n",
    "print(count)"
   ]
  },
  {
   "cell_type": "code",
   "execution_count": null,
   "id": "b4537644-4c0e-4f8b-b976-56942657dd4f",
   "metadata": {},
   "outputs": [],
   "source": [
    "6.Write a program that removes all occurrences of a set of characters from a string.    "
   ]
  },
  {
   "cell_type": "code",
   "execution_count": 1,
   "id": "20f289c8-3d4f-4c58-bac1-cbd0151cfdf2",
   "metadata": {},
   "outputs": [
    {
     "name": "stdout",
     "output_type": "stream",
     "text": [
      " ankit\n"
     ]
    }
   ],
   "source": [
    "string='hello ankit!'\n",
    "n='hello,!'\n",
    "result=''\n",
    "for i in string:\n",
    "    if i not in n:\n",
    "        result+=i\n",
    "\n",
    "print(result)\n",
    "        "
   ]
  },
  {
   "cell_type": "code",
   "execution_count": null,
   "id": "3dce931a-a676-4e06-a829-9ced937c14b2",
   "metadata": {},
   "outputs": [],
   "source": [
    "7.Write a program that converts all lowercase letters in a string to uppercase without using\n",
    "built-in methods like upper()."
   ]
  },
  {
   "cell_type": "code",
   "execution_count": 13,
   "id": "f5efc0a0-1181-4e77-9505-5d036e274a2f",
   "metadata": {},
   "outputs": [
    {
     "name": "stdout",
     "output_type": "stream",
     "text": [
      "HELLO ANKIT\n"
     ]
    }
   ],
   "source": [
    "string='Hello Ankit'\n",
    "result=''\n",
    "word=True\n",
    "for i in string:\n",
    "    if i==' ':\n",
    "        result+=i\n",
    "        word=True\n",
    "        \n",
    "    else:\n",
    "        if word:\n",
    "            if i>='a' and i<='z':\n",
    "                result+=chr(ord(i)-32)\n",
    "                \n",
    "            else:\n",
    "                 result+=i\n",
    "print(result)"
   ]
  },
  {
   "cell_type": "code",
   "execution_count": 22,
   "id": "96ab0db0-5585-4e8e-aa22-628def410b7e",
   "metadata": {},
   "outputs": [
    {
     "name": "stdout",
     "output_type": "stream",
     "text": [
      "HELLO ANKIT\n"
     ]
    }
   ],
   "source": [
    "string='Hello Ankit'\n",
    "result=''\n",
    "for i in string:\n",
    "    \n",
    "    if i>='a' and i<='z':\n",
    "        result+=chr(ord(i)-32)\n",
    "                    \n",
    "    else:\n",
    "        result+=i\n",
    "print(result)"
   ]
  },
  {
   "cell_type": "markdown",
   "id": "7cb9dcf5-6d38-41ba-af83-3c01743266e5",
   "metadata": {},
   "source": [
    "8.Write a program that checks if all characters in a string are alphabets (i.e., no digits or special\n",
    "characters)."
   ]
  },
  {
   "cell_type": "code",
   "execution_count": 23,
   "id": "5f0dc6bd-6104-4a88-8376-c5914f9b0d00",
   "metadata": {},
   "outputs": [
    {
     "name": "stdout",
     "output_type": "stream",
     "text": [
      "not\n"
     ]
    }
   ],
   "source": [
    "string='hiankit'\n",
    "flag=0\n",
    "for i in string:\n",
    "    if i<'a' or i>'z':\n",
    "        flag=1\n",
    "        break\n",
    "\n",
    "if flag==0:\n",
    "    print('all are alphabet')\n",
    "else:\n",
    "    print('not')"
   ]
  },
  {
   "cell_type": "code",
   "execution_count": 55,
   "id": "6cac4e2d-67b4-4516-b267-5f362712411d",
   "metadata": {},
   "outputs": [
    {
     "name": "stdout",
     "output_type": "stream",
     "text": [
      "True\n"
     ]
    }
   ],
   "source": [
    "string='helloankit'\n",
    "for i in string:\n",
    "    if not ((i>='a' and i<='z') or (i>='A' and i<='Z' )):\n",
    "        print(False)\n",
    "        break\n",
    "        \n",
    "else:\n",
    "    print(True)\n",
    "        "
   ]
  },
  {
   "cell_type": "code",
   "execution_count": null,
   "id": "bfb6343b-b8b7-46e0-8c1b-0e9fe32f50dd",
   "metadata": {},
   "outputs": [],
   "source": [
    "9.Write a program that counts how many sentences are in a string (assuming sentences end\n",
    "with a period, exclamation mark, or question mark)."
   ]
  },
  {
   "cell_type": "code",
   "execution_count": 1,
   "id": "66522c0b-c315-47b6-89c6-b0a485ed08ac",
   "metadata": {},
   "outputs": [
    {
     "name": "stdout",
     "output_type": "stream",
     "text": [
      "2\n"
     ]
    }
   ],
   "source": [
    "string='hello! what is your name?'\n",
    "count=0\n",
    "for i in string:\n",
    "    if i in ['.','!','?']:\n",
    "        count+=1\n",
    "print(count)"
   ]
  },
  {
   "cell_type": "code",
   "execution_count": null,
   "id": "d14c3329-e5b7-4a33-aad8-ece65a526b1d",
   "metadata": {},
   "outputs": [],
   "source": [
    "10.Write a program that finds the shortest word in a string."
   ]
  },
  {
   "cell_type": "code",
   "execution_count": 27,
   "id": "ad86bdf8-d136-4884-ab2f-494c49ead365",
   "metadata": {},
   "outputs": [
    {
     "name": "stdout",
     "output_type": "stream",
     "text": [
      "['hi', 'ankit', 'how', 'are', 'you']\n",
      "hi\n"
     ]
    }
   ],
   "source": [
    "string='hi ankit how are you'\n",
    "l=[]\n",
    "new=''\n",
    "d={}\n",
    "for i in string:\n",
    "    if i !=' ':  \n",
    "        new+=i\n",
    "    else:\n",
    "        l.append(new)\n",
    "        new=''\n",
    "\n",
    "if new:\n",
    "    l.append(new)\n",
    "\n",
    "\n",
    "for i in l:\n",
    "    d[i]=len(i)\n",
    "\n",
    "minimum=min(d.values())\n",
    "for key,value in d.items():\n",
    "    if value==minimum:\n",
    "        print(key)"
   ]
  },
  {
   "cell_type": "code",
   "execution_count": 31,
   "id": "ad97bf29-5f1d-4a6d-9565-45d20669b858",
   "metadata": {},
   "outputs": [
    {
     "name": "stdout",
     "output_type": "stream",
     "text": [
      "['hi', 'ankit', 'how', 'are', 'you']\n",
      "2\n"
     ]
    }
   ],
   "source": [
    "string='hi ankit how are you'\n",
    "d={}\n",
    "l=string.split()\n",
    "print(l)\n",
    "\n",
    "for i in l:\n",
    "    d[i]=len(i)\n",
    "    \n",
    "minimum=min(d.values())\n",
    "print(minimum)\n"
   ]
  },
  {
   "cell_type": "code",
   "execution_count": null,
   "id": "2700a408-1c14-4ed6-aea1-5ca0b7478b09",
   "metadata": {},
   "outputs": [],
   "source": [
    "11.Write a program that removes all punctuation characters (like .,!?;) from a string."
   ]
  },
  {
   "cell_type": "code",
   "execution_count": 80,
   "id": "d03e52e9-38a2-4171-96b6-f8045a7a68b4",
   "metadata": {},
   "outputs": [
    {
     "name": "stdout",
     "output_type": "stream",
     "text": [
      "hi ankit how are you\n"
     ]
    }
   ],
   "source": [
    "string='hi! ankit; how are you?'\n",
    "result=''\n",
    "n=['.','?','!',';']\n",
    "for i in string:\n",
    "    if i not in n:\n",
    "        result+=i\n",
    "\n",
    "print(result)\n",
    "    "
   ]
  },
  {
   "cell_type": "code",
   "execution_count": null,
   "id": "25e3d5da-0af1-4815-a418-e4ea2a92a693",
   "metadata": {},
   "outputs": [],
   "source": [
    "12.Write a program that converts a string to title case, where the first letter of each word is\n",
    "capitalized and the rest are lowercase (without using title() or capitalize())."
   ]
  },
  {
   "cell_type": "code",
   "execution_count": 6,
   "id": "4ca477fc-2df6-493c-82d3-8f93622b6e5c",
   "metadata": {},
   "outputs": [
    {
     "name": "stdout",
     "output_type": "stream",
     "text": [
      "What Is Your Name\n"
     ]
    }
   ],
   "source": [
    "string='what is your name'\n",
    "result=''\n",
    "word_start=True\n",
    "for i in string:\n",
    "    if i ==' ':\n",
    "        result+=i\n",
    "        word_start=True\n",
    "    else:\n",
    "        if word_start:\n",
    "            result += chr(ord(i)-32)\n",
    "            word_start=False\n",
    "        else:\n",
    "            result+=i\n",
    "\n",
    "print(result)   \n",
    "    "
   ]
  },
  {
   "cell_type": "code",
   "execution_count": 32,
   "id": "41e599f8-6e7e-4686-9180-f1f828678533",
   "metadata": {},
   "outputs": [
    {
     "name": "stdout",
     "output_type": "stream",
     "text": [
      "Hi Ankit How Are You\n"
     ]
    }
   ],
   "source": [
    "string='hi ankit how are you'\n",
    "result=''\n",
    "flag=0\n",
    "for i in string:\n",
    "    if i==' ':\n",
    "        result+=i\n",
    "        flag=0\n",
    "        \n",
    "    else:\n",
    "        if flag==0:\n",
    "            result+=chr(ord(i)-32)\n",
    "            flag=1\n",
    "        else:\n",
    "            result+=i\n",
    "\n",
    "print(result)\n",
    "    \n",
    "    \n",
    "\n"
   ]
  },
  {
   "cell_type": "code",
   "execution_count": null,
   "id": "d5e6ca72-5428-46ae-b083-54fa10c25096",
   "metadata": {},
   "outputs": [],
   "source": [
    "13.Write a program that finds the last non-repeating character in a string."
   ]
  },
  {
   "cell_type": "code",
   "execution_count": null,
   "id": "07578814-6485-42bb-8764-bd6ef33594c9",
   "metadata": {},
   "outputs": [],
   "source": [
    "\n"
   ]
  },
  {
   "cell_type": "code",
   "execution_count": null,
   "id": "9b20daeb-6913-441c-aabd-77e08218485b",
   "metadata": {},
   "outputs": [],
   "source": [
    "14.Write a program that checks if a string starts with a given substring (without using the\n",
    "startswith() method)."
   ]
  },
  {
   "cell_type": "code",
   "execution_count": 11,
   "id": "6e234514-131a-46cf-96e3-3f59c653a725",
   "metadata": {},
   "outputs": [
    {
     "name": "stdout",
     "output_type": "stream",
     "text": [
      "string starts with substring\n"
     ]
    }
   ],
   "source": [
    "string='hi ankit how are you'\n",
    "substring='hi'\n",
    "l=[]\n",
    "new=''\n",
    "for i in string:\n",
    "    if i !=' ':\n",
    "        new+=i\n",
    "    else:\n",
    "        \n",
    "       l.append(new)\n",
    "       new=''\n",
    "\n",
    "if new:\n",
    "    l.append(new)\n",
    "\n",
    "\n",
    "if l[0]==substring:\n",
    "    print('string starts with substring')\n",
    "        \n",
    "else:\n",
    "    print('not')\n",
    "    \n"
   ]
  },
  {
   "cell_type": "code",
   "execution_count": null,
   "id": "dc7bc32b-3e1b-4866-91fe-aa54c8b71c88",
   "metadata": {},
   "outputs": [],
   "source": [
    "15.Write a program that replaces the first occurrence of a specific substring with another\n",
    "substring."
   ]
  },
  {
   "cell_type": "code",
   "execution_count": 56,
   "id": "9a8ca75b-da99-4970-bdfd-473b596ca921",
   "metadata": {},
   "outputs": [
    {
     "name": "stdout",
     "output_type": "stream",
     "text": [
      "['hello', 'ankit', 'how', 'are', 'you']\n",
      "hello ankit how are you \n"
     ]
    }
   ],
   "source": [
    "string='hi ankit how are you'\n",
    "\n",
    "l=[]\n",
    "new=''\n",
    "for i in string:\n",
    "    if i !=' ':\n",
    "        new+=i\n",
    "    else:\n",
    "        \n",
    "       l.append(new)\n",
    "       new=''\n",
    "\n",
    "if new:\n",
    "    l.append(new)\n",
    "    new=''\n",
    "\n",
    "for i in range(len(l)):\n",
    "    if l[0]=='hi':\n",
    "        l[0]='hello'\n",
    "        \n",
    "print(l)\n",
    "for i in l:\n",
    "    new+=i+' '\n",
    "\n",
    "print(new)\n"
   ]
  },
  {
   "cell_type": "code",
   "execution_count": null,
   "id": "78331d8c-2f1b-480a-b779-184b7eeaff2b",
   "metadata": {},
   "outputs": [],
   "source": [
    "16.Write a program that extracts and returns the first word in a string (a word is a sequence of\n",
    "characters separated by spaces)."
   ]
  },
  {
   "cell_type": "code",
   "execution_count": 30,
   "id": "fb7991b2-0918-453d-b016-197f7b0f34f8",
   "metadata": {},
   "outputs": [
    {
     "name": "stdout",
     "output_type": "stream",
     "text": [
      "my\n"
     ]
    }
   ],
   "source": [
    "string='my name is ankit'\n",
    "new=''\n",
    "l=[]\n",
    "for i in string:\n",
    "    if i!=' ':\n",
    "        new+=i\n",
    "    else:\n",
    "        l.append(new)\n",
    "        new=''\n",
    "\n",
    "if new:\n",
    "    l.append(new)\n",
    "\n",
    "    \n",
    "print(l[0])"
   ]
  },
  {
   "cell_type": "code",
   "execution_count": null,
   "id": "9e7746f9-3e7a-47ab-84d4-1db0236be051",
   "metadata": {},
   "outputs": [],
   "source": [
    "17.Write a program that checks if a string is a palindrome, ignoring spaces, punctuation, and\n",
    "case sensitivity."
   ]
  },
  {
   "cell_type": "code",
   "execution_count": 32,
   "id": "e3eb9fc6-384e-45ac-9819-9c747a2206aa",
   "metadata": {},
   "outputs": [
    {
     "name": "stdout",
     "output_type": "stream",
     "text": [
      "palindrome\n"
     ]
    }
   ],
   "source": [
    "string='ana'\n",
    "if string==string[::-1]:\n",
    "    print('palindrome')\n",
    "else:\n",
    "    print('not')"
   ]
  },
  {
   "cell_type": "code",
   "execution_count": null,
   "id": "1eacbcd7-1a52-4973-9b06-650e02e668da",
   "metadata": {},
   "outputs": [],
   "source": [
    "18.Write a program that counts how many digits (0-9) are present in a string."
   ]
  },
  {
   "cell_type": "code",
   "execution_count": 35,
   "id": "a991269f-481b-4295-a57f-afc791582842",
   "metadata": {},
   "outputs": [
    {
     "name": "stdout",
     "output_type": "stream",
     "text": [
      "7\n"
     ]
    }
   ],
   "source": [
    "string='hi fdsdf2343 gd443'\n",
    "count=0\n",
    "for i in string:\n",
    "    if i.isdigit():\n",
    "        count+=1\n",
    "\n",
    "print(count)"
   ]
  },
  {
   "cell_type": "code",
   "execution_count": null,
   "id": "51c28cfb-6230-477d-bc6f-d6face11e685",
   "metadata": {},
   "outputs": [],
   "source": [
    "19.Write a program that finds the longest substring without repeating characters."
   ]
  },
  {
   "cell_type": "code",
   "execution_count": 88,
   "id": "bb084cc8-5b8c-4548-a85a-3a8ec0c3fd68",
   "metadata": {},
   "outputs": [
    {
     "name": "stdout",
     "output_type": "stream",
     "text": [
      "bac\n",
      "3\n"
     ]
    }
   ],
   "source": [
    "string='bacbabbaababa'\n",
    "max_len=0\n",
    "substring=''\n",
    "for i in range(len(string)):\n",
    "    substring=''\n",
    "    for j in range(i,len(string)):\n",
    "        if string[j] in substring:\n",
    "            break\n",
    "        substring+=string[j]\n",
    "        max_len=max(max_len,len(substring))\n",
    "    print(substring)\n",
    "    break\n",
    "print(max_len)\n",
    "\n",
    "            \n",
    "\n",
    "\n",
    "        \n",
    "    "
   ]
  },
  {
   "cell_type": "code",
   "execution_count": 101,
   "id": "6f2311ae-518a-49c8-bd8d-e6baed8df328",
   "metadata": {},
   "outputs": [
    {
     "name": "stdout",
     "output_type": "stream",
     "text": [
      "bca\n"
     ]
    }
   ],
   "source": [
    "string='bcabad'\n",
    "substring=''\n",
    "for i in range(len(string)):\n",
    "    substring=''\n",
    "    for j in range(i,len(string)):\n",
    "        if string[j] in substring: \n",
    "            break\n",
    "        else:  \n",
    "            substring+=string[j]\n",
    "\n",
    "    print(substring) \n",
    "    break\n"
   ]
  },
  {
   "cell_type": "markdown",
   "id": "1ef62de7-3d6f-4826-aa36-6eb0eb71622c",
   "metadata": {},
   "source": [
    "20.Write a program that finds all words in a string that start with a given character."
   ]
  },
  {
   "cell_type": "code",
   "execution_count": 83,
   "id": "ce06ad73-c265-4ffb-a5ab-27f510267213",
   "metadata": {},
   "outputs": [
    {
     "name": "stdout",
     "output_type": "stream",
     "text": [
      "['apple', 'banana', 'apricot', 'avocado', 'pineapple']\n",
      "['apple', 'apricot', 'avocado']\n"
     ]
    }
   ],
   "source": [
    "string='apple banana apricot avocado pineapple'\n",
    "new=''\n",
    "l=[]\n",
    "for i in string:\n",
    "    if i!=' ':\n",
    "        new+=i\n",
    "    else:\n",
    "        l.append(new)\n",
    "        new=''\n",
    "if new:\n",
    "    l.append(new)\n",
    "    new=''\n",
    "\n",
    "print(l)\n",
    "\n",
    "\n",
    "l1=[]\n",
    "for i in l:\n",
    "    if i[0]=='a':\n",
    "        l1.append(i)\n",
    "    \n",
    "     \n",
    "\n",
    "print(l1)\n",
    "\n",
    "        "
   ]
  },
  {
   "cell_type": "code",
   "execution_count": null,
   "id": "6da4d97c-f03e-4513-80ed-4a1e7a75d804",
   "metadata": {},
   "outputs": [],
   "source": []
  },
  {
   "cell_type": "code",
   "execution_count": 8,
   "id": "7673378e-8b5e-45a7-9821-3b31416ca5d1",
   "metadata": {},
   "outputs": [
    {
     "name": "stdout",
     "output_type": "stream",
     "text": [
      "ankit\n"
     ]
    }
   ],
   "source": [
    "string='hi ankit how are you'\n",
    "l=[]\n",
    "new=''\n",
    "d={}\n",
    "for i in string:\n",
    "    if i!=' ':\n",
    "        new+=i\n",
    "    else:\n",
    "        l.append(new)\n",
    "        new=''\n",
    "\n",
    "if new:\n",
    "    l.append(new)\n",
    "\n",
    "l\n",
    "\n",
    "\n",
    "for i in l:\n",
    "    d[i]=len(i)\n",
    "\n",
    "maximum=max(d.values())\n",
    "for key,value in d.items():\n",
    "    if value==maximum:\n",
    "        print(key)\n",
    "    \n"
   ]
  },
  {
   "cell_type": "code",
   "execution_count": null,
   "id": "58617065-ab8d-4716-aaef-d697043a7cdf",
   "metadata": {},
   "outputs": [],
   "source": [
    "\n"
   ]
  },
  {
   "cell_type": "code",
   "execution_count": null,
   "id": "994e23e2-4a0f-4c21-bb3c-24c006ce46f4",
   "metadata": {},
   "outputs": [],
   "source": []
  },
  {
   "cell_type": "code",
   "execution_count": null,
   "id": "4ce2ed25-52cb-43f9-92ee-9622c8a95c09",
   "metadata": {},
   "outputs": [],
   "source": []
  }
 ],
 "metadata": {
  "kernelspec": {
   "display_name": "Python 3 (ipykernel)",
   "language": "python",
   "name": "python3"
  },
  "language_info": {
   "codemirror_mode": {
    "name": "ipython",
    "version": 3
   },
   "file_extension": ".py",
   "mimetype": "text/x-python",
   "name": "python",
   "nbconvert_exporter": "python",
   "pygments_lexer": "ipython3",
   "version": "3.12.4"
  }
 },
 "nbformat": 4,
 "nbformat_minor": 5
}
