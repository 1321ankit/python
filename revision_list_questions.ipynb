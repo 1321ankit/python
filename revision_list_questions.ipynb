{
 "cells": [
  {
   "cell_type": "markdown",
   "id": "d77676d0-8c3e-48b7-a212-b63213da8621",
   "metadata": {},
   "source": [
    "1. Write a Python program to find the maximum element in a list of numbers without\n",
    "max functions   \n",
    "numbers = [10, 20, 4, 45, 99]\n",
    "The maximum element is: 99"
   ]
  },
  {
   "cell_type": "code",
   "execution_count": 2,
   "id": "5fe72317-a4cd-4369-aedc-67feac73f3af",
   "metadata": {},
   "outputs": [
    {
     "name": "stdout",
     "output_type": "stream",
     "text": [
      "99\n"
     ]
    }
   ],
   "source": [
    "numbers = [10, 20, 4, 45, 99]\n",
    "max=0\n",
    "for i in numbers:\n",
    "    if i>max:\n",
    "        max=i\n",
    "print(max)"
   ]
  },
  {
   "cell_type": "markdown",
   "id": "fb36ac19-3a3e-435b-a74a-4219f66d1376",
   "metadata": {},
   "source": [
    "2. Write a Python program to sum all the elements in a list of numbers.                         \n",
    "a. numbers = [10, 20, 30, 40]                               \n",
    "b. The sum of all elements is: 100"
   ]
  },
  {
   "cell_type": "code",
   "execution_count": 4,
   "id": "1181bd24-fe41-4b6d-9b1b-93fd43112f4c",
   "metadata": {},
   "outputs": [
    {
     "name": "stdout",
     "output_type": "stream",
     "text": [
      "100\n"
     ]
    }
   ],
   "source": [
    "numbers = [10, 20, 30, 40]\n",
    "sum=0\n",
    "for i in numbers:\n",
    "    sum+=i\n",
    "print(sum)"
   ]
  },
  {
   "cell_type": "markdown",
   "id": "a6195443-0d8a-4db5-8261-4be188e49b31",
   "metadata": {},
   "source": [
    "3. Write a Python program to reverse a list without reverse or slicing operator                          \n",
    "a. numbers = [1, 2, 3, 4, 5]                       \n",
    "b. Reversed list: [5, 4, 3, 2, 1]"
   ]
  },
  {
   "cell_type": "code",
   "execution_count": 6,
   "id": "6bbafa52-2a55-4123-b1f4-524a4682a7ed",
   "metadata": {},
   "outputs": [
    {
     "name": "stdout",
     "output_type": "stream",
     "text": [
      "[5, 4, 3, 2, 1]\n"
     ]
    }
   ],
   "source": [
    "numbers = [1, 2, 3, 4, 5]\n",
    "i=0\n",
    "j=len(numbers)-1\n",
    "while(i<j):\n",
    "    numbers[i],numbers[j]=numbers[j],numbers[i]\n",
    "    i+=1\n",
    "    j-=1\n",
    "print(numbers)"
   ]
  },
  {
   "cell_type": "markdown",
   "id": "71a636d7-8bc7-4ed6-b4eb-6621eeb45e37",
   "metadata": {},
   "source": [
    "4. Write a Python program to sort a list in ascending order without sort functions"
   ]
  },
  {
   "cell_type": "code",
   "execution_count": 6,
   "id": "cac2da5c-7ce3-475f-90cd-34a6033f619d",
   "metadata": {},
   "outputs": [],
   "source": [
    "l=[10,20,4,45,99]\n"
   ]
  },
  {
   "cell_type": "markdown",
   "id": "9bd8bb0c-63d3-4b05-a271-3bb863ad5a90",
   "metadata": {},
   "source": [
    "5. Write a Python program to remove duplicates from a list while maintaining the order\n",
    "of elements.                                            \n",
    "a. numbers = [1, 2, 2, 3, 4, 4, 5]                                             \n",
    "b. List after removing duplicates: [1, 2, 3, 4, 5]"
   ]
  },
  {
   "cell_type": "code",
   "execution_count": 7,
   "id": "efdcb3ba-0377-45e5-8ef5-49706c1236fa",
   "metadata": {},
   "outputs": [
    {
     "data": {
      "text/plain": [
       "[1, 2, 3, 4, 5]"
      ]
     },
     "execution_count": 7,
     "metadata": {},
     "output_type": "execute_result"
    }
   ],
   "source": [
    "numbers = [1, 2, 2, 3, 4, 4, 5]\n",
    "l=[]\n",
    "for i in numbers:\n",
    "    if i not in l:\n",
    "        l.append(i)\n",
    "\n",
    "l"
   ]
  },
  {
   "cell_type": "markdown",
   "id": "af385966-78fa-4c34-9ba0-d527fc6cb6b5",
   "metadata": {},
   "source": [
    "6. Write a Python program to find all pairs of numbers in a list that add up to a specific\n",
    "target sum.                                                      \n",
    "a. numbers = [1, 2, 3, 4, 3, 5, 6] target_sum = 6                        \n",
    "b. Pairs that add up to 6: [(3, 3), (2, 4), (1, 5)]                           "
   ]
  },
  {
   "cell_type": "code",
   "execution_count": 12,
   "id": "00e9a616-e7a7-4a34-b37e-792e17c811fa",
   "metadata": {},
   "outputs": [
    {
     "data": {
      "text/plain": [
       "[(1, 5), (2, 4), (3, 3)]"
      ]
     },
     "execution_count": 12,
     "metadata": {},
     "output_type": "execute_result"
    }
   ],
   "source": [
    "numbers = [1, 2, 3, 4, 3, 5, 6]\n",
    "numbers.sort()\n",
    "target=6\n",
    "l=[]\n",
    "i=0\n",
    "j=len(numbers)-1\n",
    "while(i<j):\n",
    "    if numbers[i]+numbers[j]==target:\n",
    "        l.append((numbers[i],numbers[j]))\n",
    "        i+=1\n",
    "        j-=1\n",
    "    elif numbers[i]+numbers[j]<target:\n",
    "        i+=1\n",
    "    else:\n",
    "        j-=1\n",
    "        \n",
    "l "
   ]
  },
  {
   "cell_type": "markdown",
   "id": "54dd54d2-a4ed-4e35-a42f-6e21fe11b600",
   "metadata": {},
   "source": [
    "7. Write a Python program to flatten a nested list (list within lists) into a single list.                                  \n",
    "a. nested_list = [1, [2, 3], [4, [5, 6], 7], 8]                                            \n",
    "b. Flattened list: [1, 2, 3, 4, 5, 6, 7, 8]                                          "
   ]
  },
  {
   "cell_type": "code",
   "execution_count": 13,
   "id": "4133eda9-5340-49bf-919a-4262a0eb01fa",
   "metadata": {},
   "outputs": [],
   "source": [
    "nested_list = [1, [2, 3], [4, [5, 6], 7], 8]\n"
   ]
  },
  {
   "cell_type": "markdown",
   "id": "bd195f3c-8cfd-47d4-bb27-77987ee7da60",
   "metadata": {},
   "source": [
    "8. Write a Python program to find the sum of the elements in a list, excluding the largest                               \n",
    "and smallest element. Don’t use max or min functions                                          \n",
    "a. numbers = [1, 2, 3, 4, 5]                                                  \n",
    "b. Sum excluding the largest and smallest element: 9                             "
   ]
  },
  {
   "cell_type": "code",
   "execution_count": 19,
   "id": "9f6959d7-cc3c-4db2-902d-9ef23c19453b",
   "metadata": {},
   "outputs": [
    {
     "data": {
      "text/plain": [
       "9"
      ]
     },
     "execution_count": 19,
     "metadata": {},
     "output_type": "execute_result"
    }
   ],
   "source": [
    "numbers = [1, 2, 3, 4, 5]\n",
    "sum=0\n",
    "for i in range(1,len(numbers)-1):\n",
    "    sum+=numbers[i]\n",
    "\n",
    "sum"
   ]
  },
  {
   "cell_type": "markdown",
   "id": "0c80e8d6-00ce-44f7-83bf-3c59f09c15fb",
   "metadata": {},
   "source": [
    "9. Write a Python program to check if a list is a palindrome (reads the same backward\n",
    "as forward) using two pointer approach                                 \n",
    "a. numbers = [1, 2, 3, 2, 1]                            \n",
    "b. True                          "
   ]
  },
  {
   "cell_type": "code",
   "execution_count": 28,
   "id": "881169c8-c8c8-4c92-83a3-8ac2c96ae588",
   "metadata": {},
   "outputs": [
    {
     "name": "stdout",
     "output_type": "stream",
     "text": [
      "True\n"
     ]
    }
   ],
   "source": [
    "numbers = [1, 2, 3, 2, 1]\n",
    "i=0\n",
    "j=len(numbers)-1\n",
    "flag=0\n",
    "for i in range(len(numbers)):\n",
    "    if numbers[i]!=numbers[j]:\n",
    "        print(False)\n",
    "        flag=1\n",
    "        break\n",
    "    i+=1\n",
    "    j-=1\n",
    "\n",
    "if flag==0:\n",
    "    print(True)   \n",
    "    \n",
    "    "
   ]
  },
  {
   "cell_type": "markdown",
   "id": "dc39cb05-6fd8-477d-9a69-d95a6855aaca",
   "metadata": {},
   "source": [
    "10. Write a function to remove duplicate elements from a list.                              \n",
    "a. numbers = [1, 2, 3, 2, 4, 5, 1, 6]                       \n",
    "b. [1, 2, 3, 4, 5, 6]"
   ]
  },
  {
   "cell_type": "code",
   "execution_count": 29,
   "id": "e226175f-3335-4731-8c5d-bf7f815ac9d6",
   "metadata": {},
   "outputs": [
    {
     "data": {
      "text/plain": [
       "[1, 2, 3, 4, 5, 6]"
      ]
     },
     "execution_count": 29,
     "metadata": {},
     "output_type": "execute_result"
    }
   ],
   "source": [
    "numbers = [1, 2, 3, 2, 4, 5, 1, 6]\n",
    "\n",
    "l=[]\n",
    "for i in numbers:\n",
    "    if i not in l:\n",
    "        l.append(i)\n",
    "\n",
    "l"
   ]
  },
  {
   "cell_type": "markdown",
   "id": "0b0099bf-dfdd-4ae2-9bb4-e67288e62455",
   "metadata": {},
   "source": [
    "11. Find Common Elements in Two Lists                    \n",
    "a. list1 = [1, 2, 3, 4, 5]                      \n",
    "b. list2 = [3, 4, 5, 6, 7]                  \n",
    "c. Result: [3, 4, 5]"
   ]
  },
  {
   "cell_type": "code",
   "execution_count": 30,
   "id": "312da2f0-5056-4ce9-8bd5-326504c79ede",
   "metadata": {},
   "outputs": [
    {
     "data": {
      "text/plain": [
       "[3, 4, 5]"
      ]
     },
     "execution_count": 30,
     "metadata": {},
     "output_type": "execute_result"
    }
   ],
   "source": [
    "list1 = [1, 2, 3, 4, 5]\n",
    "list2 = [3, 4, 5, 6, 7]\n",
    "l=[]\n",
    "for i in list1:\n",
    "    if i in list2:\n",
    "        l.append(i)\n",
    "\n",
    "l\n",
    "        "
   ]
  },
  {
   "cell_type": "markdown",
   "id": "f6a9c951-720c-4d2f-b088-c3e85b512133",
   "metadata": {},
   "source": [
    "12. Find the Longest Word in a List                             \n",
    "a. words = [\"apple\", \"banana\", \"strawberry\", \"kiwi\"]                             \n",
    "b. Strawberry\n"
   ]
  },
  {
   "cell_type": "code",
   "execution_count": 43,
   "id": "d78aec04-d144-4a33-b509-ffc243cc0c3b",
   "metadata": {},
   "outputs": [
    {
     "data": {
      "text/plain": [
       "'strawberry'"
      ]
     },
     "execution_count": 43,
     "metadata": {},
     "output_type": "execute_result"
    }
   ],
   "source": [
    "words = [\"apple\", \"banana\", \"strawberry\", \"kiwi\"]\n",
    "lar=''\n",
    "for i in words:\n",
    "    if len(i)>len(lar):\n",
    "        lar=i\n",
    "    \n",
    "\n",
    "lar\n",
    "        \n",
    "        "
   ]
  },
  {
   "cell_type": "markdown",
   "id": "60487b12-75b3-4722-bf6e-ce71cae8a640",
   "metadata": {},
   "source": [
    "13. Find Missing Number in a List"
   ]
  },
  {
   "cell_type": "code",
   "execution_count": 45,
   "id": "46f8afcc-5721-4489-80a7-583d9d5aabba",
   "metadata": {},
   "outputs": [
    {
     "name": "stdout",
     "output_type": "stream",
     "text": [
      "3\n"
     ]
    }
   ],
   "source": [
    "l=[1,2,4,5]\n",
    "for i in range(1,6):\n",
    "    if i not in l:\n",
    "        print(i)\n",
    "\n",
    "    "
   ]
  },
  {
   "cell_type": "markdown",
   "id": "dc789534-6242-4178-9d86-1768e1256b69",
   "metadata": {},
   "source": [
    "14. Find Missing Number in a List                                 \n",
    "You are given a list of n-1 numbers in the range 1 to n. One number is missing\n",
    "from the sequence. Find the missing number.                                           \n",
    "a. numbers = [1, 2, 4, 5, 6]                                        \n",
    "b. 3"
   ]
  },
  {
   "cell_type": "code",
   "execution_count": 46,
   "id": "68851a1f-d0c4-4d8e-b616-ca00f7d511a2",
   "metadata": {},
   "outputs": [
    {
     "name": "stdout",
     "output_type": "stream",
     "text": [
      "3\n"
     ]
    }
   ],
   "source": [
    "numbers = [1, 2, 4, 5, 6]\n",
    "for i in range(1,7):\n",
    "    if i not in numbers:\n",
    "        print(i)"
   ]
  },
  {
   "cell_type": "markdown",
   "id": "f456903e-5645-4408-ab55-6e3d910d64c3",
   "metadata": {},
   "source": [
    "15. Find the First Non-Repeating Element\n",
    "Given a list of integers, find the first element that appears only once.                                                     \n",
    "a. numbers = [4, 5, 1, 2, 0, 4, 5, 2]                                 \n",
    "b. Expected Output: 1                           "
   ]
  },
  {
   "cell_type": "code",
   "execution_count": 55,
   "id": "86992777-058f-4205-a1a4-d993eb3e9107",
   "metadata": {},
   "outputs": [
    {
     "name": "stdout",
     "output_type": "stream",
     "text": [
      "1\n"
     ]
    }
   ],
   "source": [
    "numbers = [4, 5, 1, 2, 0, 4, 5, 2]\n",
    "l=[]\n",
    "l1=[]\n",
    "for i in numbers:\n",
    "    if i not in l:\n",
    "        l.append(i)\n",
    "    else:\n",
    "        l1.append(i)\n",
    "\n",
    "for i in l:\n",
    "    if i not in l1:\n",
    "        print(i)\n",
    "        break\n"
   ]
  },
  {
   "cell_type": "code",
   "execution_count": 57,
   "id": "7832251a-dfad-4f91-8ed2-49c0edd82026",
   "metadata": {},
   "outputs": [
    {
     "name": "stdout",
     "output_type": "stream",
     "text": [
      "1\n"
     ]
    }
   ],
   "source": [
    "numbers = [4, 5, 1, 2, 0, 4, 5, 2]\n",
    "count=0\n",
    "for i in numbers:\n",
    "    if numbers.count(i)==1:\n",
    "        print(i)\n",
    "        break"
   ]
  },
  {
   "cell_type": "markdown",
   "id": "757ef402-aa2e-409c-a9fd-3e81bcac2753",
   "metadata": {},
   "source": [
    "16. Move All Zeros to the End\n",
    "Given a list of integers, move all zeros to the end while maintaining the relative order\n",
    "of non-zero elements. Don’t use any inbuilt functions                                       \n",
    "a. numbers = [0, 1, 0, 3, 12]                               \n",
    "b. [1, 3, 12, 0, 0]"
   ]
  },
  {
   "cell_type": "code",
   "execution_count": 72,
   "id": "0a69400b-3fb4-4c9c-87e8-25bb255d62cc",
   "metadata": {},
   "outputs": [
    {
     "data": {
      "text/plain": [
       "[1, 3, 12, 0, 0]"
      ]
     },
     "execution_count": 72,
     "metadata": {},
     "output_type": "execute_result"
    }
   ],
   "source": [
    "numbers = [0, 1, 0, 3,12]\n",
    "i=0\n",
    "for j in range(1,len(numbers)):\n",
    "    if numbers[i]==0 and numbers[j]!=0:\n",
    "        numbers[i],numbers[j]=numbers[j],numbers[i]\n",
    "        i+=1\n",
    "        \n",
    "numbers"
   ]
  },
  {
   "cell_type": "markdown",
   "id": "56d8d30d-60a5-410a-b270-13eb3e1b503c",
   "metadata": {},
   "source": [
    "17. Find Elements Greater Than Their Left Neighbor                    \n",
    "a. numbers = [1, 3, 2, 6, 5, 8, 7]                                 \n",
    "b. [3, 6, 8]"
   ]
  },
  {
   "cell_type": "code",
   "execution_count": 78,
   "id": "d94395c5-3ec4-4400-a4db-e284daf647ed",
   "metadata": {},
   "outputs": [
    {
     "data": {
      "text/plain": [
       "[3, 6, 8]"
      ]
     },
     "execution_count": 78,
     "metadata": {},
     "output_type": "execute_result"
    }
   ],
   "source": [
    "numbers = [1, 3, 2, 6, 5, 8, 7]\n",
    "l=[]\n",
    "\n",
    "for i in range(len(numbers)-1):\n",
    "    j=i+1\n",
    "    if numbers[i]<numbers[j]:\n",
    "        l.append(numbers[j])\n",
    "        \n",
    "        \n",
    "\n",
    "l"
   ]
  },
  {
   "cell_type": "markdown",
   "id": "56693283-0436-4efa-96b6-cf1484cf174d",
   "metadata": {},
   "source": [
    "18. Find Triplets That Sum to Zero\n",
    "Given a list of numbers, find all unique triplets (a, b, c) such that a + b + c = 0.                             \n",
    "a. numbers = [-1, 0, 1, 2, -1, -4]                                \n",
    "b. Expected Output: [(-1, -1, 2), (-1, 0, 1)]                                         "
   ]
  },
  {
   "cell_type": "code",
   "execution_count": 12,
   "id": "0611b89a-dd63-4e3c-a7c2-fa1f38534a5b",
   "metadata": {},
   "outputs": [
    {
     "data": {
      "text/plain": [
       "[[-1, -1, 2], [-1, 0, 1]]"
      ]
     },
     "execution_count": 12,
     "metadata": {},
     "output_type": "execute_result"
    }
   ],
   "source": [
    "numbers = [-1, 0, 1, 2, -1, -4]\n",
    "numbers.sort()\n",
    "l=[]\n",
    "for i in range(len(numbers)-2):\n",
    "    if i>0 and numbers[i]==numbers[i-1]:\n",
    "        continue\n",
    "    j=i+1\n",
    "    k=len(numbers)-1\n",
    "    while(j<k):\n",
    "        if numbers[i]+numbers[j]+numbers[k]==0:\n",
    "            l.append([numbers[i],numbers[j],numbers[k]])\n",
    "            while(j<k and numbers[j]==numbers[j+1]):\n",
    "                j+=1\n",
    "            while(j<k and numbers[k]==numbers[k-1]):\n",
    "                k-=1\n",
    "            j+=1\n",
    "            k-=1\n",
    "        elif numbers[i]+numbers[j]+numbers[k]<0:\n",
    "            j+=1\n",
    "        else:\n",
    "            k-=1\n",
    "        \n",
    "l    "
   ]
  },
  {
   "cell_type": "code",
   "execution_count": null,
   "id": "11e5162e-33e7-45fa-b4f1-ce0c0abe4579",
   "metadata": {},
   "outputs": [],
   "source": [
    "4,7"
   ]
  }
 ],
 "metadata": {
  "kernelspec": {
   "display_name": "Python 3 (ipykernel)",
   "language": "python",
   "name": "python3"
  },
  "language_info": {
   "codemirror_mode": {
    "name": "ipython",
    "version": 3
   },
   "file_extension": ".py",
   "mimetype": "text/x-python",
   "name": "python",
   "nbconvert_exporter": "python",
   "pygments_lexer": "ipython3",
   "version": "3.12.4"
  }
 },
 "nbformat": 4,
 "nbformat_minor": 5
}
