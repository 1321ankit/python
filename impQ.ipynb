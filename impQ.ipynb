{
 "cells": [
  {
   "cell_type": "markdown",
   "id": "79132d63-a337-414e-85ff-c27e96ab09b9",
   "metadata": {},
   "source": [
    "Q1  Whrite a program to print all prime numbers that fall in between two numbers including both (accept two numbers from the users)"
   ]
  },
  {
   "cell_type": "code",
   "execution_count": 3,
   "id": "d4132d72-0648-42f3-bb40-ce12510fe75b",
   "metadata": {},
   "outputs": [
    {
     "name": "stdin",
     "output_type": "stream",
     "text": [
      "enter the number1 100\n"
     ]
    },
    {
     "name": "stdout",
     "output_type": "stream",
     "text": [
      "2  3  5  7  11  13  17  19  23  29  31  37  41  43  47  53  59  61  67  71  73  79  83  89  97  "
     ]
    }
   ],
   "source": [
    "\n",
    "num1=int(input('enter the number1'))\n",
    "for i in range(2,num1+1):\n",
    "    k=0\n",
    "    for j in range(2,i):\n",
    "        if i%j==0:\n",
    "            k=1\n",
    "            break\n",
    "\n",
    "    if k==0:\n",
    "        print(i,end='  ')\n",
    "    \n",
    "            \n",
    "            "
   ]
  },
  {
   "cell_type": "markdown",
   "id": "bb539447-4940-49ce-bbc9-7b7e6e47b81b",
   "metadata": {},
   "source": [
    "Q2  ABCD PATTERN :-"
   ]
  },
  {
   "cell_type": "code",
   "execution_count": 10,
   "id": "5e3b084e-daf9-4fe4-b0c2-c7ad3bb56eb2",
   "metadata": {},
   "outputs": [
    {
     "data": {
      "text/plain": [
       "65"
      ]
     },
     "execution_count": 10,
     "metadata": {},
     "output_type": "execute_result"
    }
   ],
   "source": [
    "ord('A')"
   ]
  },
  {
   "cell_type": "code",
   "execution_count": 12,
   "id": "57297d67-8dec-4fca-9aec-7d7fe31973d4",
   "metadata": {},
   "outputs": [
    {
     "data": {
      "text/plain": [
       "'A'"
      ]
     },
     "execution_count": 12,
     "metadata": {},
     "output_type": "execute_result"
    }
   ],
   "source": [
    "chr(l)"
   ]
  },
  {
   "cell_type": "code",
   "execution_count": 5,
   "id": "03f3ef12-65ae-437b-8274-5c1aca325e0b",
   "metadata": {},
   "outputs": [
    {
     "name": "stdout",
     "output_type": "stream",
     "text": [
      "A\n",
      "BC\n",
      "DEF\n",
      "GHIJ\n",
      "KLMNO\n"
     ]
    }
   ],
   "source": [
    "l=65\n",
    "for i in range(1,6):\n",
    "     for j in range(1,i+1):\n",
    "       print(chr(l),end='')\n",
    "       l=l+1\n",
    "     print()"
   ]
  },
  {
   "cell_type": "code",
   "execution_count": 14,
   "id": "a954dc37-10fb-4cb3-a4e8-c83647345a34",
   "metadata": {},
   "outputs": [
    {
     "name": "stdin",
     "output_type": "stream",
     "text": [
      "enter the number 5\n"
     ]
    },
    {
     "name": "stdout",
     "output_type": "stream",
     "text": [
      "A\n",
      "AB\n",
      "ABC\n",
      "ABCD\n",
      "ABCDE\n"
     ]
    }
   ],
   "source": [
    "l=65\n",
    "n=int(input('enter the number'))\n",
    "for i in range(n):\n",
    "     for j in range(i+1):\n",
    "       print(chr(l+j),end='')\n",
    "       \n",
    "     print()"
   ]
  },
  {
   "cell_type": "code",
   "execution_count": 15,
   "id": "e095ffc4-5d06-4a01-b9a9-8c73ff17856c",
   "metadata": {},
   "outputs": [
    {
     "name": "stdin",
     "output_type": "stream",
     "text": [
      "enter the number 5\n"
     ]
    },
    {
     "name": "stdout",
     "output_type": "stream",
     "text": [
      "A\n",
      "BB\n",
      "CCC\n",
      "DDDD\n",
      "EEEEE\n"
     ]
    }
   ],
   "source": [
    "l=65\n",
    "n=int(input('enter the number'))\n",
    "for i in range(n):\n",
    "     for j in range(i+1):\n",
    "       print(chr(l+i),end='')\n",
    "       \n",
    "     print()"
   ]
  },
  {
   "cell_type": "markdown",
   "id": "f97c9dd6-7092-48d6-87a3-ab0fb2a5e95e",
   "metadata": {},
   "source": [
    "Q3 "
   ]
  },
  {
   "cell_type": "code",
   "execution_count": 4,
   "id": "25fed501-4091-4afc-8688-cbb1fdde885d",
   "metadata": {},
   "outputs": [],
   "source": [
    "sample='how are you?'      #convert this into .title format without using title function.\n",
    "                            # then convert it into a string."
   ]
  },
  {
   "cell_type": "code",
   "execution_count": 5,
   "id": "6ceb1356-8885-4cc2-976d-843b67bf6311",
   "metadata": {},
   "outputs": [
    {
     "data": {
      "text/plain": [
       "'How Are You?'"
      ]
     },
     "execution_count": 5,
     "metadata": {},
     "output_type": "execute_result"
    }
   ],
   "source": [
    "sample.title()"
   ]
  },
  {
   "cell_type": "code",
   "execution_count": 6,
   "id": "de5bc2bc-09b2-4343-8ff0-58fead53ab41",
   "metadata": {},
   "outputs": [],
   "source": [
    "#ANS"
   ]
  },
  {
   "cell_type": "code",
   "execution_count": 7,
   "id": "c7843345-3d64-4e01-83ab-dec8696ed7c9",
   "metadata": {},
   "outputs": [
    {
     "name": "stdout",
     "output_type": "stream",
     "text": [
      "['how', 'are', 'you?']\n"
     ]
    }
   ],
   "source": [
    "x=sample.split()\n",
    "print(x)"
   ]
  },
  {
   "cell_type": "code",
   "execution_count": 8,
   "id": "da460707-16ae-4782-9dd7-9f3fae98d939",
   "metadata": {},
   "outputs": [
    {
     "name": "stdout",
     "output_type": "stream",
     "text": [
      "How\n",
      "Are\n",
      "You?\n"
     ]
    }
   ],
   "source": [
    "for i in x:\n",
    "    print(i.capitalize())"
   ]
  },
  {
   "cell_type": "code",
   "execution_count": 9,
   "id": "fee7fa05-badf-42c2-aff3-9e049323c4a8",
   "metadata": {},
   "outputs": [],
   "source": [
    "list1=[]"
   ]
  },
  {
   "cell_type": "code",
   "execution_count": 10,
   "id": "d09339e6-36bf-43fa-aa04-92fee76cf294",
   "metadata": {},
   "outputs": [],
   "source": [
    "for i in x:\n",
    "    list1.append(i.capitalize())"
   ]
  },
  {
   "cell_type": "code",
   "execution_count": 11,
   "id": "47b4952a-d5ed-4afa-9a77-e24618cf99dc",
   "metadata": {},
   "outputs": [
    {
     "data": {
      "text/plain": [
       "['How', 'Are', 'You?']"
      ]
     },
     "execution_count": 11,
     "metadata": {},
     "output_type": "execute_result"
    }
   ],
   "source": [
    "list1"
   ]
  },
  {
   "cell_type": "code",
   "execution_count": 18,
   "id": "ad1e78be-71bb-4fe0-8820-3d553301e28e",
   "metadata": {},
   "outputs": [
    {
     "data": {
      "text/plain": [
       "'How Are You?'"
      ]
     },
     "execution_count": 18,
     "metadata": {},
     "output_type": "execute_result"
    }
   ],
   "source": [
    "' '.join(list1)"
   ]
  },
  {
   "cell_type": "markdown",
   "id": "cb8b3ca9-5f21-406e-a1b0-05390579a2fe",
   "metadata": {},
   "source": [
    "Q4  remove the duplicat values."
   ]
  },
  {
   "cell_type": "code",
   "execution_count": 19,
   "id": "f9b58bf0-0d2b-44c9-82ec-debebf543eaf",
   "metadata": {},
   "outputs": [],
   "source": [
    "list=[1,1,2,2,3,3,4,4,5,1]"
   ]
  },
  {
   "cell_type": "code",
   "execution_count": 20,
   "id": "5ef690ab-ae27-4bc6-a401-a9ad28a9a802",
   "metadata": {},
   "outputs": [],
   "source": [
    "list1=[]"
   ]
  },
  {
   "cell_type": "code",
   "execution_count": 21,
   "id": "42d67d54-5eb7-4159-b177-071a05077e30",
   "metadata": {},
   "outputs": [
    {
     "name": "stdout",
     "output_type": "stream",
     "text": [
      "[1, 2, 3, 4, 5]\n"
     ]
    }
   ],
   "source": [
    "for i in list:\n",
    "    if i not in list1:\n",
    "        list1.append(i)\n",
    "\n",
    "print(list1)"
   ]
  },
  {
   "cell_type": "markdown",
   "id": "d3e2adfe-62f1-4d6a-b663-233b148c9daf",
   "metadata": {},
   "source": [
    "Q5 remove the name before @ ."
   ]
  },
  {
   "cell_type": "code",
   "execution_count": 22,
   "id": "36ad224a-7297-4d65-afb8-e8c119c43123",
   "metadata": {},
   "outputs": [],
   "source": [
    "sample='ankit@gmail.com'"
   ]
  },
  {
   "cell_type": "code",
   "execution_count": 26,
   "id": "b7a1165f-01ee-4d8f-9378-cd6105a661c0",
   "metadata": {},
   "outputs": [
    {
     "name": "stdout",
     "output_type": "stream",
     "text": [
      "ankit\n"
     ]
    }
   ],
   "source": [
    "print(sample[:sample.index('@')])"
   ]
  },
  {
   "cell_type": "code",
   "execution_count": 27,
   "id": "29167551-7e30-4001-8dcf-ed3dd72825ad",
   "metadata": {},
   "outputs": [],
   "source": [
    "example='ayush@gmail.com'\n"
   ]
  },
  {
   "cell_type": "code",
   "execution_count": 28,
   "id": "a5050530-6735-43f4-b4f0-17580e99ccee",
   "metadata": {},
   "outputs": [
    {
     "data": {
      "text/plain": [
       "'ayush'"
      ]
     },
     "execution_count": 28,
     "metadata": {},
     "output_type": "execute_result"
    }
   ],
   "source": [
    "example[:example.index('@')]"
   ]
  },
  {
   "cell_type": "markdown",
   "id": "88c01a5c-e53c-4cce-ac25-9b78e0dd322d",
   "metadata": {},
   "source": [
    "Q6  Write a function that counts the occurrences of each element in a tuple using a loop."
   ]
  },
  {
   "cell_type": "code",
   "execution_count": 2,
   "id": "cff5e462-f9f2-47c6-badc-6b5040088dda",
   "metadata": {},
   "outputs": [
    {
     "name": "stdout",
     "output_type": "stream",
     "text": [
      "{1: 1, 2: 3, 3: 3, 4: 3, 5: 3}\n"
     ]
    }
   ],
   "source": [
    "tuple=(1,2,3,4,5,4,3,4,2,5,3,5,2)\n",
    "count={}   #empty dictionary\n",
    "for item in tuple:\n",
    "    if item in count:\n",
    "        count[item]=count[item]+1\n",
    "    else:\n",
    "        count[item]=1\n",
    "\n",
    "print(count)"
   ]
  },
  {
   "cell_type": "markdown",
   "id": "845ce2e4-1aa6-4bd2-bd62-3f14242a1eba",
   "metadata": {},
   "source": [
    "Q7  Write a function that generates combinations of all possible lengths from a given \n",
    "list.\n",
    "print(all_combinations([1, 2, 3])) \n",
    "\n",
    "\n",
    "\n",
    "\n",
    " Output: [(), (1,), (2,), (3,), (1, 2), (1, 3), (2, 3), (1, 2, 3)]"
   ]
  },
  {
   "cell_type": "markdown",
   "id": "f76d485e-59e4-47b3-925d-bc41b646e7ec",
   "metadata": {},
   "source": [
    "Q8 Accessing List/Tuple Elements via Loop     \n",
    "ENUMERATE FUNCTION"
   ]
  },
  {
   "cell_type": "code",
   "execution_count": 1,
   "id": "7352160d-e249-49b7-a685-bdffdaabba6c",
   "metadata": {},
   "outputs": [
    {
     "name": "stdout",
     "output_type": "stream",
     "text": [
      "index:0,value:10\n",
      "index:1,value:20\n",
      "index:2,value:30\n",
      "index:3,value:40\n"
     ]
    }
   ],
   "source": [
    "numbers=(10,20,30,40)\n",
    "for index,num in enumerate(numbers):\n",
    "    print(f'index:{index},value:{num}')"
   ]
  },
  {
   "cell_type": "markdown",
   "id": "bb75b311-09b1-44e4-a754-5b2371028872",
   "metadata": {},
   "source": [
    "Q9 ZIP FUNCTION"
   ]
  },
  {
   "cell_type": "code",
   "execution_count": 2,
   "id": "a6f646e1-9b13-4897-a01f-46c105f2e308",
   "metadata": {},
   "outputs": [
    {
     "name": "stdout",
     "output_type": "stream",
     "text": [
      "name:ankit, age:12\n",
      "name:anuj, age:13\n",
      "name:anurag, age:14\n"
     ]
    }
   ],
   "source": [
    "names=['ankit','anuj','anurag']\n",
    "ages=(12,13,14)\n",
    "for name, age in zip(names,ages):\n",
    "    print(f'name:{name}, age:{age}')"
   ]
  },
  {
   "cell_type": "markdown",
   "id": "046ca596-4428-4aa1-8de9-78bbc23f70db",
   "metadata": {},
   "source": [
    "Q10 BOTH ENUMERATE AND ZIP FUNCTION"
   ]
  },
  {
   "cell_type": "code",
   "execution_count": 3,
   "id": "f78a7093-5b3c-4ddb-a5cb-4db9876e3462",
   "metadata": {},
   "outputs": [
    {
     "name": "stdout",
     "output_type": "stream",
     "text": [
      "index:0, fruit:apple,quantity: 5\n",
      "index:1, fruit:banana,quantity: 10\n",
      "index:2, fruit:cherry,quantity: 15\n"
     ]
    }
   ],
   "source": [
    "fruits=['apple','banana','cherry']\n",
    "quantities=(5,10,15)\n",
    "for index, (fruit,quantity) in enumerate(zip(fruits, quantities)):\n",
    "    print(f'index:{index}, fruit:{fruit},quantity: {quantity}')"
   ]
  },
  {
   "cell_type": "markdown",
   "id": "31741c36-b79a-4f35-ae45-312445ab4186",
   "metadata": {},
   "source": [
    "Summary:\n",
    "The enumerate() function provides both the index and the value while iterating through a list or tuple.\n",
    "The zip() function allows you to iterate over multiple iterables simultaneously, and you can access elements from each iterable in parallel.\n",
    "You can combine enumerate() and zip() to track the index while iterating through multiple iterables together."
   ]
  },
  {
   "cell_type": "markdown",
   "id": "123cbeec-0b37-4488-adff-dd33b7e3b76b",
   "metadata": {},
   "source": [
    "Q11 Write a program that appends the square of each element \n",
    "in a list to the end of the same list using a for loop."
   ]
  },
  {
   "cell_type": "code",
   "execution_count": 1,
   "id": "5415f7f0-1c47-477a-8604-06f54611b4e1",
   "metadata": {},
   "outputs": [
    {
     "name": "stdout",
     "output_type": "stream",
     "text": [
      "[1, 2, 3, 4, 1, 4, 9, 16]\n"
     ]
    }
   ],
   "source": [
    "num=[1,2,3,4]\n",
    "length=len(num)\n",
    "for i in range(length):\n",
    "    square=num[i]**2\n",
    "    num.append(square)\n",
    "\n",
    "print(num)"
   ]
  },
  {
   "cell_type": "code",
   "execution_count": 2,
   "id": "ce240e17-ae36-49f9-9a7e-db62a20a1160",
   "metadata": {},
   "outputs": [
    {
     "name": "stdout",
     "output_type": "stream",
     "text": [
      "[1, 2, 3, 4, 1, 4, 9, 16]\n"
     ]
    }
   ],
   "source": [
    "# other method\n",
    "num=[1,2,3,4]\n",
    "length=len(num)\n",
    "for i in range(1,length+1):\n",
    "    square=i**2\n",
    "    num.append(square)\n",
    "\n",
    "print(num)\n"
   ]
  },
  {
   "cell_type": "code",
   "execution_count": 3,
   "id": "594b1517-44f3-4907-beec-1307d4e9d9e6",
   "metadata": {},
   "outputs": [
    {
     "name": "stdout",
     "output_type": "stream",
     "text": [
      "1\n",
      "2\n",
      "3\n",
      "4\n"
     ]
    }
   ],
   "source": [
    "num=[1,2,3,4]\n",
    "length=len(num)\n",
    "\n",
    "for i in range(length):\n",
    "    print(num[i])"
   ]
  },
  {
   "cell_type": "markdown",
   "id": "d2775267-d6fb-4ecb-84f0-3c56cd2ceafb",
   "metadata": {},
   "source": [
    "Q12 Write a program that iterates over a set of integers and adds 10 to each element. Explain if this is possible and why."
   ]
  },
  {
   "cell_type": "markdown",
   "id": "30f70142-7269-4013-a7df-2b58be41ba1f",
   "metadata": {},
   "source": [
    "#ANS\n",
    "How it works:         \n",
    "We can't change the set elements directly, so we create a new set called updated_numbers.     \n",
    "We go through each number in the numbers set, add 10 to it, and store the result in the new set.       \n",
    "At the end, updated_numbers contains all the original numbers, but each one is increased by 10."
   ]
  },
  {
   "cell_type": "code",
   "execution_count": 4,
   "id": "6dea73d9-b98c-47f9-9689-3bd9024fa483",
   "metadata": {},
   "outputs": [
    {
     "name": "stdout",
     "output_type": "stream",
     "text": [
      "{11, 12, 13, 14, 15}\n"
     ]
    }
   ],
   "source": [
    "s={1,2,3,4,5}\n",
    "s1=set() \n",
    "for i in s:\n",
    "    s1.add(i+10)\n",
    "\n",
    "print(s1)"
   ]
  },
  {
   "cell_type": "markdown",
   "id": "9992df21-eb7b-4589-a26e-4aa9402df1a1",
   "metadata": {},
   "source": [
    "Q13 Given a list of lists, write a program to iterate over each inner list and increment each element by 1."
   ]
  },
  {
   "cell_type": "code",
   "execution_count": 23,
   "id": "e86bc28f-af97-4da0-ad77-52b0b2ae1060",
   "metadata": {},
   "outputs": [
    {
     "name": "stdout",
     "output_type": "stream",
     "text": [
      "[[2, 3, 4], [5, 6, 7], [8, 9, 10]]\n"
     ]
    }
   ],
   "source": [
    "list=[[1,2,3],[4,5,6],[7,8,9]]\n",
    "\n",
    "for i in list:\n",
    "    for j in range(len(i)):\n",
    "        i[j]+=1\n",
    "\n",
    "print(list)"
   ]
  },
  {
   "cell_type": "code",
   "execution_count": 25,
   "id": "2db035f1-b65b-4349-b0a0-6189fd55c6cd",
   "metadata": {},
   "outputs": [
    {
     "name": "stdout",
     "output_type": "stream",
     "text": [
      "[2, 3, 4, 5, 6, 7, 8, 9, 10]\n"
     ]
    }
   ],
   "source": [
    "list=[[1,2,3],[4,5,6],[7,8,9]]\n",
    "l=[]\n",
    "for i in list:\n",
    "    for j in i:\n",
    "        l.append(j+1)\n",
    "\n",
    "print(l)"
   ]
  },
  {
   "cell_type": "markdown",
   "id": "851745c9-34ac-4c04-98b0-64a4e1334330",
   "metadata": {},
   "source": [
    "Q14 Given a dictionary, write a program to iterate over it and increase each value by 5. "
   ]
  },
  {
   "cell_type": "code",
   "execution_count": 9,
   "id": "bf129b16-f811-4365-bbe8-82cacae1b3d2",
   "metadata": {},
   "outputs": [
    {
     "name": "stdout",
     "output_type": "stream",
     "text": [
      "{'ankit': 93, 'anuj': 82, 'anny': 83}\n"
     ]
    }
   ],
   "source": [
    "scores={'ankit':88,'anuj':77,'anny':78}\n",
    "for i in scores:\n",
    "    scores[i]=scores[i]+5\n",
    "\n",
    "print(scores)"
   ]
  },
  {
   "cell_type": "markdown",
   "id": "6feacb19-e342-4ccb-b053-650ce14880c1",
   "metadata": {},
   "source": [
    "Q15 Write a Python program to flatten a list of lists using nested for loops."
   ]
  },
  {
   "cell_type": "code",
   "execution_count": 10,
   "id": "f9740e25-423a-4506-a942-9f7108dee657",
   "metadata": {},
   "outputs": [
    {
     "name": "stdout",
     "output_type": "stream",
     "text": [
      "[1, 2, 3, 4, 5, 6, 7, 8, 9]\n"
     ]
    }
   ],
   "source": [
    "list4=[[1,2,3],[4,5,6],[7,8,9]]\n",
    "list=[]\n",
    "for i in list4:\n",
    "    for j in i:\n",
    "        list.append(j)\n",
    "\n",
    "print(list)"
   ]
  },
  {
   "cell_type": "markdown",
   "id": "01e97676-62d1-4c8d-927c-0527b6163a09",
   "metadata": {},
   "source": [
    "Q16 Write a Python program to find and print duplicates in a list using a for loop and a set."
   ]
  },
  {
   "cell_type": "code",
   "execution_count": 26,
   "id": "bf0b0de4-3ef8-412e-ba81-9a3c74d45312",
   "metadata": {},
   "outputs": [
    {
     "name": "stdout",
     "output_type": "stream",
     "text": [
      "{1, 2}\n",
      "{1, 2, 3, 4, 5, 6}\n"
     ]
    }
   ],
   "source": [
    "list=[1,2,3,2,4,5,1,6]\n",
    "present=set()\n",
    "duplicate=set()\n",
    "for i in list:\n",
    "    if i in present:\n",
    "        duplicate.add(i)    # If the number is already in present, add it to duplicates\n",
    "    else:\n",
    "         present.add(i)    # Otherwise, add it to present\n",
    "\n",
    "print(duplicate)\n",
    "print(present)      \n",
    "    "
   ]
  },
  {
   "cell_type": "code",
   "execution_count": 15,
   "id": "d18d3cdc-faa2-495e-b2b9-3fd3f8dc1d79",
   "metadata": {},
   "outputs": [
    {
     "name": "stdin",
     "output_type": "stream",
     "text": [
      "enter the number 5\n"
     ]
    },
    {
     "name": "stdout",
     "output_type": "stream",
     "text": [
      "1\n",
      "121\n",
      "12321\n",
      "1234321\n",
      "123454321\n"
     ]
    }
   ],
   "source": [
    "n=int(input('enter the number'))\n",
    "for i in range(1,n+1):\n",
    "    for j in range(1,i+1):\n",
    "        print(j,end='')\n",
    "    for j in range(i-1,0,-1):\n",
    "        print(j,end='')    \n",
    "    print()    "
   ]
  },
  {
   "cell_type": "code",
   "execution_count": 32,
   "id": "e9d9996d-83f6-44d3-b524-0e736d89c910",
   "metadata": {},
   "outputs": [
    {
     "name": "stdin",
     "output_type": "stream",
     "text": [
      "enter the number 5\n"
     ]
    },
    {
     "name": "stdout",
     "output_type": "stream",
     "text": [
      "1\n",
      "121\n",
      "12321\n",
      "1234321\n",
      "123454321\n"
     ]
    }
   ],
   "source": [
    "n=int(input('enter the number'))\n",
    "for i in range(n):\n",
    "    for j in range(i+1):\n",
    "        print(j+1,end='')\n",
    "    for j in range(i,0,-1):\n",
    "        print(j,end='')    \n",
    "    print() "
   ]
  },
  {
   "cell_type": "markdown",
   "id": "6acec919-c1f3-4ead-9161-4aa34530a6e9",
   "metadata": {},
   "source": [
    "find second large number in a list"
   ]
  },
  {
   "cell_type": "code",
   "execution_count": 7,
   "id": "7552d1bc-9c29-4f75-bf87-fc009b1d60c1",
   "metadata": {},
   "outputs": [
    {
     "name": "stdout",
     "output_type": "stream",
     "text": [
      "4\n"
     ]
    }
   ],
   "source": [
    "l=[1,2,3,4,5]\n",
    "first_large=l[0]\n",
    "sec_large=float('-inf')      # inititalizing with negative infinity\n",
    "for i in l:\n",
    "    if i>first_large:\n",
    "        sec_large=first_large\n",
    "        first_large=i\n",
    "    elif i>sec_large and i!=first_large:\n",
    "        sec_large=i\n",
    "\n",
    "print(sec_large)"
   ]
  },
  {
   "cell_type": "markdown",
   "id": "62919d54-bf80-4f4b-ad74-c47864f8a0ee",
   "metadata": {},
   "source": [
    "find second minimun number in a list"
   ]
  },
  {
   "cell_type": "code",
   "execution_count": 8,
   "id": "4e7e12a8-daf3-46f2-9f30-148faeedcfa4",
   "metadata": {},
   "outputs": [
    {
     "name": "stdout",
     "output_type": "stream",
     "text": [
      "2\n"
     ]
    }
   ],
   "source": [
    "l=[1,2,3,4,5]\n",
    "first_min=l[0]\n",
    "sec_min=float('inf')    # inititalizing with positive infinity\n",
    "for i in l:\n",
    "    if i<first_min:\n",
    "        sec_min=first_min\n",
    "        first_min=i\n",
    "    \n",
    "    elif  i<sec_min and i!=first_min:\n",
    "        sec_min=i\n",
    "\n",
    "print(sec_min)"
   ]
  },
  {
   "cell_type": "code",
   "execution_count": null,
   "id": "08d63cb7-4ac2-4ec9-8341-49788b261487",
   "metadata": {},
   "outputs": [],
   "source": [
    "# generate Pascal's Triangle"
   ]
  },
  {
   "cell_type": "code",
   "execution_count": 1,
   "id": "910dbad2-9aa6-4dac-a320-1e619e8619fc",
   "metadata": {},
   "outputs": [
    {
     "name": "stdout",
     "output_type": "stream",
     "text": [
      "[[1], [1, 1], [1, 2, 1], [1, 3, 3, 1], [1, 4, 6, 4, 1]]\n"
     ]
    }
   ],
   "source": [
    "mylist=[]\n",
    "for i in range(0,5):\n",
    "    temp=[]\n",
    "    for j in range(0,i+1):\n",
    "        if(j==0 or j==i):\n",
    "            temp.append(1)\n",
    "        else:\n",
    "            temp.append(mylist[i-1][j-1] + mylist[i-1][j])\n",
    "\n",
    "    mylist.append(temp)\n",
    "\n",
    "\n",
    "print(mylist)"
   ]
  },
  {
   "cell_type": "code",
   "execution_count": null,
   "id": "a9333a08-d2fc-42ff-ae5d-b5f844aa8ca2",
   "metadata": {},
   "outputs": [],
   "source": [
    "# generate Pascal's Triangle"
   ]
  },
  {
   "cell_type": "code",
   "execution_count": 2,
   "id": "3f6ee6df-fef3-4f74-9c86-ce94855c24ff",
   "metadata": {},
   "outputs": [
    {
     "name": "stdout",
     "output_type": "stream",
     "text": [
      "[[1], [1, 1], [1, 2, 1], [1, 3, 3, 1], [1, 4, 6, 4, 1]]\n"
     ]
    }
   ],
   "source": [
    "l=[[1]]\n",
    "n=5\n",
    "for i in range(0,n-1):\n",
    "    temp=[0]+l[-1]+[0]\n",
    "    l1=[]\n",
    "    for j in range(len(l)+1):\n",
    "        l1.append(temp[j]+temp[j+1])\n",
    "\n",
    "    l.append(l1)\n",
    "\n",
    "print(l)"
   ]
  },
  {
   "cell_type": "code",
   "execution_count": 2,
   "id": "2dbc3ecb-43c2-48f4-a5f1-c8da17d83c3d",
   "metadata": {},
   "outputs": [
    {
     "name": "stdin",
     "output_type": "stream",
     "text": [
      "enter the number 4\n"
     ]
    },
    {
     "name": "stdout",
     "output_type": "stream",
     "text": [
      "[[1], [1, 1], [1, 2, 1], [1, 3, 3, 1]]\n",
      "   1 \n",
      "  1 1 \n",
      " 1 2 1 \n",
      "1 3 3 1 \n"
     ]
    }
   ],
   "source": [
    "l=[]\n",
    "n=int(input('enter the number'))\n",
    "for i in range(0,n):\n",
    "    l1=[]\n",
    "    for j in range(0,i+1):\n",
    "        if j==0 or j==i:\n",
    "            l1.append(1)\n",
    "        else:\n",
    "            l1.append(l[i-1][j-1]+l[i-1][j])\n",
    "    l.append(l1)\n",
    "print(l)\n",
    "for i in range(len(l)):  # Loop over each row\n",
    "    # Print spaces to align the triangle\n",
    "    for s in range(n - len(l[i])):\n",
    "        print(\" \", end=\"\")\n",
    "\n",
    "    # Print each element in the row\n",
    "    for j in range(len(l[i])):\n",
    "        print(l[i][j], end=\" \")\n",
    "    \n",
    "    # Move to the next line after each row is printed\n",
    "    print()    \n",
    "            "
   ]
  },
  {
   "cell_type": "code",
   "execution_count": 13,
   "id": "c55b155d-20de-44e6-8abc-96938d49909a",
   "metadata": {},
   "outputs": [
    {
     "name": "stdin",
     "output_type": "stream",
     "text": [
      "enter the number 5\n"
     ]
    },
    {
     "name": "stdout",
     "output_type": "stream",
     "text": [
      "[[1], [1, 1], [1, 2, 1], [1, 3, 3, 1], [1, 4, 6, 4, 1]]\n",
      "    1\n",
      "   11\n",
      "  121\n",
      " 1331\n",
      "14641\n"
     ]
    }
   ],
   "source": [
    "l=[]\n",
    "n=int(input('enter the number'))\n",
    "for i in range(0,n):\n",
    "    l1=[]\n",
    "    for j in range(0,i+1):\n",
    "        if j==0 or j==i:\n",
    "            l1.append(1)\n",
    "        else:\n",
    "            l1.append(l[i-1][j-1]+l[i-1][j])\n",
    "    l.append(l1)\n",
    "print(l)\n",
    "for i in range(len(l)):\n",
    "    for s in range(n-len(l[i])):\n",
    "        print(' ',end='')\n",
    "    for j in range(len(l[i])):\n",
    "        print(l[i][j],end='')\n",
    "    print()"
   ]
  },
  {
   "cell_type": "markdown",
   "id": "e14dc641-c127-43af-be6b-5de0238699ea",
   "metadata": {},
   "source": [
    "#### "
   ]
  }
 ],
 "metadata": {
  "kernelspec": {
   "display_name": "Python 3 (ipykernel)",
   "language": "python",
   "name": "python3"
  },
  "language_info": {
   "codemirror_mode": {
    "name": "ipython",
    "version": 3
   },
   "file_extension": ".py",
   "mimetype": "text/x-python",
   "name": "python",
   "nbconvert_exporter": "python",
   "pygments_lexer": "ipython3",
   "version": "3.12.4"
  }
 },
 "nbformat": 4,
 "nbformat_minor": 5
}
